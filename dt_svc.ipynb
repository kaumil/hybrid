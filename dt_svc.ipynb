{
 "cells": [
  {
   "cell_type": "markdown",
   "metadata": {},
   "source": [
    "# classification"
   ]
  },
  {
   "cell_type": "code",
   "execution_count": 1,
   "metadata": {},
   "outputs": [],
   "source": [
    "import pandas as pd\n",
    "from scipy.io.arff import loadarff\n",
    "import numpy as np\n",
    "from numpy.random import seed\n",
    "seed(42)\n",
    "from sklearn.preprocessing import LabelEncoder\n",
    "import re,os\n",
    "\n",
    "#feature selection\n",
    "from sklearn.feature_selection import SelectFromModel\n",
    "from imblearn.datasets import fetch_datasets\n",
    "\n",
    "#model selection imports\n",
    "from sklearn.model_selection import train_test_split,cross_val_score,KFold,StratifiedKFold\n",
    "\n",
    "#algorithms\n",
    "from sklearn.tree import DecisionTreeClassifier\n",
    "from sklearn.svm import SVC\n",
    "\n",
    "#metrics\n",
    "from sklearn.metrics import f1_score,roc_auc_score,accuracy_score\n",
    "\n",
    "PATH = \"data/\""
   ]
  },
  {
   "cell_type": "markdown",
   "metadata": {},
   "source": [
    "# pima diabetes"
   ]
  },
  {
   "cell_type": "code",
   "execution_count": 17,
   "metadata": {},
   "outputs": [],
   "source": [
    "df = pd.read_csv(os.path.join(PATH,\"pima/diabetes.csv\"))\n",
    "y = df['Outcome']\n",
    "df = df.drop(['Outcome'],axis=1)\n",
    "X_train,X_test,y_train,y_test = train_test_split(df,y,random_state=42,test_size=0.3)"
   ]
  },
  {
   "cell_type": "code",
   "execution_count": 18,
   "metadata": {},
   "outputs": [
    {
     "name": "stdout",
     "output_type": "stream",
     "text": [
      "0.7018284347231716\n",
      "0.5660823367518942\n"
     ]
    }
   ],
   "source": [
    "dt_clf = DecisionTreeClassifier(random_state=42)\n",
    "print(np.mean(cross_val_score(dt_clf,df,y,cv=10,scoring='accuracy')))\n",
    "print(np.mean(cross_val_score(dt_clf,df,y,cv=10,scoring='f1')))"
   ]
  },
  {
   "cell_type": "code",
   "execution_count": 19,
   "metadata": {},
   "outputs": [
    {
     "name": "stdout",
     "output_type": "stream",
     "text": [
      "0.7382775119617225\n",
      "0.551915423751622\n"
     ]
    }
   ],
   "source": [
    "svm_clf = SVC(random_state=42,kernel='rbf',gamma='scale')\n",
    "print(np.mean(cross_val_score(svm_clf,df,y,cv=10,scoring='accuracy')))\n",
    "print(np.mean(cross_val_score(svm_clf,df,y,cv=10,scoring='f1')))"
   ]
  },
  {
   "cell_type": "code",
   "execution_count": 20,
   "metadata": {},
   "outputs": [
    {
     "name": "stdout",
     "output_type": "stream",
     "text": [
      "features selected:  3\n"
     ]
    },
    {
     "name": "stderr",
     "output_type": "stream",
     "text": [
      "C:\\Users\\kaumi\\Anaconda3\\lib\\site-packages\\ipykernel_launcher.py:7: SettingWithCopyWarning: \n",
      "A value is trying to be set on a copy of a slice from a DataFrame.\n",
      "Try using .loc[row_indexer,col_indexer] = value instead\n",
      "\n",
      "See the caveats in the documentation: http://pandas.pydata.org/pandas-docs/stable/indexing.html#indexing-view-versus-copy\n",
      "  import sys\n"
     ]
    },
    {
     "name": "stdout",
     "output_type": "stream",
     "text": [
      "0.7747095010252905\n",
      "0.6432295924116992\n"
     ]
    }
   ],
   "source": [
    "dt_clf.fit(X_train,y_train)\n",
    "sel = SelectFromModel(dt_clf,prefit=True)\n",
    "# sel.fit(df,y)\n",
    "print(\"features selected: \",sum(sel.get_support()))\n",
    "selected_feat_df = df.loc[:,sel.get_support()]\n",
    "# dt_clf.fit(X_train,y_train)\n",
    "selected_feat_df['dt_output']=dt_clf.predict(df)\n",
    "print(np.mean(cross_val_score(svm_clf,selected_feat_df,y,cv=10,scoring='accuracy')))\n",
    "print(np.mean(cross_val_score(svm_clf,selected_feat_df,y,cv=10,scoring='f1')))"
   ]
  },
  {
   "cell_type": "markdown",
   "metadata": {},
   "source": [
    "# SPECT images"
   ]
  },
  {
   "cell_type": "code",
   "execution_count": 2,
   "metadata": {},
   "outputs": [],
   "source": [
    "df_spect = pd.read_csv(os.path.join(PATH,\"spect/SPECT.train\"),header=None)\n",
    "y_train_spect = df_spect[0]\n",
    "X_train_spect = df_spect.drop([0],axis=1)\n",
    "df_spect_test = pd.read_csv(os.path.join(PATH,\"spect/SPECT.test\"),header=None)\n",
    "y_test_spect = df_spect_test[0]\n",
    "X_test_spect = df_spect_test.drop([0],axis=1)\n",
    "df_spect = df_spect.append(df_spect_test,ignore_index=True)\n",
    "df_spect = df_spect.drop([0],axis=1)\n",
    "y_spect = y_train_spect.append(y_test_spect,ignore_index=True)"
   ]
  },
  {
   "cell_type": "code",
   "execution_count": 22,
   "metadata": {},
   "outputs": [
    {
     "name": "stdout",
     "output_type": "stream",
     "text": [
      "0.7598087098087098\n",
      "0.837036168734322\n"
     ]
    }
   ],
   "source": [
    "dt_clf_spect = DecisionTreeClassifier(random_state=42)\n",
    "print(np.mean(cross_val_score(dt_clf_spect,df_spect,y_spect,cv=10,scoring='accuracy')))\n",
    "print(np.mean(cross_val_score(dt_clf_spect,df_spect,y_spect,cv=10,scoring='f1')))"
   ]
  },
  {
   "cell_type": "code",
   "execution_count": 25,
   "metadata": {},
   "outputs": [
    {
     "name": "stdout",
     "output_type": "stream",
     "text": [
      "0.823819698819699\n",
      "0.8904873222018754\n"
     ]
    }
   ],
   "source": [
    "svm_clf_spect = SVC(random_state=42,gamma='scale')\n",
    "print(np.mean(cross_val_score(svm_clf_spect,df_spect,y_spect,cv=10,scoring='accuracy')))\n",
    "print(np.mean(cross_val_score(svm_clf_spect,df_spect,y_spect,cv=10,scoring='f1')))"
   ]
  },
  {
   "cell_type": "code",
   "execution_count": 26,
   "metadata": {},
   "outputs": [
    {
     "name": "stdout",
     "output_type": "stream",
     "text": [
      "features selected:  6\n"
     ]
    },
    {
     "name": "stderr",
     "output_type": "stream",
     "text": [
      "C:\\Users\\kaumi\\Anaconda3\\lib\\site-packages\\ipykernel_launcher.py:7: SettingWithCopyWarning: \n",
      "A value is trying to be set on a copy of a slice from a DataFrame.\n",
      "Try using .loc[row_indexer,col_indexer] = value instead\n",
      "\n",
      "See the caveats in the documentation: http://pandas.pydata.org/pandas-docs/stable/indexing.html#indexing-view-versus-copy\n",
      "  import sys\n"
     ]
    },
    {
     "name": "stdout",
     "output_type": "stream",
     "text": [
      "0.8154558404558404\n",
      "0.880510805357041\n"
     ]
    }
   ],
   "source": [
    "dt_clf_spect.fit(X_train_spect,y_train_spect)\n",
    "sel = SelectFromModel(dt_clf_spect,prefit=True)\n",
    "# sel.fit(df_spect,y_spect)\n",
    "print(\"features selected: \",sum(sel.get_support()))\n",
    "selected_feat_df_spect = df_spect.loc[:,sel.get_support()]\n",
    "# dt_clf_spect.fit(X_train_spect,y_train_spect)\n",
    "selected_feat_df_spect['dt_output']=dt_clf_spect.predict(df_spect)\n",
    "print(np.mean(cross_val_score(svm_clf_spect,selected_feat_df_spect,y_spect,cv=10,scoring='accuracy')))\n",
    "print(np.mean(cross_val_score(svm_clf_spect,selected_feat_df_spect,y_spect,cv=10,scoring='f1')))"
   ]
  },
  {
   "cell_type": "markdown",
   "metadata": {},
   "source": [
    "# Breast Cancer"
   ]
  },
  {
   "cell_type": "code",
   "execution_count": 57,
   "metadata": {},
   "outputs": [],
   "source": [
    "df_wcancer = pd.read_csv(os.path.join(PATH,\"breast_cancer/breast_cancer_data.csv\"))\n",
    "df_wcancer = df_wcancer.drop(['id','Unnamed: 32'],axis=1)\n",
    "y_wcancer = df_wcancer['diagnosis']\n",
    "le_wcancer = LabelEncoder()\n",
    "y_wcancer = le_wcancer.fit_transform(y_wcancer)\n",
    "df_wcancer = df_wcancer.drop(['diagnosis'],axis=1)\n",
    "X_train_wcancer,X_test_wcancer,y_train_wcancer,y_test_wcancer = train_test_split(df_wcancer,y_wcancer,random_state=42)"
   ]
  },
  {
   "cell_type": "code",
   "execution_count": 58,
   "metadata": {},
   "outputs": [
    {
     "name": "stdout",
     "output_type": "stream",
     "text": [
      "0.9281220292109584\n",
      "0.9037729964676375\n"
     ]
    }
   ],
   "source": [
    "dt_clf_wcancer = DecisionTreeClassifier(random_state=42)\n",
    "print(np.mean(cross_val_score(dt_clf_wcancer,df_wcancer,y_wcancer,cv=10,scoring='accuracy')))\n",
    "print(np.mean(cross_val_score(dt_clf_wcancer,df_wcancer,y_wcancer,cv=10,scoring='f1')))"
   ]
  },
  {
   "cell_type": "code",
   "execution_count": 59,
   "metadata": {},
   "outputs": [
    {
     "name": "stdout",
     "output_type": "stream",
     "text": [
      "0.9367999740731138\n",
      "0.9135985288424313\n"
     ]
    }
   ],
   "source": [
    "svm_clf_wcancer = SVC(random_state=42,gamma='scale')\n",
    "print(np.mean(cross_val_score(svm_clf_wcancer,df_wcancer,y_wcancer,cv=10,scoring='accuracy')))\n",
    "print(np.mean(cross_val_score(svm_clf_wcancer,df_wcancer,y_wcancer,cv=10,scoring='f1')))"
   ]
  },
  {
   "cell_type": "code",
   "execution_count": 31,
   "metadata": {},
   "outputs": [
    {
     "name": "stdout",
     "output_type": "stream",
     "text": [
      "features selected:  4\n"
     ]
    },
    {
     "name": "stderr",
     "output_type": "stream",
     "text": [
      "C:\\Users\\kaumi\\Anaconda3\\lib\\site-packages\\ipykernel_launcher.py:7: SettingWithCopyWarning: \n",
      "A value is trying to be set on a copy of a slice from a DataFrame.\n",
      "Try using .loc[row_indexer,col_indexer] = value instead\n",
      "\n",
      "See the caveats in the documentation: http://pandas.pydata.org/pandas-docs/stable/indexing.html#indexing-view-versus-copy\n",
      "  import sys\n"
     ]
    },
    {
     "name": "stdout",
     "output_type": "stream",
     "text": [
      "0.9158996629504796\n",
      "0.8785589442649776\n"
     ]
    }
   ],
   "source": [
    "dt_clf_wcancer.fit(X_train_wcancer,y_train_wcancer)\n",
    "sel_wcancer = SelectFromModel(dt_clf_wcancer,prefit=True)\n",
    "# sel_wcancer.fit(X_train_wcancer,y_train_wcancer)\n",
    "print(\"features selected: \",sum(sel_wcancer.get_support()))\n",
    "selected_feat_df_wcancer = df_wcancer.loc[:,sel_wcancer.get_support()]\n",
    "# dt_clf_wcancer.fit(X_train_wcancer,y_train_wcancer)\n",
    "selected_feat_df_wcancer['dt_output']=dt_clf_wcancer.predict(df_wcancer)\n",
    "print(np.mean(cross_val_score(svm_clf_wcancer,selected_feat_df_wcancer,y_wcancer,cv=10,scoring='accuracy')))\n",
    "print(np.mean(cross_val_score(svm_clf_wcancer,selected_feat_df_wcancer,y_wcancer,cv=10,scoring='f1')))"
   ]
  },
  {
   "cell_type": "markdown",
   "metadata": {},
   "source": [
    "# Statlog Heart "
   ]
  },
  {
   "cell_type": "code",
   "execution_count": 33,
   "metadata": {},
   "outputs": [],
   "source": [
    "df_heart = pd.read_csv(os.path.join(PATH,\"statlog_heart/heart.dat\"),header=None,sep=\" \")\n",
    "y_heart = df_heart[13]\n",
    "y_heart = y_heart.map({1:0,2:1})\n",
    "df_heart = df_heart.drop([13],axis=1)\n",
    "X_train_heart,X_test_heart,y_train_heart,y_test_heart = train_test_split(df_heart,y_heart,random_state=42)"
   ]
  },
  {
   "cell_type": "code",
   "execution_count": 34,
   "metadata": {},
   "outputs": [
    {
     "name": "stdout",
     "output_type": "stream",
     "text": [
      "0.7444444444444444\n",
      "0.7014562405134488\n"
     ]
    }
   ],
   "source": [
    "dt_clf_heart = DecisionTreeClassifier(random_state=42)\n",
    "print(np.mean(cross_val_score(dt_clf_heart,df_heart,y_heart,cv=10,scoring='accuracy')))\n",
    "print(np.mean(cross_val_score(dt_clf_heart,df_heart,y_heart,cv=10,scoring='f1')))"
   ]
  },
  {
   "cell_type": "code",
   "execution_count": 35,
   "metadata": {},
   "outputs": [
    {
     "name": "stdout",
     "output_type": "stream",
     "text": [
      "0.6814814814814815\n",
      "0.6180819582993495\n"
     ]
    }
   ],
   "source": [
    "svm_clf_heart = SVC(random_state=42,kernel='rbf',gamma='scale')\n",
    "print(np.mean(cross_val_score(svm_clf_heart,df_heart,y_heart,cv=10,scoring='accuracy')))\n",
    "print(np.mean(cross_val_score(svm_clf_heart,df_heart,y_heart,cv=10,scoring='f1')))"
   ]
  },
  {
   "cell_type": "code",
   "execution_count": 36,
   "metadata": {},
   "outputs": [
    {
     "name": "stdout",
     "output_type": "stream",
     "text": [
      "features selected:  4\n"
     ]
    },
    {
     "name": "stderr",
     "output_type": "stream",
     "text": [
      "C:\\Users\\kaumi\\Anaconda3\\lib\\site-packages\\ipykernel_launcher.py:7: SettingWithCopyWarning: \n",
      "A value is trying to be set on a copy of a slice from a DataFrame.\n",
      "Try using .loc[row_indexer,col_indexer] = value instead\n",
      "\n",
      "See the caveats in the documentation: http://pandas.pydata.org/pandas-docs/stable/indexing.html#indexing-view-versus-copy\n",
      "  import sys\n"
     ]
    },
    {
     "name": "stdout",
     "output_type": "stream",
     "text": [
      "0.6703703703703704\n",
      "0.594139449414049\n"
     ]
    }
   ],
   "source": [
    "dt_clf_heart.fit(X_train_heart,y_train_heart)\n",
    "sel_heart = SelectFromModel(dt_clf_heart,prefit=True)\n",
    "# sel_heart.fit(df_heart,y_heart)\n",
    "print(\"features selected: \",sum(sel_heart.get_support()))\n",
    "selected_feat_df_heart = df_heart.loc[:,sel_heart.get_support()]\n",
    "# dt_clf_heart.fit(X_train_heart,y_train_heart)\n",
    "selected_feat_df_heart['dt_output']=dt_clf_heart.predict(df_heart)\n",
    "print(np.mean(cross_val_score(svm_clf_heart,selected_feat_df_heart,y_heart,cv=10,scoring='accuracy')))\n",
    "print(np.mean(cross_val_score(svm_clf_heart,selected_feat_df_heart,y_heart,cv=10,scoring='f1')))"
   ]
  },
  {
   "cell_type": "markdown",
   "metadata": {},
   "source": [
    "# Hepatitis"
   ]
  },
  {
   "cell_type": "code",
   "execution_count": 38,
   "metadata": {},
   "outputs": [],
   "source": [
    "df_hepat = pd.read_csv(os.path.join(PATH,\"hepatitis/hepatitis.data\"),header=None,sep=\",\")\n",
    "df_hepat = df_hepat.replace('?',np.NAN)\n",
    "df_hepat = df_hepat.dropna(axis=0)\n",
    "df_hepat = df_hepat.reset_index(drop=True)\n",
    "df_hepat = pd.get_dummies(df_hepat)\n",
    "\n",
    "y_hepat = df_hepat[0]\n",
    "df_hepat = df_hepat.drop([0],axis=1)\n",
    "y_hepat = y_hepat.map({1:0,2:1})\n",
    "X_train_hepat,X_test_hepat,y_train_hepat,y_test_hepat = train_test_split(df_hepat,y_hepat,random_state=42)"
   ]
  },
  {
   "cell_type": "code",
   "execution_count": 39,
   "metadata": {},
   "outputs": [
    {
     "name": "stdout",
     "output_type": "stream",
     "text": [
      "0.7089285714285715\n",
      "0.8096536796536796\n"
     ]
    }
   ],
   "source": [
    "dt_clf_hepat = DecisionTreeClassifier(random_state=42)\n",
    "print(np.mean(cross_val_score(dt_clf_hepat,df_hepat,y_hepat,cv=10,scoring='accuracy')))\n",
    "print(np.mean(cross_val_score(dt_clf_hepat,df_hepat,y_hepat,cv=10,scoring='f1')))"
   ]
  },
  {
   "cell_type": "code",
   "execution_count": 40,
   "metadata": {},
   "outputs": [
    {
     "name": "stdout",
     "output_type": "stream",
     "text": [
      "0.8404761904761904\n",
      "0.9127564102564103\n"
     ]
    }
   ],
   "source": [
    "svm_clf_hepat = SVC(random_state=42,kernel='rbf',gamma='scale')\n",
    "print(np.mean(cross_val_score(svm_clf_hepat,df_hepat,y_hepat,cv=10,scoring='accuracy')))\n",
    "print(np.mean(cross_val_score(svm_clf_hepat,df_hepat,y_hepat,cv=10,scoring='f1')))"
   ]
  },
  {
   "cell_type": "code",
   "execution_count": 41,
   "metadata": {},
   "outputs": [
    {
     "name": "stdout",
     "output_type": "stream",
     "text": [
      "features selected:  7\n"
     ]
    },
    {
     "name": "stderr",
     "output_type": "stream",
     "text": [
      "C:\\Users\\kaumi\\Anaconda3\\lib\\site-packages\\ipykernel_launcher.py:7: SettingWithCopyWarning: \n",
      "A value is trying to be set on a copy of a slice from a DataFrame.\n",
      "Try using .loc[row_indexer,col_indexer] = value instead\n",
      "\n",
      "See the caveats in the documentation: http://pandas.pydata.org/pandas-docs/stable/indexing.html#indexing-view-versus-copy\n",
      "  import sys\n"
     ]
    },
    {
     "name": "stdout",
     "output_type": "stream",
     "text": [
      "0.8404761904761904\n",
      "0.9127564102564103\n"
     ]
    }
   ],
   "source": [
    "dt_clf_hepat.fit(X_train_hepat,y_train_hepat)\n",
    "sel_hepat = SelectFromModel(dt_clf_hepat,prefit=True)\n",
    "# sel_hepat.fit(df_hepat,y_hepat)\n",
    "print(\"features selected: \",sum(sel_hepat.get_support()))\n",
    "selected_feat_df_hepat = df_hepat.loc[:,sel_hepat.get_support()]\n",
    "# dt_clf_hepat.fit(X_train_hepat,y_train_hepat)\n",
    "selected_feat_df_hepat['dt_output']=dt_clf_hepat.predict(df_hepat)\n",
    "print(np.mean(cross_val_score(svm_clf_hepat,selected_feat_df_hepat,y_hepat,cv=10,scoring='accuracy')))\n",
    "print(np.mean(cross_val_score(svm_clf_hepat,selected_feat_df_hepat,y_hepat,cv=10,scoring='f1')))"
   ]
  },
  {
   "cell_type": "markdown",
   "metadata": {},
   "source": [
    "# HypoThyroid"
   ]
  },
  {
   "cell_type": "code",
   "execution_count": 43,
   "metadata": {},
   "outputs": [],
   "source": [
    "df_hypo = pd.read_csv(os.path.join(PATH,\"hypothyroid/hypothyroid.data\"),header=None)\n",
    "\n",
    "df_hypo = df_hypo.replace('?',np.NAN)\n",
    "df_hypo = df_hypo.drop([25],axis=1)\n",
    "df_hypo = df_hypo.dropna(axis=0)\n",
    "df_hypo = df_hypo.reset_index(drop=True)\n",
    "\n",
    "y_hypo = df_hypo[0]\n",
    "y_hypo = y_hypo.map({'hypothyroid':0,'negative':1})\n",
    "df_hypo = df_hypo.drop([0],axis=1)\n",
    "df_hypo = pd.get_dummies(df_hypo)\n",
    "X_train_hypo,X_test_hypo,y_train_hypo,y_test_hypo = train_test_split(df_hypo,y_hypo,random_state=42)"
   ]
  },
  {
   "cell_type": "code",
   "execution_count": 44,
   "metadata": {},
   "outputs": [
    {
     "name": "stdout",
     "output_type": "stream",
     "text": [
      "0.9445020125503139\n",
      "0.9705242559667727\n"
     ]
    }
   ],
   "source": [
    "dt_clf_hypo = DecisionTreeClassifier(random_state=42)\n",
    "print(np.mean(cross_val_score(dt_clf_hypo,df_hypo,y_hypo,cv=10,scoring='accuracy')))\n",
    "print(np.mean(cross_val_score(dt_clf_hypo,df_hypo,y_hypo,cv=10,scoring='f1')))"
   ]
  },
  {
   "cell_type": "code",
   "execution_count": 45,
   "metadata": {},
   "outputs": [
    {
     "name": "stdout",
     "output_type": "stream",
     "text": [
      "0.9390043751093776\n",
      "0.9685418777615119\n"
     ]
    }
   ],
   "source": [
    "svm_clf_hypo = SVC(random_state=42,kernel='rbf',gamma='scale')\n",
    "print(np.mean(cross_val_score(svm_clf_hypo,df_hypo,y_hypo,cv=10,scoring='accuracy')))\n",
    "print(np.mean(cross_val_score(svm_clf_hypo,df_hypo,y_hypo,cv=10,scoring='f1')))"
   ]
  },
  {
   "cell_type": "code",
   "execution_count": 46,
   "metadata": {},
   "outputs": [
    {
     "name": "stdout",
     "output_type": "stream",
     "text": [
      "features selected:  72\n"
     ]
    },
    {
     "name": "stderr",
     "output_type": "stream",
     "text": [
      "C:\\Users\\kaumi\\Anaconda3\\lib\\site-packages\\ipykernel_launcher.py:7: SettingWithCopyWarning: \n",
      "A value is trying to be set on a copy of a slice from a DataFrame.\n",
      "Try using .loc[row_indexer,col_indexer] = value instead\n",
      "\n",
      "See the caveats in the documentation: http://pandas.pydata.org/pandas-docs/stable/indexing.html#indexing-view-versus-copy\n",
      "  import sys\n"
     ]
    },
    {
     "name": "stdout",
     "output_type": "stream",
     "text": [
      "0.9900074376859422\n",
      "0.9946821344699549\n"
     ]
    }
   ],
   "source": [
    "dt_clf_hypo.fit(X_train_hypo,y_train_hypo)\n",
    "sel_hypo = SelectFromModel(dt_clf_hypo,prefit=True)\n",
    "# sel_hypo.fit(df_hypo,y_hypo)\n",
    "print(\"features selected: \",sum(sel_hypo.get_support()))\n",
    "selected_feat_df_hypo = df_hypo.loc[:,sel_hypo.get_support()]\n",
    "# dt_clf_hypo.fit(X_train_hypo,y_train_hypo)\n",
    "selected_feat_df_hypo['dt_output']=dt_clf_hypo.predict(df_hypo)\n",
    "print(np.mean(cross_val_score(svm_clf_hypo,selected_feat_df_hypo,y_hypo,cv=10,scoring='accuracy')))\n",
    "print(np.mean(cross_val_score(svm_clf_hypo,selected_feat_df_hypo,y_hypo,cv=10,scoring='f1')))"
   ]
  },
  {
   "cell_type": "markdown",
   "metadata": {},
   "source": [
    "# Hungarian-14-Heart"
   ]
  },
  {
   "cell_type": "code",
   "execution_count": 60,
   "metadata": {},
   "outputs": [],
   "source": [
    "df_hung = pd.read_csv(os.path.join(PATH,\"hungarian_heart/hungarian.data\"),header=None)\n",
    "\n",
    "df_hung = df_hung.replace('?',np.NAN)\n",
    "df_hung = df_hung.drop([10,11,12],axis=1)\n",
    "df_hung = df_hung.dropna(axis=0)\n",
    "df_hung = df_hung.reset_index(drop=True)\n",
    "\n",
    "y_hung = df_hung[13]\n",
    "df_hung = df_hung.drop([13],axis=1)\n",
    "df_hung = pd.get_dummies(df_hung)\n",
    "X_train_hung,X_test_hung,y_train_hung,y_test_hung = train_test_split(df_hung,y_hung,random_state=42)"
   ]
  },
  {
   "cell_type": "code",
   "execution_count": 61,
   "metadata": {},
   "outputs": [
    {
     "name": "stdout",
     "output_type": "stream",
     "text": [
      "0.699925925925926\n",
      "0.6130465587044533\n"
     ]
    }
   ],
   "source": [
    "dt_clf_hung = DecisionTreeClassifier(random_state=42)\n",
    "print(np.mean(cross_val_score(dt_clf_hung,df_hung,y_hung,cv=10,scoring='accuracy')))\n",
    "print(np.mean(cross_val_score(dt_clf_hung,df_hung,y_hung,cv=10,scoring='f1')))"
   ]
  },
  {
   "cell_type": "code",
   "execution_count": 65,
   "metadata": {},
   "outputs": [
    {
     "name": "stdout",
     "output_type": "stream",
     "text": [
      "0.6284273504273503\n",
      "0.6284273504273503\n"
     ]
    }
   ],
   "source": [
    "svm_clf_hung = SVC(random_state=42,kernel='rbf',gamma='scale')\n",
    "print(np.mean(cross_val_score(svm_clf_hung,df_hung,y_hung,cv=10,scoring='accuracy')))\n",
    "print(np.mean(cross_val_score(svm_clf_hung,df_hung,y_hung,cv=10,scoring='f1_micro')))"
   ]
  },
  {
   "cell_type": "code",
   "execution_count": 66,
   "metadata": {},
   "outputs": [
    {
     "name": "stdout",
     "output_type": "stream",
     "text": [
      "features selected:  32\n"
     ]
    },
    {
     "name": "stderr",
     "output_type": "stream",
     "text": [
      "C:\\Users\\kaumi\\Anaconda3\\lib\\site-packages\\ipykernel_launcher.py:7: SettingWithCopyWarning: \n",
      "A value is trying to be set on a copy of a slice from a DataFrame.\n",
      "Try using .loc[row_indexer,col_indexer] = value instead\n",
      "\n",
      "See the caveats in the documentation: http://pandas.pydata.org/pandas-docs/stable/indexing.html#indexing-view-versus-copy\n",
      "  import sys\n"
     ]
    },
    {
     "name": "stdout",
     "output_type": "stream",
     "text": [
      "0.9425584045584046\n",
      "0.9250543024227236\n"
     ]
    }
   ],
   "source": [
    "dt_clf_hung.fit(X_train_hung,y_train_hung)\n",
    "sel_hung = SelectFromModel(dt_clf_hung,prefit=True)\n",
    "# sel_hung.fit(df_hung,y_hung)\n",
    "print(\"features selected: \",sum(sel_hung.get_support()))\n",
    "selected_feat_df_hung = df_hung.loc[:,sel_hung.get_support()]\n",
    "# dt_clf_hung.fit(X_train_hung,y_train_hung)\n",
    "selected_feat_df_hung['dt_output']=dt_clf_hung.predict(df_hung)\n",
    "print(np.mean(cross_val_score(svm_clf_hung,selected_feat_df_hung,y_hung,cv=10,scoring='accuracy')))\n",
    "print(np.mean(cross_val_score(svm_clf_hung,selected_feat_df_hung,y_hung,cv=10,scoring='f1')))"
   ]
  },
  {
   "cell_type": "markdown",
   "metadata": {},
   "source": [
    "# Ionosphere"
   ]
  },
  {
   "cell_type": "code",
   "execution_count": 68,
   "metadata": {},
   "outputs": [],
   "source": [
    "df_ion = pd.read_csv(os.path.join(PATH,\"ionosphere/ionosphere.data\"),header=None,sep=',')\n",
    "y_ion = df_ion[34]\n",
    "df_ion = df_ion.drop([34],axis=1)\n",
    "y_ion = y_ion.map({'g':0,'b':1})\n",
    "X_train_ion,X_test_ion,y_train_ion,y_test_ion = train_test_split(df_ion,y_ion,random_state=42)"
   ]
  },
  {
   "cell_type": "code",
   "execution_count": 69,
   "metadata": {},
   "outputs": [
    {
     "name": "stdout",
     "output_type": "stream",
     "text": [
      "0.8647152194211017\n",
      "0.803930213104126\n"
     ]
    }
   ],
   "source": [
    "dt_clf_ion = DecisionTreeClassifier(random_state=42)\n",
    "print(np.mean(cross_val_score(dt_clf_ion,df_ion,y_ion,cv=10,scoring='accuracy')))\n",
    "print(np.mean(cross_val_score(dt_clf_ion,df_ion,y_ion,cv=10,scoring='f1')))"
   ]
  },
  {
   "cell_type": "code",
   "execution_count": 71,
   "metadata": {},
   "outputs": [
    {
     "name": "stdout",
     "output_type": "stream",
     "text": [
      "0.9406115779645191\n",
      "0.9104268774703558\n"
     ]
    }
   ],
   "source": [
    "svm_clf_ion = SVC(random_state=42,kernel='rbf',gamma='scale')\n",
    "print(np.mean(cross_val_score(svm_clf_ion,df_ion,y_ion,cv=10,scoring='accuracy')))\n",
    "print(np.mean(cross_val_score(svm_clf_ion,df_ion,y_ion,cv=10,scoring='f1')))"
   ]
  },
  {
   "cell_type": "code",
   "execution_count": 72,
   "metadata": {},
   "outputs": [
    {
     "name": "stdout",
     "output_type": "stream",
     "text": [
      "features selected:  6\n"
     ]
    },
    {
     "name": "stderr",
     "output_type": "stream",
     "text": [
      "C:\\Users\\kaumi\\Anaconda3\\lib\\site-packages\\ipykernel_launcher.py:7: SettingWithCopyWarning: \n",
      "A value is trying to be set on a copy of a slice from a DataFrame.\n",
      "Try using .loc[row_indexer,col_indexer] = value instead\n",
      "\n",
      "See the caveats in the documentation: http://pandas.pydata.org/pandas-docs/stable/indexing.html#indexing-view-versus-copy\n",
      "  import sys\n"
     ]
    },
    {
     "name": "stdout",
     "output_type": "stream",
     "text": [
      "0.9776143790849673\n",
      "0.9677621348056131\n"
     ]
    }
   ],
   "source": [
    "dt_clf_ion.fit(X_train_ion,y_train_ion)\n",
    "sel_ion = SelectFromModel(dt_clf_ion,prefit=True)\n",
    "# sel_ion.fit(df_ion,y_ion)\n",
    "print(\"features selected: \",sum(sel_ion.get_support()))\n",
    "selected_feat_df_ion = df_ion.loc[:,sel_ion.get_support()]\n",
    "# dt_clf_ion.fit(X_train_ion,y_train_ion)\n",
    "selected_feat_df_ion['dt_output']=dt_clf_ion.predict(df_ion)\n",
    "print(np.mean(cross_val_score(svm_clf_ion,selected_feat_df_ion,y_ion,cv=10,scoring='accuracy')))\n",
    "print(np.mean(cross_val_score(svm_clf_ion,selected_feat_df_ion,y_ion,cv=10,scoring='f1')))"
   ]
  },
  {
   "cell_type": "markdown",
   "metadata": {},
   "source": [
    "# Sonar"
   ]
  },
  {
   "cell_type": "code",
   "execution_count": 74,
   "metadata": {},
   "outputs": [],
   "source": [
    "df_sonar = pd.read_csv(os.path.join(PATH,\"sonar/sonar.all-data\"),header=None)\n",
    "y_sonar = df_sonar[60]\n",
    "df_sonar = df_sonar.drop([60],axis=1)\n",
    "y_sonar = y_sonar.map({'R':0,'M':1})\n",
    "X_train_sonar,X_test_sonar,y_train_sonar,y_test_sonar = train_test_split(df_sonar,y_sonar,random_state=42)"
   ]
  },
  {
   "cell_type": "code",
   "execution_count": 75,
   "metadata": {},
   "outputs": [
    {
     "name": "stdout",
     "output_type": "stream",
     "text": [
      "0.6531313131313131\n",
      "0.6653138528138528\n"
     ]
    }
   ],
   "source": [
    "dt_clf_sonar = DecisionTreeClassifier(random_state=42)\n",
    "print(np.mean(cross_val_score(dt_clf_sonar,df_sonar,y_sonar,cv=20,scoring='accuracy')))\n",
    "print(np.mean(cross_val_score(dt_clf_sonar,df_sonar,y_sonar,cv=20,scoring='f1')))"
   ]
  },
  {
   "cell_type": "code",
   "execution_count": 76,
   "metadata": {},
   "outputs": [
    {
     "name": "stdout",
     "output_type": "stream",
     "text": [
      "0.6161255411255411\n",
      "0.6493208360267184\n"
     ]
    }
   ],
   "source": [
    "svm_clf_sonar = SVC(random_state=42,kernel='rbf',gamma='scale')\n",
    "print(np.mean(cross_val_score(svm_clf_sonar,df_sonar,y_sonar,cv=10,scoring='accuracy')))\n",
    "print(np.mean(cross_val_score(svm_clf_sonar,df_sonar,y_sonar,cv=10,scoring='f1')))"
   ]
  },
  {
   "cell_type": "code",
   "execution_count": 77,
   "metadata": {},
   "outputs": [
    {
     "name": "stdout",
     "output_type": "stream",
     "text": [
      "features selected:  14\n",
      "0.9285281385281385\n"
     ]
    },
    {
     "name": "stderr",
     "output_type": "stream",
     "text": [
      "C:\\Users\\kaumi\\Anaconda3\\lib\\site-packages\\ipykernel_launcher.py:7: SettingWithCopyWarning: \n",
      "A value is trying to be set on a copy of a slice from a DataFrame.\n",
      "Try using .loc[row_indexer,col_indexer] = value instead\n",
      "\n",
      "See the caveats in the documentation: http://pandas.pydata.org/pandas-docs/stable/indexing.html#indexing-view-versus-copy\n",
      "  import sys\n"
     ]
    },
    {
     "name": "stdout",
     "output_type": "stream",
     "text": [
      "0.9309796725014117\n"
     ]
    }
   ],
   "source": [
    "dt_clf_sonar.fit(X_train_sonar,y_train_sonar)\n",
    "sel_sonar = SelectFromModel(dt_clf_sonar,prefit=True)\n",
    "# sel_sonar.fit(df_sonar,y_sonar)\n",
    "print(\"features selected: \",sum(sel_sonar.get_support()))\n",
    "selected_feat_df_sonar = df_sonar.loc[:,sel_sonar.get_support()]\n",
    "# dt_clf_sonar.fit(X_train_sonar,y_train_sonar)\n",
    "selected_feat_df_sonar['dt_output']=dt_clf_sonar.predict(df_sonar)\n",
    "print(np.mean(cross_val_score(svm_clf_sonar,selected_feat_df_sonar,y_sonar,cv=10,scoring='accuracy')))\n",
    "print(np.mean(cross_val_score(svm_clf_sonar,selected_feat_df_sonar,y_sonar,cv=10,scoring='f1')))"
   ]
  },
  {
   "cell_type": "markdown",
   "metadata": {},
   "source": [
    "# Vote"
   ]
  },
  {
   "cell_type": "code",
   "execution_count": 79,
   "metadata": {},
   "outputs": [],
   "source": [
    "df_vote = pd.read_csv(os.path.join(PATH,\"vote/house-votes-84.data\"),header=None)\n",
    "\n",
    "df_vote = df_vote.replace('?',np.NAN)\n",
    "df_vote = df_vote.dropna(axis=0)\n",
    "df_vote = df_vote.reset_index(drop=True)\n",
    "\n",
    "y_vote = df_vote[0]\n",
    "df_vote = df_vote.drop([0],axis=1)\n",
    "y_vote = y_vote.map({'democrat':0,'republican':1})\n",
    "\n",
    "df_vote = pd.get_dummies(df_vote)\n",
    "X_train_vote,X_test_vote,y_train_vote,y_test_vote = train_test_split(df_vote,y_vote,random_state=42)"
   ]
  },
  {
   "cell_type": "code",
   "execution_count": 80,
   "metadata": {},
   "outputs": [
    {
     "name": "stdout",
     "output_type": "stream",
     "text": [
      "0.9347002635046113\n",
      "0.9289103192764522\n"
     ]
    }
   ],
   "source": [
    "dt_clf_vote = DecisionTreeClassifier(random_state=42)\n",
    "print(np.mean(cross_val_score(dt_clf_vote,df_vote,y_vote,cv=10,scoring='accuracy')))\n",
    "print(np.mean(cross_val_score(dt_clf_vote,df_vote,y_vote,cv=10,scoring='f1')))"
   ]
  },
  {
   "cell_type": "code",
   "execution_count": 81,
   "metadata": {},
   "outputs": [
    {
     "name": "stdout",
     "output_type": "stream",
     "text": [
      "0.96933465085639\n",
      "0.9687041219649914\n"
     ]
    }
   ],
   "source": [
    "svm_clf_vote = SVC(random_state=42,kernel='rbf',gamma='scale')\n",
    "print(np.mean(cross_val_score(svm_clf_vote,df_vote,y_vote,cv=10,scoring='accuracy')))\n",
    "print(np.mean(cross_val_score(svm_clf_vote,df_vote,y_vote,cv=10,scoring='f1')))"
   ]
  },
  {
   "cell_type": "code",
   "execution_count": 82,
   "metadata": {},
   "outputs": [
    {
     "name": "stdout",
     "output_type": "stream",
     "text": [
      "features selected:  2\n",
      "0.9827898550724639\n"
     ]
    },
    {
     "name": "stderr",
     "output_type": "stream",
     "text": [
      "C:\\Users\\kaumi\\Anaconda3\\lib\\site-packages\\ipykernel_launcher.py:7: SettingWithCopyWarning: \n",
      "A value is trying to be set on a copy of a slice from a DataFrame.\n",
      "Try using .loc[row_indexer,col_indexer] = value instead\n",
      "\n",
      "See the caveats in the documentation: http://pandas.pydata.org/pandas-docs/stable/indexing.html#indexing-view-versus-copy\n",
      "  import sys\n"
     ]
    },
    {
     "name": "stdout",
     "output_type": "stream",
     "text": [
      "0.980952380952381\n"
     ]
    }
   ],
   "source": [
    "dt_clf_vote.fit(X_train_vote,y_train_vote)\n",
    "sel_vote = SelectFromModel(dt_clf_vote,prefit=True)\n",
    "# sel_vote.fit(df_vote,y_vote)\n",
    "print(\"features selected: \",sum(sel_vote.get_support()))\n",
    "selected_feat_df_vote = df_vote.loc[:,sel_vote.get_support()]\n",
    "# dt_clf_vote.fit(X_train_vote,y_train_vote)\n",
    "selected_feat_df_vote['dt_output']=dt_clf_vote.predict(df_vote)\n",
    "print(np.mean(cross_val_score(svm_clf_vote,selected_feat_df_vote,y_vote,cv=10,scoring='accuracy')))\n",
    "print(np.mean(cross_val_score(svm_clf_vote,selected_feat_df_vote,y_vote,cv=10,scoring='f1')))"
   ]
  },
  {
   "cell_type": "markdown",
   "metadata": {},
   "source": [
    "# Kr vs Kp"
   ]
  },
  {
   "cell_type": "code",
   "execution_count": 84,
   "metadata": {},
   "outputs": [],
   "source": [
    "df_krkp = pd.read_csv(os.path.join(PATH,\"krvskp/kr-vs-kp.data\"),header=None)\n",
    "\n",
    "y_krkp = df_krkp[36]\n",
    "y_krkp = y_krkp.map({'won':0,'nowin':1})\n",
    "df_krkp = df_krkp.drop([36],axis=1)\n",
    "\n",
    "df_krkp = pd.get_dummies(df_krkp)\n",
    "X_train_krkp,X_test_krkp,y_train_krkp,y_test_krkp = train_test_split(df_krkp,y_krkp,random_state=42)"
   ]
  },
  {
   "cell_type": "code",
   "execution_count": 85,
   "metadata": {},
   "outputs": [
    {
     "name": "stdout",
     "output_type": "stream",
     "text": [
      "0.9783835898838745\n",
      "0.9761502600552785\n"
     ]
    }
   ],
   "source": [
    "dt_clf_krkp = DecisionTreeClassifier(random_state=42)\n",
    "print(np.mean(cross_val_score(dt_clf_krkp,df_krkp,y_krkp,cv=10,scoring='accuracy')))\n",
    "print(np.mean(cross_val_score(dt_clf_krkp,df_krkp,y_krkp,cv=10,scoring='f1')))"
   ]
  },
  {
   "cell_type": "code",
   "execution_count": 86,
   "metadata": {},
   "outputs": [
    {
     "name": "stdout",
     "output_type": "stream",
     "text": [
      "0.9258444295755209\n",
      "0.9172402992518884\n"
     ]
    }
   ],
   "source": [
    "svm_clf_krkp = SVC(random_state=42,kernel='rbf',gamma='scale')\n",
    "print(np.mean(cross_val_score(svm_clf_krkp,df_krkp,y_krkp,cv=10,scoring='accuracy')))\n",
    "print(np.mean(cross_val_score(svm_clf_krkp,df_krkp,y_krkp,cv=10,scoring='f1')))"
   ]
  },
  {
   "cell_type": "code",
   "execution_count": 87,
   "metadata": {},
   "outputs": [
    {
     "name": "stdout",
     "output_type": "stream",
     "text": [
      "features selected:  8\n"
     ]
    },
    {
     "name": "stderr",
     "output_type": "stream",
     "text": [
      "C:\\Users\\kaumi\\Anaconda3\\lib\\site-packages\\ipykernel_launcher.py:7: SettingWithCopyWarning: \n",
      "A value is trying to be set on a copy of a slice from a DataFrame.\n",
      "Try using .loc[row_indexer,col_indexer] = value instead\n",
      "\n",
      "See the caveats in the documentation: http://pandas.pydata.org/pandas-docs/stable/indexing.html#indexing-view-versus-copy\n",
      "  import sys\n"
     ]
    },
    {
     "name": "stdout",
     "output_type": "stream",
     "text": [
      "0.9971796506870921\n",
      "0.9970274814438115\n"
     ]
    }
   ],
   "source": [
    "dt_clf_krkp.fit(X_train_krkp,y_train_krkp)\n",
    "sel_krkp = SelectFromModel(dt_clf_krkp,prefit=True)\n",
    "# sel_krkp.fit(df_krkp,y_krkp)\n",
    "print(\"features selected: \",sum(sel_krkp.get_support()))\n",
    "selected_feat_df_krkp = df_krkp.loc[:,sel_krkp.get_support()]\n",
    "# dt_clf_krkp.fit(X_train_krkp,y_train_krkp)\n",
    "selected_feat_df_krkp['dt_output']=dt_clf_krkp.predict(df_krkp)\n",
    "print(np.mean(cross_val_score(svm_clf_krkp,selected_feat_df_krkp,y_krkp,cv=10,scoring='accuracy')))\n",
    "print(np.mean(cross_val_score(svm_clf_krkp,selected_feat_df_krkp,y_krkp,cv=10,scoring='f1')))"
   ]
  },
  {
   "cell_type": "markdown",
   "metadata": {},
   "source": [
    "# Thyroid-Sick"
   ]
  },
  {
   "cell_type": "code",
   "execution_count": 89,
   "metadata": {},
   "outputs": [],
   "source": [
    "sick = fetch_datasets()['thyroid_sick']\n",
    "df_sick = pd.DataFrame(sick.data)\n",
    "y_sick = sick.target\n",
    "y_sick = pd.Series(y_sick).map({-1:0,1:1})\n",
    "X_train_sick,X_test_sick,y_train_sick,y_test_sick = train_test_split(df_sick,y_sick,random_state=42)"
   ]
  },
  {
   "cell_type": "code",
   "execution_count": 90,
   "metadata": {},
   "outputs": [
    {
     "name": "stdout",
     "output_type": "stream",
     "text": [
      "0.9870054520131856\n",
      "0.8962754210534044\n"
     ]
    }
   ],
   "source": [
    "dt_clf_sick = DecisionTreeClassifier(random_state=42)\n",
    "print(np.mean(cross_val_score(dt_clf_sick,df_sick,y_sick,cv=10,scoring='accuracy')))\n",
    "print(np.mean(cross_val_score(dt_clf_sick,df_sick,y_sick,cv=10,scoring='f1')))"
   ]
  },
  {
   "cell_type": "code",
   "execution_count": 92,
   "metadata": {},
   "outputs": [
    {
     "name": "stdout",
     "output_type": "stream",
     "text": [
      "0.9387603843704291\n",
      "0.9387603843704291\n"
     ]
    }
   ],
   "source": [
    "svm_clf_sick = SVC(random_state=42,kernel='rbf',gamma='scale')\n",
    "print(np.mean(cross_val_score(svm_clf_sick,df_sick,y_sick,cv=10,scoring='accuracy')))\n",
    "print(np.mean(cross_val_score(svm_clf_sick,df_sick,y_sick,cv=10,scoring='f1')))"
   ]
  },
  {
   "cell_type": "code",
   "execution_count": 94,
   "metadata": {},
   "outputs": [
    {
     "name": "stdout",
     "output_type": "stream",
     "text": [
      "features selected:  8\n"
     ]
    },
    {
     "name": "stderr",
     "output_type": "stream",
     "text": [
      "C:\\Users\\kaumi\\Anaconda3\\lib\\site-packages\\ipykernel_launcher.py:7: SettingWithCopyWarning: \n",
      "A value is trying to be set on a copy of a slice from a DataFrame.\n",
      "Try using .loc[row_indexer,col_indexer] = value instead\n",
      "\n",
      "See the caveats in the documentation: http://pandas.pydata.org/pandas-docs/stable/indexing.html#indexing-view-versus-copy\n",
      "  import sys\n"
     ]
    },
    {
     "name": "stdout",
     "output_type": "stream",
     "text": [
      "0.9411448527816466\n",
      "0.9411448527816466\n"
     ]
    }
   ],
   "source": [
    "dt_clf_sick.fit(X_train_sick,y_train_sick)\n",
    "sel_sick = SelectFromModel(dt_clf_sick,prefit=True)\n",
    "# sel_sick.fit(df_sick,y_sick)\n",
    "print(\"features selected: \",sum(sel_sick.get_support()))\n",
    "selected_feat_df_sick = df_sick.loc[:,sel_sick.get_support()]\n",
    "# dt_clf_sick.fit(X_train_sick,y_train_sick)\n",
    "selected_feat_df_sick['dt_output']=dt_clf_sick.predict(df_sick)\n",
    "print(np.mean(cross_val_score(svm_clf_sick,selected_feat_df_sick,y_sick,cv=10,scoring='accuracy')))\n",
    "print(np.mean(cross_val_score(svm_clf_sick,selected_feat_df_sick,y_sick,cv=10,scoring='f1')))"
   ]
  },
  {
   "cell_type": "markdown",
   "metadata": {},
   "source": [
    "# Monks1"
   ]
  },
  {
   "cell_type": "code",
   "execution_count": 96,
   "metadata": {},
   "outputs": [],
   "source": [
    "df_monks1 = pd.DataFrame()\n",
    "df_monks1_train = pd.read_csv(os.path.join(PATH,\"monks/monks-1.train\"),header=None,sep=\" \")\n",
    "df_monks1_test = pd.read_csv(os.path.join(PATH,\"monks/monks-1.test\"),header=None,sep=\" \")\n",
    "\n",
    "df_monks1 = df_monks1.append(df_monks1_train,ignore_index=True)\n",
    "df_monks1 = df_monks1.append(df_monks1_test,ignore_index=True)\n",
    "\n",
    "y_monks1 = df_monks1[1]\n",
    "df_monks1 = df_monks1.drop([0,1,8],axis=1)\n",
    "\n",
    "X_train_monks1,X_test_monks1,y_train_monks1,y_test_monks1 = train_test_split(df_monks1,y_monks1,random_state=42)"
   ]
  },
  {
   "cell_type": "code",
   "execution_count": 97,
   "metadata": {},
   "outputs": [
    {
     "name": "stdout",
     "output_type": "stream",
     "text": [
      "1.0\n",
      "1.0\n"
     ]
    }
   ],
   "source": [
    "dt_clf_monks1 = DecisionTreeClassifier(random_state=42)\n",
    "print(np.mean(cross_val_score(dt_clf_monks1,df_monks1,y_monks1,cv=10,scoring='accuracy')))\n",
    "print(np.mean(cross_val_score(dt_clf_monks1,df_monks1,y_monks1,cv=10,scoring='f1')))"
   ]
  },
  {
   "cell_type": "code",
   "execution_count": 98,
   "metadata": {},
   "outputs": [
    {
     "name": "stdout",
     "output_type": "stream",
     "text": [
      "0.8850529100529101\n",
      "0.8541546285846447\n"
     ]
    }
   ],
   "source": [
    "svm_clf_monks1 = SVC(random_state=42,kernel='rbf',gamma='scale')\n",
    "print(np.mean(cross_val_score(svm_clf_monks1,df_monks1,y_monks1,cv=10,scoring='accuracy')))\n",
    "print(np.mean(cross_val_score(svm_clf_monks1,df_monks1,y_monks1,cv=10,scoring='f1')))"
   ]
  },
  {
   "cell_type": "code",
   "execution_count": 99,
   "metadata": {},
   "outputs": [
    {
     "name": "stdout",
     "output_type": "stream",
     "text": [
      "features selected:  3\n"
     ]
    },
    {
     "name": "stderr",
     "output_type": "stream",
     "text": [
      "C:\\Users\\kaumi\\Anaconda3\\lib\\site-packages\\ipykernel_launcher.py:7: SettingWithCopyWarning: \n",
      "A value is trying to be set on a copy of a slice from a DataFrame.\n",
      "Try using .loc[row_indexer,col_indexer] = value instead\n",
      "\n",
      "See the caveats in the documentation: http://pandas.pydata.org/pandas-docs/stable/indexing.html#indexing-view-versus-copy\n",
      "  import sys\n"
     ]
    },
    {
     "name": "stdout",
     "output_type": "stream",
     "text": [
      "0.9871693121693121\n",
      "0.9869209010122615\n"
     ]
    }
   ],
   "source": [
    "dt_clf_monks1.fit(X_train_monks1,y_train_monks1)\n",
    "sel_monks1 = SelectFromModel(dt_clf_monks1,prefit=True)\n",
    "# sel_monks1.fit(df_monks1,y_monks1)\n",
    "print(\"features selected: \",sum(sel_monks1.get_support()))\n",
    "selected_feat_df_monks1 = df_monks1.loc[:,sel_monks1.get_support()]\n",
    "# dt_clf_monks1.fit(X_train_monks1,y_train_monks1)\n",
    "selected_feat_df_monks1['dt_output']=dt_clf_monks1.predict(df_monks1)\n",
    "print(np.mean(cross_val_score(svm_clf_monks1,selected_feat_df_monks1,y_monks1,cv=10,scoring='accuracy')))\n",
    "print(np.mean(cross_val_score(svm_clf_monks1,selected_feat_df_monks1,y_monks1,cv=10,scoring='f1')))"
   ]
  },
  {
   "cell_type": "markdown",
   "metadata": {},
   "source": [
    "# Monks2"
   ]
  },
  {
   "cell_type": "code",
   "execution_count": 101,
   "metadata": {},
   "outputs": [],
   "source": [
    "df_monks2 = pd.DataFrame()\n",
    "df_monks2_train = pd.read_csv(os.path.join(PATH,\"monks/monks-2.train\"),header=None,sep=\" \")\n",
    "df_monks2_test = pd.read_csv(os.path.join(PATH,\"monks/monks-2.test\"),header=None,sep=\" \")\n",
    "\n",
    "df_monks2 = df_monks2.append(df_monks2_train,ignore_index=True)\n",
    "df_monks2 = df_monks2.append(df_monks2_test,ignore_index=True)\n",
    "\n",
    "y_monks2 = df_monks2[1]\n",
    "df_monks2 = df_monks2.drop([0,1,8],axis=1)\n",
    "\n",
    "X_train_monks2,X_test_monks2,y_train_monks2,y_test_monks2 = train_test_split(df_monks2,y_monks2,random_state=42)"
   ]
  },
  {
   "cell_type": "code",
   "execution_count": 102,
   "metadata": {},
   "outputs": [
    {
     "name": "stdout",
     "output_type": "stream",
     "text": [
      "0.9664925442252477\n",
      "0.9510059975277366\n"
     ]
    }
   ],
   "source": [
    "dt_clf_monks2 = DecisionTreeClassifier(random_state=42)\n",
    "print(np.mean(cross_val_score(dt_clf_monks2,df_monks2,y_monks2,cv=10,scoring='accuracy')))\n",
    "print(np.mean(cross_val_score(dt_clf_monks2,df_monks2,y_monks2,cv=10,scoring='f1')))"
   ]
  },
  {
   "cell_type": "code",
   "execution_count": 106,
   "metadata": {},
   "outputs": [
    {
     "name": "stdout",
     "output_type": "stream",
     "text": [
      "0.6506362878577383\n",
      "0.6506362878577383\n"
     ]
    }
   ],
   "source": [
    "svm_clf_monks2 = SVC(random_state=42,kernel='rbf',gamma='scale')\n",
    "print(np.mean(cross_val_score(svm_clf_monks2,df_monks2,y_monks2,cv=10,scoring='accuracy')))\n",
    "print(np.mean(cross_val_score(svm_clf_monks2,df_monks2,y_monks2,cv=10,scoring='f1')))"
   ]
  },
  {
   "cell_type": "code",
   "execution_count": 107,
   "metadata": {},
   "outputs": [
    {
     "name": "stdout",
     "output_type": "stream",
     "text": [
      "features selected:  3\n"
     ]
    },
    {
     "name": "stderr",
     "output_type": "stream",
     "text": [
      "C:\\Users\\kaumi\\Anaconda3\\lib\\site-packages\\ipykernel_launcher.py:7: SettingWithCopyWarning: \n",
      "A value is trying to be set on a copy of a slice from a DataFrame.\n",
      "Try using .loc[row_indexer,col_indexer] = value instead\n",
      "\n",
      "See the caveats in the documentation: http://pandas.pydata.org/pandas-docs/stable/indexing.html#indexing-view-versus-copy\n",
      "  import sys\n"
     ]
    },
    {
     "name": "stdout",
     "output_type": "stream",
     "text": [
      "0.9916092433083264\n",
      "0.9876681646959582\n"
     ]
    }
   ],
   "source": [
    "dt_clf_monks2.fit(X_train_monks2,y_train_monks2)\n",
    "sel_monks2 = SelectFromModel(dt_clf_monks2,prefit=True)\n",
    "# sel_monks2.fit(df_monks2,y_monks2)\n",
    "print(\"features selected: \",sum(sel_monks2.get_support()))\n",
    "selected_feat_df_monks2 = df_monks2.loc[:,sel_monks2.get_support()]\n",
    "# dt_clf_monks2.fit(X_train_monks2,y_train_monks2)\n",
    "selected_feat_df_monks2['dt_output']=dt_clf_monks2.predict(df_monks2)\n",
    "print(np.mean(cross_val_score(svm_clf_monks2,selected_feat_df_monks2,y_monks2,cv=10,scoring='accuracy')))\n",
    "print(np.mean(cross_val_score(svm_clf_monks2,selected_feat_df_monks2,y_monks2,cv=10,scoring='f1')))"
   ]
  },
  {
   "cell_type": "markdown",
   "metadata": {},
   "source": [
    "# Monks3"
   ]
  },
  {
   "cell_type": "code",
   "execution_count": 109,
   "metadata": {},
   "outputs": [],
   "source": [
    "df_monks3 = pd.DataFrame()\n",
    "df_monks3_train = pd.read_csv(os.path.join(PATH,\"monks/monks-3.train\"),header=None,sep=\" \")\n",
    "df_monks3_test = pd.read_csv(os.path.join(PATH,\"monks/monks-3.test\"),header=None,sep=\" \")\n",
    "\n",
    "df_monks3 = df_monks3.append(df_monks3_train,ignore_index=True)\n",
    "df_monks3 = df_monks3.append(df_monks3_test,ignore_index=True)\n",
    "\n",
    "y_monks3 = df_monks3[1]\n",
    "df_monks3 = df_monks3.drop([0,1,8],axis=1)\n",
    "\n",
    "X_train_monks3,X_test_monks3,y_train_monks3,y_test_monks3 = train_test_split(df_monks3,y_monks3,random_state=42)"
   ]
  },
  {
   "cell_type": "code",
   "execution_count": 110,
   "metadata": {},
   "outputs": [
    {
     "name": "stdout",
     "output_type": "stream",
     "text": [
      "0.9638924963924964\n",
      "0.9639681784677471\n"
     ]
    }
   ],
   "source": [
    "dt_clf_monks3 = DecisionTreeClassifier(random_state=42)\n",
    "print(np.mean(cross_val_score(dt_clf_monks3,df_monks3,y_monks3,cv=10,scoring='accuracy')))\n",
    "print(np.mean(cross_val_score(dt_clf_monks3,df_monks3,y_monks3,cv=10,scoring='f1')))"
   ]
  },
  {
   "cell_type": "code",
   "execution_count": 111,
   "metadata": {},
   "outputs": [
    {
     "name": "stdout",
     "output_type": "stream",
     "text": [
      "0.9638912938912938\n",
      "0.963921448921449\n"
     ]
    }
   ],
   "source": [
    "svm_clf_monks3 = SVC(random_state=42,kernel='rbf',gamma='scale')\n",
    "print(np.mean(cross_val_score(svm_clf_monks3,df_monks3,y_monks3,cv=10,scoring='accuracy')))\n",
    "print(np.mean(cross_val_score(svm_clf_monks3,df_monks3,y_monks3,cv=10,scoring='f1')))"
   ]
  },
  {
   "cell_type": "code",
   "execution_count": 112,
   "metadata": {},
   "outputs": [
    {
     "name": "stdout",
     "output_type": "stream",
     "text": [
      "features selected:  2\n"
     ]
    },
    {
     "name": "stderr",
     "output_type": "stream",
     "text": [
      "C:\\Users\\kaumi\\Anaconda3\\lib\\site-packages\\ipykernel_launcher.py:7: SettingWithCopyWarning: \n",
      "A value is trying to be set on a copy of a slice from a DataFrame.\n",
      "Try using .loc[row_indexer,col_indexer] = value instead\n",
      "\n",
      "See the caveats in the documentation: http://pandas.pydata.org/pandas-docs/stable/indexing.html#indexing-view-versus-copy\n",
      "  import sys\n"
     ]
    },
    {
     "name": "stdout",
     "output_type": "stream",
     "text": [
      "0.9874350649350649\n",
      "0.987712926383756\n"
     ]
    }
   ],
   "source": [
    "dt_clf_monks3.fit(X_train_monks3,y_train_monks3)\n",
    "sel_monks3 = SelectFromModel(dt_clf_monks3,prefit=True)\n",
    "# sel_monks2.fit(df_monks2,y_monks2)\n",
    "print(\"features selected: \",sum(sel_monks3.get_support()))\n",
    "selected_feat_df_monks3 = df_monks3.loc[:,sel_monks3.get_support()]\n",
    "# dt_clf_monks2.fit(X_train_monks2,y_train_monks2)\n",
    "selected_feat_df_monks3['dt_output']=dt_clf_monks3.predict(df_monks3)\n",
    "print(np.mean(cross_val_score(svm_clf_monks3,selected_feat_df_monks3,y_monks3,cv=10,scoring='accuracy')))\n",
    "print(np.mean(cross_val_score(svm_clf_monks3,selected_feat_df_monks3,y_monks3,cv=10,scoring='f1')))"
   ]
  },
  {
   "cell_type": "markdown",
   "metadata": {},
   "source": [
    "# Mushroom"
   ]
  },
  {
   "cell_type": "code",
   "execution_count": 114,
   "metadata": {},
   "outputs": [],
   "source": [
    "df_mushroom = pd.read_csv(os.path.join(PATH,\"mushroom/mushrooms.csv\"))\n",
    "y_mushroom = df_mushroom['class']\n",
    "df_mushroom = df_mushroom.drop(['class'],axis=1)\n",
    "df_mushroom = pd.get_dummies(df_mushroom)\n",
    "y_mushroom = y_mushroom.map({'p':0,'e':1})\n",
    "X_train_mushroom,X_test_mushroom,y_train_mushroom,y_test_mushroom = train_test_split(df_mushroom,y_mushroom,random_state=42)"
   ]
  },
  {
   "cell_type": "code",
   "execution_count": 115,
   "metadata": {},
   "outputs": [
    {
     "name": "stdout",
     "output_type": "stream",
     "text": [
      "0.9564284446790214\n",
      "0.9635446889718182\n"
     ]
    }
   ],
   "source": [
    "dt_clf_mushroom = DecisionTreeClassifier(random_state=42)\n",
    "print(np.mean(cross_val_score(dt_clf_mushroom,df_mushroom,y_mushroom,cv=10,scoring='accuracy')))\n",
    "print(np.mean(cross_val_score(dt_clf_mushroom,df_mushroom,y_mushroom,cv=10,scoring='f1')))"
   ]
  },
  {
   "cell_type": "code",
   "execution_count": 116,
   "metadata": {},
   "outputs": [
    {
     "name": "stdout",
     "output_type": "stream",
     "text": [
      "0.9438531993211423\n",
      "0.9461093424144631\n"
     ]
    }
   ],
   "source": [
    "svm_clf_mushroom = SVC(random_state=42,kernel='rbf',gamma='scale')\n",
    "print(np.mean(cross_val_score(svm_clf_mushroom,df_mushroom,y_mushroom,cv=10,scoring='accuracy')))\n",
    "print(np.mean(cross_val_score(svm_clf_mushroom,df_mushroom,y_mushroom,cv=10,scoring='f1')))"
   ]
  },
  {
   "cell_type": "code",
   "execution_count": 117,
   "metadata": {},
   "outputs": [
    {
     "name": "stdout",
     "output_type": "stream",
     "text": [
      "features selected:  7\n"
     ]
    },
    {
     "name": "stderr",
     "output_type": "stream",
     "text": [
      "C:\\Users\\kaumi\\Anaconda3\\lib\\site-packages\\ipykernel_launcher.py:7: SettingWithCopyWarning: \n",
      "A value is trying to be set on a copy of a slice from a DataFrame.\n",
      "Try using .loc[row_indexer,col_indexer] = value instead\n",
      "\n",
      "See the caveats in the documentation: http://pandas.pydata.org/pandas-docs/stable/indexing.html#indexing-view-versus-copy\n",
      "  import sys\n"
     ]
    },
    {
     "name": "stdout",
     "output_type": "stream",
     "text": [
      "1.0\n",
      "1.0\n"
     ]
    }
   ],
   "source": [
    "dt_clf_mushroom.fit(X_train_mushroom,y_train_mushroom)\n",
    "sel_mushroom = SelectFromModel(dt_clf_mushroom,prefit=True)\n",
    "# sel_mushroom.fit(df_mushroom,y_mushroom)\n",
    "print(\"features selected: \",sum(sel_mushroom.get_support()))\n",
    "selected_feat_df_mushroom = df_mushroom.loc[:,sel_mushroom.get_support()]\n",
    "# dt_clf_mushroom.fit(X_train_mushroom,y_train_mushroom)\n",
    "selected_feat_df_mushroom['dt_output']=dt_clf_mushroom.predict(df_mushroom)\n",
    "print(np.mean(cross_val_score(svm_clf_mushroom,selected_feat_df_mushroom,y_mushroom,cv=10,scoring='accuracy')))\n",
    "print(np.mean(cross_val_score(svm_clf_mushroom,selected_feat_df_mushroom,y_mushroom,cv=10,scoring='f1')))"
   ]
  },
  {
   "cell_type": "markdown",
   "metadata": {},
   "source": [
    "# Musk1"
   ]
  },
  {
   "cell_type": "code",
   "execution_count": 118,
   "metadata": {},
   "outputs": [],
   "source": [
    "df_musk1 = pd.read_csv(os.path.join(PATH,\"musk1/clean1.data\"),header=None)\n",
    "y_musk1 = df_musk1[168]\n",
    "df_musk1 = df_musk1.drop([0,1,168],axis=1)\n",
    "X_train_musk1,X_test_musk1,y_train_musk1,y_test_musk1 = train_test_split(df_musk1,y_musk1,random_state=42)"
   ]
  },
  {
   "cell_type": "code",
   "execution_count": 119,
   "metadata": {},
   "outputs": [
    {
     "name": "stdout",
     "output_type": "stream",
     "text": [
      "0.7131109312365094\n",
      "0.6441861746907149\n"
     ]
    }
   ],
   "source": [
    "dt_clf_musk1 = DecisionTreeClassifier(random_state=42)\n",
    "print(np.mean(cross_val_score(dt_clf_musk1,df_musk1,y_musk1,cv=10,scoring='accuracy')))\n",
    "print(np.mean(cross_val_score(dt_clf_musk1,df_musk1,y_musk1,cv=10,scoring='f1')))"
   ]
  },
  {
   "cell_type": "code",
   "execution_count": 121,
   "metadata": {},
   "outputs": [
    {
     "name": "stdout",
     "output_type": "stream",
     "text": [
      "0.569332022818378\n",
      "0.569332022818378\n"
     ]
    }
   ],
   "source": [
    "svm_clf_musk1 = SVC(random_state=42,kernel='rbf',gamma='scale')\n",
    "print(np.mean(cross_val_score(svm_clf_musk1,df_musk1,y_musk1,cv=10,scoring='accuracy')))\n",
    "print(np.mean(cross_val_score(svm_clf_musk1,df_musk1,y_musk1,cv=10,scoring='f1')))"
   ]
  },
  {
   "cell_type": "code",
   "execution_count": 123,
   "metadata": {},
   "outputs": [
    {
     "name": "stdout",
     "output_type": "stream",
     "text": [
      "features selected:  29\n"
     ]
    },
    {
     "name": "stderr",
     "output_type": "stream",
     "text": [
      "C:\\Users\\kaumi\\Anaconda3\\lib\\site-packages\\ipykernel_launcher.py:7: SettingWithCopyWarning: \n",
      "A value is trying to be set on a copy of a slice from a DataFrame.\n",
      "Try using .loc[row_indexer,col_indexer] = value instead\n",
      "\n",
      "See the caveats in the documentation: http://pandas.pydata.org/pandas-docs/stable/indexing.html#indexing-view-versus-copy\n",
      "  import sys\n"
     ]
    },
    {
     "name": "stdout",
     "output_type": "stream",
     "text": [
      "0.5946904872032068\n",
      "0.5946904872032068\n"
     ]
    }
   ],
   "source": [
    "dt_clf_musk1.fit(X_train_musk1,y_train_musk1)\n",
    "sel_musk1= SelectFromModel(dt_clf_musk1,prefit=True)\n",
    "# sel_musk1.fit(df_musk1,y_musk1)\n",
    "print(\"features selected: \",sum(sel_musk1.get_support()))\n",
    "selected_feat_df_musk1 = df_musk1.loc[:,sel_musk1.get_support()]\n",
    "# dt_clf_musk1.fit(X_train_musk1,y_train_musk1)\n",
    "selected_feat_df_musk1['dt_output']=dt_clf_musk1.predict(df_musk1)\n",
    "print(np.mean(cross_val_score(svm_clf_musk1,selected_feat_df_musk1,y_musk1,cv=10,scoring='accuracy')))\n",
    "print(np.mean(cross_val_score(svm_clf_musk1,selected_feat_df_musk1,y_musk1,cv=10,scoring='f1')))"
   ]
  },
  {
   "cell_type": "markdown",
   "metadata": {},
   "source": [
    "# Musk2"
   ]
  },
  {
   "cell_type": "code",
   "execution_count": 125,
   "metadata": {},
   "outputs": [],
   "source": [
    "df_musk2 = pd.read_csv(os.path.join(PATH,\"musk2/clean2.data\"),header=None)\n",
    "y_musk2 = df_musk2[168]\n",
    "df_musk2 = df_musk2.drop([0,1,168],axis=1)\n",
    "X_train_musk2,X_test_musk2,y_train_musk2,y_test_musk2 = train_test_split(df_musk2,y_musk2,random_state=42)"
   ]
  },
  {
   "cell_type": "code",
   "execution_count": 126,
   "metadata": {},
   "outputs": [
    {
     "name": "stdout",
     "output_type": "stream",
     "text": [
      "0.7806383091287671\n",
      "0.5885950132869692\n"
     ]
    }
   ],
   "source": [
    "dt_clf_musk2 = DecisionTreeClassifier(random_state=42)\n",
    "print(np.mean(cross_val_score(dt_clf_musk2,df_musk2,y_musk2,cv=10,scoring='accuracy')))\n",
    "print(np.mean(cross_val_score(dt_clf_musk2,df_musk2,y_musk2,cv=10,scoring='f1')))"
   ]
  },
  {
   "cell_type": "code",
   "execution_count": 130,
   "metadata": {},
   "outputs": [
    {
     "name": "stdout",
     "output_type": "stream",
     "text": [
      "0.8508616605750896\n",
      "0.8508616605750896\n"
     ]
    }
   ],
   "source": [
    "svm_clf_musk2 = SVC(random_state=42,kernel='rbf',gamma='scale')\n",
    "print(np.mean(cross_val_score(svm_clf_musk2,df_musk2,y_musk2,cv=10,scoring='accuracy')))\n",
    "print(np.mean(cross_val_score(svm_clf_musk2,df_musk2,y_musk2,cv=10,scoring='f1_micro')))"
   ]
  },
  {
   "cell_type": "code",
   "execution_count": 131,
   "metadata": {},
   "outputs": [
    {
     "name": "stdout",
     "output_type": "stream",
     "text": [
      "features selected:  37\n"
     ]
    },
    {
     "name": "stderr",
     "output_type": "stream",
     "text": [
      "C:\\Users\\kaumi\\Anaconda3\\lib\\site-packages\\ipykernel_launcher.py:7: SettingWithCopyWarning: \n",
      "A value is trying to be set on a copy of a slice from a DataFrame.\n",
      "Try using .loc[row_indexer,col_indexer] = value instead\n",
      "\n",
      "See the caveats in the documentation: http://pandas.pydata.org/pandas-docs/stable/indexing.html#indexing-view-versus-copy\n",
      "  import sys\n"
     ]
    },
    {
     "name": "stdout",
     "output_type": "stream",
     "text": [
      "0.8537402261894055\n",
      "0.8537402261894054\n"
     ]
    }
   ],
   "source": [
    "dt_clf_musk2.fit(X_train_musk2,y_train_musk2)\n",
    "sel_musk2= SelectFromModel(dt_clf_musk2,prefit=True)\n",
    "# sel_musk2.fit(df_musk2,y_musk2)\n",
    "print(\"features selected: \",sum(sel_musk2.get_support()))\n",
    "selected_feat_df_musk2 = df_musk2.loc[:,sel_musk2.get_support()]\n",
    "# dt_clf_musk2.fit(X_train_musk2,y_train_musk2)\n",
    "selected_feat_df_musk2['dt_output']=dt_clf_musk2.predict(df_musk2)\n",
    "print(np.mean(cross_val_score(svm_clf_musk2,selected_feat_df_musk2,y_musk2,cv=10,scoring='accuracy')))\n",
    "print(np.mean(cross_val_score(svm_clf_musk2,selected_feat_df_musk2,y_musk2,cv=10,scoring='f1_micro')))"
   ]
  },
  {
   "cell_type": "markdown",
   "metadata": {},
   "source": [
    "# Ozone"
   ]
  },
  {
   "cell_type": "code",
   "execution_count": 132,
   "metadata": {},
   "outputs": [],
   "source": [
    "df_ozone = pd.read_csv(os.path.join(PATH,\"ozone/ozone.data\"),header=None)\n",
    "\n",
    "df_ozone = df_ozone.replace('?',np.NAN)\n",
    "df_ozone = df_ozone.dropna()\n",
    "\n",
    "y_ozone = df_ozone[73]\n",
    "df_ozone = df_ozone.drop([0,73],axis=1)\n",
    "\n",
    "X_train_ozone,X_test_ozone,y_train_ozone,y_test_ozone = train_test_split(df_ozone,y_ozone,random_state=42)"
   ]
  },
  {
   "cell_type": "code",
   "execution_count": 135,
   "metadata": {},
   "outputs": [
    {
     "name": "stdout",
     "output_type": "stream",
     "text": [
      "0.892270215689674\n",
      "0.892270215689674\n"
     ]
    }
   ],
   "source": [
    "dt_clf_ozone = DecisionTreeClassifier(random_state=42)\n",
    "print(np.mean(cross_val_score(dt_clf_ozone,df_ozone,y_ozone,cv=10,scoring='accuracy')))\n",
    "print(np.mean(cross_val_score(dt_clf_ozone,df_ozone,y_ozone,cv=10,scoring='f1_micro')))"
   ]
  },
  {
   "cell_type": "code",
   "execution_count": 137,
   "metadata": {},
   "outputs": [
    {
     "name": "stdout",
     "output_type": "stream",
     "text": [
      "0.9307046676041688\n",
      "0.9307046676041688\n"
     ]
    }
   ],
   "source": [
    "svm_clf_ozone = SVC(random_state=42,kernel='rbf',gamma='scale')\n",
    "print(np.mean(cross_val_score(svm_clf_ozone,df_ozone,y_ozone,cv=10,scoring='accuracy')))\n",
    "print(np.mean(cross_val_score(svm_clf_ozone,df_ozone,y_ozone,cv=10,scoring='f1_micro')))"
   ]
  },
  {
   "cell_type": "code",
   "execution_count": 140,
   "metadata": {},
   "outputs": [
    {
     "name": "stdout",
     "output_type": "stream",
     "text": [
      "features selected:  24\n"
     ]
    },
    {
     "name": "stderr",
     "output_type": "stream",
     "text": [
      "C:\\Users\\kaumi\\Anaconda3\\lib\\site-packages\\ipykernel_launcher.py:7: SettingWithCopyWarning: \n",
      "A value is trying to be set on a copy of a slice from a DataFrame.\n",
      "Try using .loc[row_indexer,col_indexer] = value instead\n",
      "\n",
      "See the caveats in the documentation: http://pandas.pydata.org/pandas-docs/stable/indexing.html#indexing-view-versus-copy\n",
      "  import sys\n"
     ]
    },
    {
     "name": "stdout",
     "output_type": "stream",
     "text": [
      "0.9307046676041688\n",
      "0.9307046676041688\n"
     ]
    }
   ],
   "source": [
    "dt_clf_ozone.fit(X_train_ozone,y_train_ozone)\n",
    "sel_ozone= SelectFromModel(dt_clf_ozone,prefit=True)\n",
    "# sel_ozone.fit(df_ozone,y_ozone)\n",
    "print(\"features selected: \",sum(sel_ozone.get_support()))\n",
    "selected_feat_df_ozone = df_ozone.loc[:,sel_ozone.get_support()]\n",
    "# dt_clf_ozone.fit(X_train_ozone,y_train_ozone)\n",
    "selected_feat_df_ozone['dt_output']=dt_clf_ozone.predict(df_ozone)\n",
    "print(np.mean(cross_val_score(svm_clf_ozone,selected_feat_df_ozone,y_ozone,cv=10,scoring='accuracy')))\n",
    "print(np.mean(cross_val_score(svm_clf_ozone,selected_feat_df_ozone,y_ozone,cv=10,scoring='f1_micro')))"
   ]
  },
  {
   "cell_type": "markdown",
   "metadata": {},
   "source": [
    "# Parkinsons"
   ]
  },
  {
   "cell_type": "code",
   "execution_count": 141,
   "metadata": {},
   "outputs": [],
   "source": [
    "df_parkinsons = pd.read_csv(os.path.join(PATH,\"parkinsons/parkinsons.data\"))\n",
    "\n",
    "y_parkinsons = df_parkinsons['status']\n",
    "df_parkinsons = df_parkinsons.drop(['name','status'],axis=1)\n",
    "\n",
    "X_train_parkinsons,X_test_parkinsons,y_train_parkinsons,y_test_parkinsons = train_test_split(df_parkinsons,y_parkinsons,random_state=42)"
   ]
  },
  {
   "cell_type": "code",
   "execution_count": 142,
   "metadata": {},
   "outputs": [
    {
     "name": "stdout",
     "output_type": "stream",
     "text": [
      "0.8040058479532164\n",
      "0.8666767188749948\n"
     ]
    }
   ],
   "source": [
    "dt_clf_parkinsons = DecisionTreeClassifier(random_state=42)\n",
    "print(np.mean(cross_val_score(dt_clf_parkinsons,df_parkinsons,y_parkinsons,cv=10,scoring='accuracy')))\n",
    "print(np.mean(cross_val_score(dt_clf_parkinsons,df_parkinsons,y_parkinsons,cv=10,scoring='f1')))"
   ]
  },
  {
   "cell_type": "code",
   "execution_count": 143,
   "metadata": {},
   "outputs": [
    {
     "name": "stdout",
     "output_type": "stream",
     "text": [
      "0.7637134502923976\n",
      "0.8546570258927945\n"
     ]
    }
   ],
   "source": [
    "svm_clf_parkinsons = SVC(random_state=42,kernel='rbf',gamma='scale')\n",
    "print(np.mean(cross_val_score(svm_clf_parkinsons,df_parkinsons,y_parkinsons,cv=10,scoring='accuracy')))\n",
    "print(np.mean(cross_val_score(svm_clf_parkinsons,df_parkinsons,y_parkinsons,cv=10,scoring='f1')))"
   ]
  },
  {
   "cell_type": "code",
   "execution_count": 144,
   "metadata": {
    "scrolled": true
   },
   "outputs": [
    {
     "name": "stdout",
     "output_type": "stream",
     "text": [
      "features selected:  6\n"
     ]
    },
    {
     "name": "stderr",
     "output_type": "stream",
     "text": [
      "C:\\Users\\kaumi\\Anaconda3\\lib\\site-packages\\ipykernel_launcher.py:7: SettingWithCopyWarning: \n",
      "A value is trying to be set on a copy of a slice from a DataFrame.\n",
      "Try using .loc[row_indexer,col_indexer] = value instead\n",
      "\n",
      "See the caveats in the documentation: http://pandas.pydata.org/pandas-docs/stable/indexing.html#indexing-view-versus-copy\n",
      "  import sys\n"
     ]
    },
    {
     "name": "stdout",
     "output_type": "stream",
     "text": [
      "0.8236842105263158\n",
      "0.8957600337131515\n"
     ]
    }
   ],
   "source": [
    "dt_clf_parkinsons.fit(X_train_parkinsons,y_train_parkinsons)\n",
    "sel_parkinsons= SelectFromModel(dt_clf_parkinsons,prefit=True)\n",
    "# sel_parkinsons.fit(df_parkinsons,y_parkinsons)\n",
    "print(\"features selected: \",sum(sel_parkinsons.get_support()))\n",
    "selected_feat_df_parkinsons = df_parkinsons.loc[:,sel_parkinsons.get_support()]\n",
    "# dt_clf_parkinsons.fit(X_train_parkinsons,y_train_parkinsons)\n",
    "selected_feat_df_parkinsons['dt_output']=dt_clf_parkinsons.predict(df_parkinsons)\n",
    "print(np.mean(cross_val_score(svm_clf_parkinsons,selected_feat_df_parkinsons,y_parkinsons,cv=10,scoring='accuracy')))\n",
    "print(np.mean(cross_val_score(svm_clf_parkinsons,selected_feat_df_parkinsons,y_parkinsons,cv=10,scoring='f1')))"
   ]
  },
  {
   "cell_type": "markdown",
   "metadata": {},
   "source": [
    "# Planning"
   ]
  },
  {
   "cell_type": "code",
   "execution_count": 145,
   "metadata": {},
   "outputs": [],
   "source": [
    "df_planning = pd.read_csv(os.path.join(PATH,\"planning/plrx.txt\"),sep='\\t',header=None)\n",
    "\n",
    "y_planning = df_planning[12]\n",
    "df_planning = df_planning.drop([12,13],axis=1)\n",
    "y_planning = y_planning.map({1.0:0,2.0:1})\n",
    "\n",
    "X_train_planning,X_test_planning,y_train_planning,y_test_planning = train_test_split(df_planning,y_planning,random_state=42)"
   ]
  },
  {
   "cell_type": "code",
   "execution_count": 150,
   "metadata": {},
   "outputs": [
    {
     "name": "stdout",
     "output_type": "stream",
     "text": [
      "0.5336257309941521\n",
      "0.5336257309941521\n"
     ]
    }
   ],
   "source": [
    "dt_clf_planning = DecisionTreeClassifier(random_state=42)\n",
    "print(np.mean(cross_val_score(dt_clf_planning,df_planning,y_planning,cv=10,scoring='accuracy')))\n",
    "print(np.mean(cross_val_score(dt_clf_planning,df_planning,y_planning,cv=10,scoring='f1')))"
   ]
  },
  {
   "cell_type": "code",
   "execution_count": 154,
   "metadata": {},
   "outputs": [
    {
     "name": "stdout",
     "output_type": "stream",
     "text": [
      "0.7146198830409357\n",
      "0.7146198830409357\n"
     ]
    }
   ],
   "source": [
    "svm_clf_planning = SVC(random_state=42,kernel='rbf',gamma='scale')\n",
    "print(np.mean(cross_val_score(svm_clf_planning,df_planning,y_planning,cv=10,scoring='accuracy')))\n",
    "print(np.mean(cross_val_score(svm_clf_planning,df_planning,y_planning,cv=10,scoring='f1')))"
   ]
  },
  {
   "cell_type": "code",
   "execution_count": 155,
   "metadata": {},
   "outputs": [
    {
     "name": "stdout",
     "output_type": "stream",
     "text": [
      "features selected:  4\n"
     ]
    },
    {
     "name": "stderr",
     "output_type": "stream",
     "text": [
      "C:\\Users\\kaumi\\Anaconda3\\lib\\site-packages\\ipykernel_launcher.py:7: SettingWithCopyWarning: \n",
      "A value is trying to be set on a copy of a slice from a DataFrame.\n",
      "Try using .loc[row_indexer,col_indexer] = value instead\n",
      "\n",
      "See the caveats in the documentation: http://pandas.pydata.org/pandas-docs/stable/indexing.html#indexing-view-versus-copy\n",
      "  import sys\n"
     ]
    },
    {
     "name": "stdout",
     "output_type": "stream",
     "text": [
      "0.87953216374269\n",
      "0.7795998445998445\n"
     ]
    }
   ],
   "source": [
    "dt_clf_planning.fit(X_train_planning,y_train_planning)\n",
    "sel_planning= SelectFromModel(dt_clf_planning,prefit=True)\n",
    "# sel_planning.fit(df_planning,y_planning)\n",
    "print(\"features selected: \",sum(sel_planning.get_support()))\n",
    "selected_feat_df_planning = df_planning.loc[:,sel_planning.get_support()]\n",
    "# dt_clf_planning.fit(X_train_planning,y_train_planning)\n",
    "selected_feat_df_planning['dt_output']=dt_clf_planning.predict(df_planning)\n",
    "print(np.mean(cross_val_score(svm_clf_planning,selected_feat_df_planning,y_planning,cv=10,scoring='accuracy')))\n",
    "print(np.mean(cross_val_score(svm_clf_planning,selected_feat_df_planning,y_planning,cv=10,scoring='f1')))"
   ]
  },
  {
   "cell_type": "markdown",
   "metadata": {},
   "source": [
    "# Ringnorm"
   ]
  },
  {
   "cell_type": "code",
   "execution_count": 157,
   "metadata": {},
   "outputs": [],
   "source": [
    "df_ringnorm = pd.read_csv(os.path.join(PATH,\"ringnorm/ringnorm.csv\"))\n",
    "\n",
    "y_ringnorm = df_ringnorm['Class']\n",
    "df_ringnorm = df_ringnorm.drop(['Class'],axis=1)\n",
    "y_ringnorm = y_ringnorm.map({1:0,2:1})\n",
    "\n",
    "X_train_ringnorm,X_test_ringnorm,y_train_ringnorm,y_test_ringnorm = train_test_split(df_ringnorm,y_ringnorm,random_state=42)"
   ]
  },
  {
   "cell_type": "code",
   "execution_count": 158,
   "metadata": {},
   "outputs": [
    {
     "name": "stdout",
     "output_type": "stream",
     "text": [
      "0.8759433910580553\n",
      "0.8790831806992138\n"
     ]
    }
   ],
   "source": [
    "dt_clf_ringnorm = DecisionTreeClassifier(random_state=42)\n",
    "print(np.mean(cross_val_score(dt_clf_ringnorm,df_ringnorm,y_ringnorm,cv=10,scoring='accuracy')))\n",
    "print(np.mean(cross_val_score(dt_clf_ringnorm,df_ringnorm,y_ringnorm,cv=10,scoring='f1')))"
   ]
  },
  {
   "cell_type": "code",
   "execution_count": 162,
   "metadata": {},
   "outputs": [
    {
     "ename": "KeyboardInterrupt",
     "evalue": "",
     "output_type": "error",
     "traceback": [
      "\u001b[1;31m---------------------------------------------------------------------------\u001b[0m",
      "\u001b[1;31mKeyboardInterrupt\u001b[0m                         Traceback (most recent call last)",
      "\u001b[1;32m<ipython-input-162-6ff8c231669d>\u001b[0m in \u001b[0;36m<module>\u001b[1;34m()\u001b[0m\n\u001b[0;32m      1\u001b[0m \u001b[0msvm_clf_ringnorm\u001b[0m \u001b[1;33m=\u001b[0m \u001b[0mSVC\u001b[0m\u001b[1;33m(\u001b[0m\u001b[0mrandom_state\u001b[0m\u001b[1;33m=\u001b[0m\u001b[1;36m42\u001b[0m\u001b[1;33m,\u001b[0m\u001b[0mkernel\u001b[0m\u001b[1;33m=\u001b[0m\u001b[1;34m'rbf'\u001b[0m\u001b[1;33m,\u001b[0m\u001b[0mgamma\u001b[0m\u001b[1;33m=\u001b[0m\u001b[1;34m'scale'\u001b[0m\u001b[1;33m)\u001b[0m\u001b[1;33m\u001b[0m\u001b[0m\n\u001b[1;32m----> 2\u001b[1;33m \u001b[0mprint\u001b[0m\u001b[1;33m(\u001b[0m\u001b[0mnp\u001b[0m\u001b[1;33m.\u001b[0m\u001b[0mmean\u001b[0m\u001b[1;33m(\u001b[0m\u001b[0mcross_val_score\u001b[0m\u001b[1;33m(\u001b[0m\u001b[0msvm_clf_ringnorm\u001b[0m\u001b[1;33m,\u001b[0m\u001b[0mdf_ringnorm\u001b[0m\u001b[1;33m,\u001b[0m\u001b[0my_ringnorm\u001b[0m\u001b[1;33m,\u001b[0m\u001b[0mcv\u001b[0m\u001b[1;33m=\u001b[0m\u001b[1;36m10\u001b[0m\u001b[1;33m,\u001b[0m\u001b[0mscoring\u001b[0m\u001b[1;33m=\u001b[0m\u001b[1;34m'accuracy'\u001b[0m\u001b[1;33m)\u001b[0m\u001b[1;33m)\u001b[0m\u001b[1;33m)\u001b[0m\u001b[1;33m\u001b[0m\u001b[0m\n\u001b[0m\u001b[0;32m      3\u001b[0m \u001b[0mprint\u001b[0m\u001b[1;33m(\u001b[0m\u001b[0mnp\u001b[0m\u001b[1;33m.\u001b[0m\u001b[0mmean\u001b[0m\u001b[1;33m(\u001b[0m\u001b[0mcross_val_score\u001b[0m\u001b[1;33m(\u001b[0m\u001b[0msvm_clf_ringnorm\u001b[0m\u001b[1;33m,\u001b[0m\u001b[0mdf_ringnorm\u001b[0m\u001b[1;33m,\u001b[0m\u001b[0my_ringnorm\u001b[0m\u001b[1;33m,\u001b[0m\u001b[0mcv\u001b[0m\u001b[1;33m=\u001b[0m\u001b[1;36m10\u001b[0m\u001b[1;33m,\u001b[0m\u001b[0mscoring\u001b[0m\u001b[1;33m=\u001b[0m\u001b[1;34m'f1'\u001b[0m\u001b[1;33m)\u001b[0m\u001b[1;33m)\u001b[0m\u001b[1;33m)\u001b[0m\u001b[1;33m\u001b[0m\u001b[0m\n",
      "\u001b[1;32m~\\Anaconda3\\lib\\site-packages\\sklearn\\model_selection\\_validation.py\u001b[0m in \u001b[0;36mcross_val_score\u001b[1;34m(estimator, X, y, groups, scoring, cv, n_jobs, verbose, fit_params, pre_dispatch, error_score)\u001b[0m\n\u001b[0;32m    400\u001b[0m                                 \u001b[0mfit_params\u001b[0m\u001b[1;33m=\u001b[0m\u001b[0mfit_params\u001b[0m\u001b[1;33m,\u001b[0m\u001b[1;33m\u001b[0m\u001b[0m\n\u001b[0;32m    401\u001b[0m                                 \u001b[0mpre_dispatch\u001b[0m\u001b[1;33m=\u001b[0m\u001b[0mpre_dispatch\u001b[0m\u001b[1;33m,\u001b[0m\u001b[1;33m\u001b[0m\u001b[0m\n\u001b[1;32m--> 402\u001b[1;33m                                 error_score=error_score)\n\u001b[0m\u001b[0;32m    403\u001b[0m     \u001b[1;32mreturn\u001b[0m \u001b[0mcv_results\u001b[0m\u001b[1;33m[\u001b[0m\u001b[1;34m'test_score'\u001b[0m\u001b[1;33m]\u001b[0m\u001b[1;33m\u001b[0m\u001b[0m\n\u001b[0;32m    404\u001b[0m \u001b[1;33m\u001b[0m\u001b[0m\n",
      "\u001b[1;32m~\\Anaconda3\\lib\\site-packages\\sklearn\\model_selection\\_validation.py\u001b[0m in \u001b[0;36mcross_validate\u001b[1;34m(estimator, X, y, groups, scoring, cv, n_jobs, verbose, fit_params, pre_dispatch, return_train_score, return_estimator, error_score)\u001b[0m\n\u001b[0;32m    238\u001b[0m             \u001b[0mreturn_times\u001b[0m\u001b[1;33m=\u001b[0m\u001b[1;32mTrue\u001b[0m\u001b[1;33m,\u001b[0m \u001b[0mreturn_estimator\u001b[0m\u001b[1;33m=\u001b[0m\u001b[0mreturn_estimator\u001b[0m\u001b[1;33m,\u001b[0m\u001b[1;33m\u001b[0m\u001b[0m\n\u001b[0;32m    239\u001b[0m             error_score=error_score)\n\u001b[1;32m--> 240\u001b[1;33m         for train, test in cv.split(X, y, groups))\n\u001b[0m\u001b[0;32m    241\u001b[0m \u001b[1;33m\u001b[0m\u001b[0m\n\u001b[0;32m    242\u001b[0m     \u001b[0mzipped_scores\u001b[0m \u001b[1;33m=\u001b[0m \u001b[0mlist\u001b[0m\u001b[1;33m(\u001b[0m\u001b[0mzip\u001b[0m\u001b[1;33m(\u001b[0m\u001b[1;33m*\u001b[0m\u001b[0mscores\u001b[0m\u001b[1;33m)\u001b[0m\u001b[1;33m)\u001b[0m\u001b[1;33m\u001b[0m\u001b[0m\n",
      "\u001b[1;32m~\\Anaconda3\\lib\\site-packages\\sklearn\\externals\\joblib\\parallel.py\u001b[0m in \u001b[0;36m__call__\u001b[1;34m(self, iterable)\u001b[0m\n\u001b[0;32m    918\u001b[0m                 \u001b[0mself\u001b[0m\u001b[1;33m.\u001b[0m\u001b[0m_iterating\u001b[0m \u001b[1;33m=\u001b[0m \u001b[0mself\u001b[0m\u001b[1;33m.\u001b[0m\u001b[0m_original_iterator\u001b[0m \u001b[1;32mis\u001b[0m \u001b[1;32mnot\u001b[0m \u001b[1;32mNone\u001b[0m\u001b[1;33m\u001b[0m\u001b[0m\n\u001b[0;32m    919\u001b[0m \u001b[1;33m\u001b[0m\u001b[0m\n\u001b[1;32m--> 920\u001b[1;33m             \u001b[1;32mwhile\u001b[0m \u001b[0mself\u001b[0m\u001b[1;33m.\u001b[0m\u001b[0mdispatch_one_batch\u001b[0m\u001b[1;33m(\u001b[0m\u001b[0miterator\u001b[0m\u001b[1;33m)\u001b[0m\u001b[1;33m:\u001b[0m\u001b[1;33m\u001b[0m\u001b[0m\n\u001b[0m\u001b[0;32m    921\u001b[0m                 \u001b[1;32mpass\u001b[0m\u001b[1;33m\u001b[0m\u001b[0m\n\u001b[0;32m    922\u001b[0m \u001b[1;33m\u001b[0m\u001b[0m\n",
      "\u001b[1;32m~\\Anaconda3\\lib\\site-packages\\sklearn\\externals\\joblib\\parallel.py\u001b[0m in \u001b[0;36mdispatch_one_batch\u001b[1;34m(self, iterator)\u001b[0m\n\u001b[0;32m    757\u001b[0m                 \u001b[1;32mreturn\u001b[0m \u001b[1;32mFalse\u001b[0m\u001b[1;33m\u001b[0m\u001b[0m\n\u001b[0;32m    758\u001b[0m             \u001b[1;32melse\u001b[0m\u001b[1;33m:\u001b[0m\u001b[1;33m\u001b[0m\u001b[0m\n\u001b[1;32m--> 759\u001b[1;33m                 \u001b[0mself\u001b[0m\u001b[1;33m.\u001b[0m\u001b[0m_dispatch\u001b[0m\u001b[1;33m(\u001b[0m\u001b[0mtasks\u001b[0m\u001b[1;33m)\u001b[0m\u001b[1;33m\u001b[0m\u001b[0m\n\u001b[0m\u001b[0;32m    760\u001b[0m                 \u001b[1;32mreturn\u001b[0m \u001b[1;32mTrue\u001b[0m\u001b[1;33m\u001b[0m\u001b[0m\n\u001b[0;32m    761\u001b[0m \u001b[1;33m\u001b[0m\u001b[0m\n",
      "\u001b[1;32m~\\Anaconda3\\lib\\site-packages\\sklearn\\externals\\joblib\\parallel.py\u001b[0m in \u001b[0;36m_dispatch\u001b[1;34m(self, batch)\u001b[0m\n\u001b[0;32m    714\u001b[0m         \u001b[1;32mwith\u001b[0m \u001b[0mself\u001b[0m\u001b[1;33m.\u001b[0m\u001b[0m_lock\u001b[0m\u001b[1;33m:\u001b[0m\u001b[1;33m\u001b[0m\u001b[0m\n\u001b[0;32m    715\u001b[0m             \u001b[0mjob_idx\u001b[0m \u001b[1;33m=\u001b[0m \u001b[0mlen\u001b[0m\u001b[1;33m(\u001b[0m\u001b[0mself\u001b[0m\u001b[1;33m.\u001b[0m\u001b[0m_jobs\u001b[0m\u001b[1;33m)\u001b[0m\u001b[1;33m\u001b[0m\u001b[0m\n\u001b[1;32m--> 716\u001b[1;33m             \u001b[0mjob\u001b[0m \u001b[1;33m=\u001b[0m \u001b[0mself\u001b[0m\u001b[1;33m.\u001b[0m\u001b[0m_backend\u001b[0m\u001b[1;33m.\u001b[0m\u001b[0mapply_async\u001b[0m\u001b[1;33m(\u001b[0m\u001b[0mbatch\u001b[0m\u001b[1;33m,\u001b[0m \u001b[0mcallback\u001b[0m\u001b[1;33m=\u001b[0m\u001b[0mcb\u001b[0m\u001b[1;33m)\u001b[0m\u001b[1;33m\u001b[0m\u001b[0m\n\u001b[0m\u001b[0;32m    717\u001b[0m             \u001b[1;31m# A job can complete so quickly than its callback is\u001b[0m\u001b[1;33m\u001b[0m\u001b[1;33m\u001b[0m\u001b[0m\n\u001b[0;32m    718\u001b[0m             \u001b[1;31m# called before we get here, causing self._jobs to\u001b[0m\u001b[1;33m\u001b[0m\u001b[1;33m\u001b[0m\u001b[0m\n",
      "\u001b[1;32m~\\Anaconda3\\lib\\site-packages\\sklearn\\externals\\joblib\\_parallel_backends.py\u001b[0m in \u001b[0;36mapply_async\u001b[1;34m(self, func, callback)\u001b[0m\n\u001b[0;32m    180\u001b[0m     \u001b[1;32mdef\u001b[0m \u001b[0mapply_async\u001b[0m\u001b[1;33m(\u001b[0m\u001b[0mself\u001b[0m\u001b[1;33m,\u001b[0m \u001b[0mfunc\u001b[0m\u001b[1;33m,\u001b[0m \u001b[0mcallback\u001b[0m\u001b[1;33m=\u001b[0m\u001b[1;32mNone\u001b[0m\u001b[1;33m)\u001b[0m\u001b[1;33m:\u001b[0m\u001b[1;33m\u001b[0m\u001b[0m\n\u001b[0;32m    181\u001b[0m         \u001b[1;34m\"\"\"Schedule a func to be run\"\"\"\u001b[0m\u001b[1;33m\u001b[0m\u001b[0m\n\u001b[1;32m--> 182\u001b[1;33m         \u001b[0mresult\u001b[0m \u001b[1;33m=\u001b[0m \u001b[0mImmediateResult\u001b[0m\u001b[1;33m(\u001b[0m\u001b[0mfunc\u001b[0m\u001b[1;33m)\u001b[0m\u001b[1;33m\u001b[0m\u001b[0m\n\u001b[0m\u001b[0;32m    183\u001b[0m         \u001b[1;32mif\u001b[0m \u001b[0mcallback\u001b[0m\u001b[1;33m:\u001b[0m\u001b[1;33m\u001b[0m\u001b[0m\n\u001b[0;32m    184\u001b[0m             \u001b[0mcallback\u001b[0m\u001b[1;33m(\u001b[0m\u001b[0mresult\u001b[0m\u001b[1;33m)\u001b[0m\u001b[1;33m\u001b[0m\u001b[0m\n",
      "\u001b[1;32m~\\Anaconda3\\lib\\site-packages\\sklearn\\externals\\joblib\\_parallel_backends.py\u001b[0m in \u001b[0;36m__init__\u001b[1;34m(self, batch)\u001b[0m\n\u001b[0;32m    547\u001b[0m         \u001b[1;31m# Don't delay the application, to avoid keeping the input\u001b[0m\u001b[1;33m\u001b[0m\u001b[1;33m\u001b[0m\u001b[0m\n\u001b[0;32m    548\u001b[0m         \u001b[1;31m# arguments in memory\u001b[0m\u001b[1;33m\u001b[0m\u001b[1;33m\u001b[0m\u001b[0m\n\u001b[1;32m--> 549\u001b[1;33m         \u001b[0mself\u001b[0m\u001b[1;33m.\u001b[0m\u001b[0mresults\u001b[0m \u001b[1;33m=\u001b[0m \u001b[0mbatch\u001b[0m\u001b[1;33m(\u001b[0m\u001b[1;33m)\u001b[0m\u001b[1;33m\u001b[0m\u001b[0m\n\u001b[0m\u001b[0;32m    550\u001b[0m \u001b[1;33m\u001b[0m\u001b[0m\n\u001b[0;32m    551\u001b[0m     \u001b[1;32mdef\u001b[0m \u001b[0mget\u001b[0m\u001b[1;33m(\u001b[0m\u001b[0mself\u001b[0m\u001b[1;33m)\u001b[0m\u001b[1;33m:\u001b[0m\u001b[1;33m\u001b[0m\u001b[0m\n",
      "\u001b[1;32m~\\Anaconda3\\lib\\site-packages\\sklearn\\externals\\joblib\\parallel.py\u001b[0m in \u001b[0;36m__call__\u001b[1;34m(self)\u001b[0m\n\u001b[0;32m    223\u001b[0m         \u001b[1;32mwith\u001b[0m \u001b[0mparallel_backend\u001b[0m\u001b[1;33m(\u001b[0m\u001b[0mself\u001b[0m\u001b[1;33m.\u001b[0m\u001b[0m_backend\u001b[0m\u001b[1;33m,\u001b[0m \u001b[0mn_jobs\u001b[0m\u001b[1;33m=\u001b[0m\u001b[0mself\u001b[0m\u001b[1;33m.\u001b[0m\u001b[0m_n_jobs\u001b[0m\u001b[1;33m)\u001b[0m\u001b[1;33m:\u001b[0m\u001b[1;33m\u001b[0m\u001b[0m\n\u001b[0;32m    224\u001b[0m             return [func(*args, **kwargs)\n\u001b[1;32m--> 225\u001b[1;33m                     for func, args, kwargs in self.items]\n\u001b[0m\u001b[0;32m    226\u001b[0m \u001b[1;33m\u001b[0m\u001b[0m\n\u001b[0;32m    227\u001b[0m     \u001b[1;32mdef\u001b[0m \u001b[0m__len__\u001b[0m\u001b[1;33m(\u001b[0m\u001b[0mself\u001b[0m\u001b[1;33m)\u001b[0m\u001b[1;33m:\u001b[0m\u001b[1;33m\u001b[0m\u001b[0m\n",
      "\u001b[1;32m~\\Anaconda3\\lib\\site-packages\\sklearn\\externals\\joblib\\parallel.py\u001b[0m in \u001b[0;36m<listcomp>\u001b[1;34m(.0)\u001b[0m\n\u001b[0;32m    223\u001b[0m         \u001b[1;32mwith\u001b[0m \u001b[0mparallel_backend\u001b[0m\u001b[1;33m(\u001b[0m\u001b[0mself\u001b[0m\u001b[1;33m.\u001b[0m\u001b[0m_backend\u001b[0m\u001b[1;33m,\u001b[0m \u001b[0mn_jobs\u001b[0m\u001b[1;33m=\u001b[0m\u001b[0mself\u001b[0m\u001b[1;33m.\u001b[0m\u001b[0m_n_jobs\u001b[0m\u001b[1;33m)\u001b[0m\u001b[1;33m:\u001b[0m\u001b[1;33m\u001b[0m\u001b[0m\n\u001b[0;32m    224\u001b[0m             return [func(*args, **kwargs)\n\u001b[1;32m--> 225\u001b[1;33m                     for func, args, kwargs in self.items]\n\u001b[0m\u001b[0;32m    226\u001b[0m \u001b[1;33m\u001b[0m\u001b[0m\n\u001b[0;32m    227\u001b[0m     \u001b[1;32mdef\u001b[0m \u001b[0m__len__\u001b[0m\u001b[1;33m(\u001b[0m\u001b[0mself\u001b[0m\u001b[1;33m)\u001b[0m\u001b[1;33m:\u001b[0m\u001b[1;33m\u001b[0m\u001b[0m\n",
      "\u001b[1;32m~\\Anaconda3\\lib\\site-packages\\sklearn\\model_selection\\_validation.py\u001b[0m in \u001b[0;36m_fit_and_score\u001b[1;34m(estimator, X, y, scorer, train, test, verbose, parameters, fit_params, return_train_score, return_parameters, return_n_test_samples, return_times, return_estimator, error_score)\u001b[0m\n\u001b[0;32m    526\u001b[0m             \u001b[0mestimator\u001b[0m\u001b[1;33m.\u001b[0m\u001b[0mfit\u001b[0m\u001b[1;33m(\u001b[0m\u001b[0mX_train\u001b[0m\u001b[1;33m,\u001b[0m \u001b[1;33m**\u001b[0m\u001b[0mfit_params\u001b[0m\u001b[1;33m)\u001b[0m\u001b[1;33m\u001b[0m\u001b[0m\n\u001b[0;32m    527\u001b[0m         \u001b[1;32melse\u001b[0m\u001b[1;33m:\u001b[0m\u001b[1;33m\u001b[0m\u001b[0m\n\u001b[1;32m--> 528\u001b[1;33m             \u001b[0mestimator\u001b[0m\u001b[1;33m.\u001b[0m\u001b[0mfit\u001b[0m\u001b[1;33m(\u001b[0m\u001b[0mX_train\u001b[0m\u001b[1;33m,\u001b[0m \u001b[0my_train\u001b[0m\u001b[1;33m,\u001b[0m \u001b[1;33m**\u001b[0m\u001b[0mfit_params\u001b[0m\u001b[1;33m)\u001b[0m\u001b[1;33m\u001b[0m\u001b[0m\n\u001b[0m\u001b[0;32m    529\u001b[0m \u001b[1;33m\u001b[0m\u001b[0m\n\u001b[0;32m    530\u001b[0m     \u001b[1;32mexcept\u001b[0m \u001b[0mException\u001b[0m \u001b[1;32mas\u001b[0m \u001b[0me\u001b[0m\u001b[1;33m:\u001b[0m\u001b[1;33m\u001b[0m\u001b[0m\n",
      "\u001b[1;32m~\\Anaconda3\\lib\\site-packages\\sklearn\\svm\\base.py\u001b[0m in \u001b[0;36mfit\u001b[1;34m(self, X, y, sample_weight)\u001b[0m\n\u001b[0;32m    210\u001b[0m \u001b[1;33m\u001b[0m\u001b[0m\n\u001b[0;32m    211\u001b[0m         \u001b[0mseed\u001b[0m \u001b[1;33m=\u001b[0m \u001b[0mrnd\u001b[0m\u001b[1;33m.\u001b[0m\u001b[0mrandint\u001b[0m\u001b[1;33m(\u001b[0m\u001b[0mnp\u001b[0m\u001b[1;33m.\u001b[0m\u001b[0miinfo\u001b[0m\u001b[1;33m(\u001b[0m\u001b[1;34m'i'\u001b[0m\u001b[1;33m)\u001b[0m\u001b[1;33m.\u001b[0m\u001b[0mmax\u001b[0m\u001b[1;33m)\u001b[0m\u001b[1;33m\u001b[0m\u001b[0m\n\u001b[1;32m--> 212\u001b[1;33m         \u001b[0mfit\u001b[0m\u001b[1;33m(\u001b[0m\u001b[0mX\u001b[0m\u001b[1;33m,\u001b[0m \u001b[0my\u001b[0m\u001b[1;33m,\u001b[0m \u001b[0msample_weight\u001b[0m\u001b[1;33m,\u001b[0m \u001b[0msolver_type\u001b[0m\u001b[1;33m,\u001b[0m \u001b[0mkernel\u001b[0m\u001b[1;33m,\u001b[0m \u001b[0mrandom_seed\u001b[0m\u001b[1;33m=\u001b[0m\u001b[0mseed\u001b[0m\u001b[1;33m)\u001b[0m\u001b[1;33m\u001b[0m\u001b[0m\n\u001b[0m\u001b[0;32m    213\u001b[0m         \u001b[1;31m# see comment on the other call to np.iinfo in this file\u001b[0m\u001b[1;33m\u001b[0m\u001b[1;33m\u001b[0m\u001b[0m\n\u001b[0;32m    214\u001b[0m \u001b[1;33m\u001b[0m\u001b[0m\n",
      "\u001b[1;32m~\\Anaconda3\\lib\\site-packages\\sklearn\\svm\\base.py\u001b[0m in \u001b[0;36m_dense_fit\u001b[1;34m(self, X, y, sample_weight, solver_type, kernel, random_seed)\u001b[0m\n\u001b[0;32m    269\u001b[0m                 \u001b[0mcache_size\u001b[0m\u001b[1;33m=\u001b[0m\u001b[0mself\u001b[0m\u001b[1;33m.\u001b[0m\u001b[0mcache_size\u001b[0m\u001b[1;33m,\u001b[0m \u001b[0mcoef0\u001b[0m\u001b[1;33m=\u001b[0m\u001b[0mself\u001b[0m\u001b[1;33m.\u001b[0m\u001b[0mcoef0\u001b[0m\u001b[1;33m,\u001b[0m\u001b[1;33m\u001b[0m\u001b[0m\n\u001b[0;32m    270\u001b[0m                 \u001b[0mgamma\u001b[0m\u001b[1;33m=\u001b[0m\u001b[0mself\u001b[0m\u001b[1;33m.\u001b[0m\u001b[0m_gamma\u001b[0m\u001b[1;33m,\u001b[0m \u001b[0mepsilon\u001b[0m\u001b[1;33m=\u001b[0m\u001b[0mself\u001b[0m\u001b[1;33m.\u001b[0m\u001b[0mepsilon\u001b[0m\u001b[1;33m,\u001b[0m\u001b[1;33m\u001b[0m\u001b[0m\n\u001b[1;32m--> 271\u001b[1;33m                 max_iter=self.max_iter, random_seed=random_seed)\n\u001b[0m\u001b[0;32m    272\u001b[0m \u001b[1;33m\u001b[0m\u001b[0m\n\u001b[0;32m    273\u001b[0m         \u001b[0mself\u001b[0m\u001b[1;33m.\u001b[0m\u001b[0m_warn_from_fit_status\u001b[0m\u001b[1;33m(\u001b[0m\u001b[1;33m)\u001b[0m\u001b[1;33m\u001b[0m\u001b[0m\n",
      "\u001b[1;31mKeyboardInterrupt\u001b[0m: "
     ]
    }
   ],
   "source": [
    "svm_clf_ringnorm = SVC(random_state=42,kernel='rbf',gamma='scale')\n",
    "print(np.mean(cross_val_score(svm_clf_ringnorm,df_ringnorm,y_ringnorm,cv=10,scoring='accuracy')))\n",
    "print(np.mean(cross_val_score(svm_clf_ringnorm,df_ringnorm,y_ringnorm,cv=10,scoring='f1')))"
   ]
  },
  {
   "cell_type": "code",
   "execution_count": 160,
   "metadata": {},
   "outputs": [
    {
     "name": "stdout",
     "output_type": "stream",
     "text": [
      "features selected:  8\n"
     ]
    },
    {
     "name": "stderr",
     "output_type": "stream",
     "text": [
      "C:\\Users\\kaumi\\Anaconda3\\lib\\site-packages\\ipykernel_launcher.py:7: SettingWithCopyWarning: \n",
      "A value is trying to be set on a copy of a slice from a DataFrame.\n",
      "Try using .loc[row_indexer,col_indexer] = value instead\n",
      "\n",
      "See the caveats in the documentation: http://pandas.pydata.org/pandas-docs/stable/indexing.html#indexing-view-versus-copy\n",
      "  import sys\n"
     ]
    },
    {
     "name": "stdout",
     "output_type": "stream",
     "text": [
      "0.504864871774636\n",
      "0.6709769747219991\n"
     ]
    }
   ],
   "source": [
    "dt_clf_ringnorm.fit(X_train_ringnorm,y_train_ringnorm)\n",
    "sel_ringnorm= SelectFromModel(dt_clf_ringnorm,prefit=True)\n",
    "# sel_ringnorm.fit(df_ringnorm,y_ringnorm)\n",
    "print(\"features selected: \",sum(sel_ringnorm.get_support()))\n",
    "selected_feat_df_ringnorm = df_ringnorm.loc[:,sel_ringnorm.get_support()]\n",
    "# dt_clf_ringnorm.fit(X_train_ringnorm,y_train_ringnorm)\n",
    "selected_feat_df_ringnorm['dt_output']=dt_clf_ringnorm.predict(df_ringnorm)\n",
    "print(np.mean(cross_val_score(svm_clf_ringnorm,selected_feat_df_ringnorm,y_ringnorm,cv=10,scoring='accuracy')))\n",
    "print(np.mean(cross_val_score(svm_clf_ringnorm,selected_feat_df_ringnorm,y_ringnorm,cv=10,scoring='f1')))"
   ]
  },
  {
   "cell_type": "markdown",
   "metadata": {},
   "source": [
    "# Spambase"
   ]
  },
  {
   "cell_type": "code",
   "execution_count": null,
   "metadata": {},
   "outputs": [],
   "source": [
    "df_spam = pd.read_csv(os.path.join(PATH,\"spambase/spambase.data\"),header=None)\n",
    "\n",
    "y_spam = df_spam[57]\n",
    "df_spam = df_spam.drop([57],axis=1)\n",
    "\n",
    "X_train_spam,X_test_spam,y_train_spam,y_test_spam = train_test_split(df_spam,y_spam,random_state=42)"
   ]
  },
  {
   "cell_type": "code",
   "execution_count": null,
   "metadata": {},
   "outputs": [],
   "source": [
    "dt_clf_spam = DecisionTreeClassifier(random_state=42)\n",
    "print(np.mean(cross_val_score(dt_clf_spam,df_spam,y_spam,cv=10,scoring='accuracy')))\n",
    "print(np.mean(cross_val_score(dt_clf_spam,df_spam,y_spam,cv=10,scoring='f1')))"
   ]
  },
  {
   "cell_type": "code",
   "execution_count": null,
   "metadata": {},
   "outputs": [],
   "source": [
    "svm_clf_spam = SVC(random_state=42,kernel='rbf',gamma='scale')\n",
    "print(np.mean(cross_val_score(svm_clf_spam,df_spam,y_spam,cv=10,scoring='accuracy')))\n",
    "print(np.mean(cross_val_score(svm_clf_spam,df_spam,y_spam,cv=10,scoring='f1')))"
   ]
  },
  {
   "cell_type": "code",
   "execution_count": 103,
   "metadata": {},
   "outputs": [
    {
     "name": "stdout",
     "output_type": "stream",
     "text": [
      "features selected:  11\n"
     ]
    },
    {
     "name": "stderr",
     "output_type": "stream",
     "text": [
      "C:\\Users\\kaumi\\Anaconda3\\lib\\site-packages\\ipykernel_launcher.py:7: SettingWithCopyWarning: \n",
      "A value is trying to be set on a copy of a slice from a DataFrame.\n",
      "Try using .loc[row_indexer,col_indexer] = value instead\n",
      "\n",
      "See the caveats in the documentation: http://pandas.pydata.org/pandas-docs/stable/indexing.html#indexing-view-versus-copy\n",
      "  import sys\n"
     ]
    },
    {
     "data": {
      "text/plain": [
       "0.7876648272563136"
      ]
     },
     "execution_count": 103,
     "metadata": {},
     "output_type": "execute_result"
    }
   ],
   "source": [
    "dt_clf_spam.fit(X_train_spam,y_train_spam)\n",
    "sel_spam = SelectFromModel(dt_clf_spam,prefit=True)\n",
    "# sel_spam.fit(df_spam,y_spam)\n",
    "print(\"features selected: \",sum(sel_spam.get_support()))\n",
    "selected_feat_df_spam = df_spam.loc[:,sel_spam.get_support()]\n",
    "# dt_clf_spam.fit(X_train_spam,y_train_spam)\n",
    "selected_feat_df_spam['dt_output']=dt_clf_spam.predict(df_spam)\n",
    "np.mean(cross_val_score(svm_clf_spam,selected_feat_df_spam,y_spam,cv=10,scoring='accuracy'))"
   ]
  },
  {
   "cell_type": "markdown",
   "metadata": {},
   "source": [
    "# Australian Credit"
   ]
  },
  {
   "cell_type": "code",
   "execution_count": 164,
   "metadata": {},
   "outputs": [],
   "source": [
    "df_auscred = pd.read_csv(os.path.join(PATH,\"australian-credit/australian.dat\"),header=None,sep=\" \")\n",
    "\n",
    "y_auscred = df_auscred[14]\n",
    "df_auscred = df_auscred.drop([14],axis=1)\n",
    "\n",
    "X_train_auscred,X_test_auscred,y_train_auscred,y_test_auscred = train_test_split(df_auscred,y_auscred,random_state=42)"
   ]
  },
  {
   "cell_type": "code",
   "execution_count": 165,
   "metadata": {},
   "outputs": [
    {
     "name": "stdout",
     "output_type": "stream",
     "text": [
      "0.8070539520155888\n",
      "0.7837576306951084\n"
     ]
    }
   ],
   "source": [
    "dt_clf_auscred = DecisionTreeClassifier(random_state=42)\n",
    "print(np.mean(cross_val_score(dt_clf_auscred,df_auscred,y_auscred,cv=10,scoring='accuracy')))\n",
    "print(np.mean(cross_val_score(dt_clf_auscred,df_auscred,y_auscred,cv=10,scoring='f1')))"
   ]
  },
  {
   "cell_type": "code",
   "execution_count": 166,
   "metadata": {},
   "outputs": [
    {
     "name": "stdout",
     "output_type": "stream",
     "text": [
      "0.6796078431372549\n",
      "0.5834503478442151\n"
     ]
    }
   ],
   "source": [
    "svm_clf_auscred = SVC(random_state=42,kernel='rbf',gamma='scale')\n",
    "print(np.mean(cross_val_score(svm_clf_auscred,df_auscred,y_auscred,cv=10,scoring='accuracy')))\n",
    "print(np.mean(cross_val_score(svm_clf_auscred,df_auscred,y_auscred,cv=10,scoring='f1')))"
   ]
  },
  {
   "cell_type": "code",
   "execution_count": 167,
   "metadata": {},
   "outputs": [
    {
     "name": "stdout",
     "output_type": "stream",
     "text": [
      "features selected:  2\n"
     ]
    },
    {
     "name": "stderr",
     "output_type": "stream",
     "text": [
      "C:\\Users\\kaumi\\Anaconda3\\lib\\site-packages\\ipykernel_launcher.py:8: SettingWithCopyWarning: \n",
      "A value is trying to be set on a copy of a slice from a DataFrame.\n",
      "Try using .loc[row_indexer,col_indexer] = value instead\n",
      "\n",
      "See the caveats in the documentation: http://pandas.pydata.org/pandas-docs/stable/indexing.html#indexing-view-versus-copy\n",
      "  \n"
     ]
    },
    {
     "name": "stdout",
     "output_type": "stream",
     "text": [
      "0.9463080014614542\n",
      "0.9394157177578899\n"
     ]
    }
   ],
   "source": [
    "dt_clf_auscred.fit(X_train_auscred,y_train_auscred)\n",
    "sel_auscred = SelectFromModel(dt_clf_auscred,prefit=True)\n",
    "# sel_auscred.fit(df_auscred,y_auscred)\n",
    "print(\"features selected: \",sum(sel_auscred.get_support()))\n",
    "selected_feat_df_auscred = df_auscred.loc[:,sel_auscred.get_support()]\n",
    "# selected_feat_df_auscred = df_auscred\n",
    "# dt_clf_auscred.fit(X_train_auscred,y_train_auscred)\n",
    "selected_feat_df_auscred['dt_output']=dt_clf_auscred.predict(df_auscred)\n",
    "print(np.mean(cross_val_score(svm_clf_auscred,selected_feat_df_auscred,y_auscred,cv=10,scoring='accuracy')))\n",
    "print(np.mean(cross_val_score(svm_clf_auscred,selected_feat_df_auscred,y_auscred,cv=10,scoring='f1')))"
   ]
  },
  {
   "cell_type": "markdown",
   "metadata": {},
   "source": [
    "# German credit"
   ]
  },
  {
   "cell_type": "code",
   "execution_count": 169,
   "metadata": {},
   "outputs": [],
   "source": [
    "df_german = pd.read_csv(os.path.join(PATH,'german-credit/german_credit_data.csv'))\n",
    "\n",
    "df_german = df_german.dropna()\n",
    "y_german = df_german['Risk']\n",
    "df_german = df_german.drop(['Unnamed: 0','Risk'],axis=1)\n",
    "df_german = pd.get_dummies(df_german)\n",
    "y_german = y_german.map({'bad':1,'good':0})\n",
    "X_train_german,X_test_german,y_train_german,y_test_german = train_test_split(df_german,y_german,random_state=42)"
   ]
  },
  {
   "cell_type": "code",
   "execution_count": 170,
   "metadata": {},
   "outputs": [
    {
     "name": "stdout",
     "output_type": "stream",
     "text": [
      "0.5816239316239317\n",
      "0.5205523078796737\n"
     ]
    }
   ],
   "source": [
    "dt_clf_german = DecisionTreeClassifier(random_state=42)\n",
    "print(np.mean(cross_val_score(dt_clf_german,df_german,y_german,cv=10,scoring='accuracy')))\n",
    "print(np.mean(cross_val_score(dt_clf_german,df_german,y_german,cv=10,scoring='f1')))"
   ]
  },
  {
   "cell_type": "code",
   "execution_count": 171,
   "metadata": {},
   "outputs": [
    {
     "name": "stdout",
     "output_type": "stream",
     "text": [
      "0.5898148148148148\n",
      "0.46755866667669127\n"
     ]
    }
   ],
   "source": [
    "svm_clf_german = SVC(random_state=42,kernel='rbf',gamma='scale')\n",
    "print(np.mean(cross_val_score(svm_clf_german,df_german,y_german,cv=10,scoring='accuracy')))\n",
    "print(np.mean(cross_val_score(svm_clf_german,df_german,y_german,cv=10,scoring='f1')))"
   ]
  },
  {
   "cell_type": "code",
   "execution_count": 172,
   "metadata": {},
   "outputs": [
    {
     "name": "stdout",
     "output_type": "stream",
     "text": [
      "features selected:  5\n"
     ]
    },
    {
     "name": "stderr",
     "output_type": "stream",
     "text": [
      "C:\\Users\\kaumi\\Anaconda3\\lib\\site-packages\\ipykernel_launcher.py:8: SettingWithCopyWarning: \n",
      "A value is trying to be set on a copy of a slice from a DataFrame.\n",
      "Try using .loc[row_indexer,col_indexer] = value instead\n",
      "\n",
      "See the caveats in the documentation: http://pandas.pydata.org/pandas-docs/stable/indexing.html#indexing-view-versus-copy\n",
      "  \n"
     ]
    },
    {
     "name": "stdout",
     "output_type": "stream",
     "text": [
      "0.5841168091168092\n",
      "0.47310897025254955\n"
     ]
    }
   ],
   "source": [
    "dt_clf_german.fit(X_train_german,y_train_german)\n",
    "sel_german = SelectFromModel(dt_clf_german,prefit=True)\n",
    "# sel_german.fit(df_german,y_german)\n",
    "print(\"features selected: \",sum(sel_german.get_support()))\n",
    "selected_feat_df_german = df_german.loc[:,sel_german.get_support()]\n",
    "# selected_feat_df_german = df_german\n",
    "# dt_clf_german.fit(X_train_german,y_train_german)\n",
    "selected_feat_df_german['dt_output']=dt_clf_german.predict(df_german)\n",
    "print(np.mean(cross_val_score(svm_clf_german,selected_feat_df_german,y_german,cv=10,scoring='accuracy')))\n",
    "print(np.mean(cross_val_score(svm_clf_german,selected_feat_df_german,y_german,cv=10,scoring='f1')))"
   ]
  },
  {
   "cell_type": "markdown",
   "metadata": {},
   "source": [
    "# Tic-Tac-Toe"
   ]
  },
  {
   "cell_type": "code",
   "execution_count": 174,
   "metadata": {},
   "outputs": [],
   "source": [
    "df_tictac = pd.read_csv(os.path.join(PATH,\"tictactoe/tic-tac-toe.data\"),header=None)\n",
    "\n",
    "y_tictac = df_tictac[9]\n",
    "y_tictac = y_tictac.map({'positive':0,'negative':1})\n",
    "df_tictac = df_tictac.drop([9],axis=1)\n",
    "\n",
    "df_tictac = pd.get_dummies(df_tictac)\n",
    "X_train_tictac,X_test_tictac,y_train_tictac,y_test_tictac = train_test_split(df_tictac,y_tictac,random_state=42)"
   ]
  },
  {
   "cell_type": "code",
   "execution_count": 175,
   "metadata": {},
   "outputs": [
    {
     "name": "stdout",
     "output_type": "stream",
     "text": [
      "0.811394239464641\n",
      "0.7660120247143699\n"
     ]
    }
   ],
   "source": [
    "dt_clf_tictac  = DecisionTreeClassifier(random_state=42)\n",
    "print(np.mean(cross_val_score(dt_clf_tictac,df_tictac,y_tictac,cv=10,scoring='accuracy')))\n",
    "print(np.mean(cross_val_score(dt_clf_tictac,df_tictac,y_tictac,cv=10,scoring='f1')))"
   ]
  },
  {
   "cell_type": "code",
   "execution_count": 176,
   "metadata": {},
   "outputs": [
    {
     "name": "stdout",
     "output_type": "stream",
     "text": [
      "0.8875460074154458\n",
      "0.8263199413950838\n"
     ]
    }
   ],
   "source": [
    "svm_clf_tictac = SVC(random_state=42,kernel='rbf',gamma='scale')\n",
    "print(np.mean(cross_val_score(svm_clf_tictac,df_tictac,y_tictac,cv=10,scoring='accuracy')))\n",
    "print(np.mean(cross_val_score(svm_clf_tictac,df_tictac,y_tictac,cv=10,scoring='f1')))"
   ]
  },
  {
   "cell_type": "code",
   "execution_count": 177,
   "metadata": {},
   "outputs": [
    {
     "name": "stdout",
     "output_type": "stream",
     "text": [
      "features selected:  13\n"
     ]
    },
    {
     "name": "stderr",
     "output_type": "stream",
     "text": [
      "C:\\Users\\kaumi\\Anaconda3\\lib\\site-packages\\ipykernel_launcher.py:7: SettingWithCopyWarning: \n",
      "A value is trying to be set on a copy of a slice from a DataFrame.\n",
      "Try using .loc[row_indexer,col_indexer] = value instead\n",
      "\n",
      "See the caveats in the documentation: http://pandas.pydata.org/pandas-docs/stable/indexing.html#indexing-view-versus-copy\n",
      "  import sys\n"
     ]
    },
    {
     "name": "stdout",
     "output_type": "stream",
     "text": [
      "0.9823229788388497\n",
      "0.9750876388175389\n"
     ]
    }
   ],
   "source": [
    "dt_clf_tictac.fit(X_train_tictac,y_train_tictac)\n",
    "sel_tictac = SelectFromModel(dt_clf_tictac,prefit=True)\n",
    "# sel_tictac.fit(df_tictac,y_tictac)\n",
    "print(\"features selected: \",sum(sel_tictac.get_support()))\n",
    "selected_feat_df_tictac = df_tictac.loc[:,sel_tictac.get_support()]\n",
    "# dt_clf_tictac.fit(X_train_tictac,y_train_tictac)\n",
    "selected_feat_df_tictac['dt_output']=dt_clf_tictac.predict(df_tictac)\n",
    "print(np.mean(cross_val_score(svm_clf_tictac,selected_feat_df_tictac,y_tictac,cv=10,scoring='accuracy')))\n",
    "print(np.mean(cross_val_score(svm_clf_tictac,selected_feat_df_tictac,y_tictac,cv=10,scoring='f1')))"
   ]
  },
  {
   "cell_type": "markdown",
   "metadata": {},
   "source": [
    "# Twonorm"
   ]
  },
  {
   "cell_type": "code",
   "execution_count": 179,
   "metadata": {},
   "outputs": [],
   "source": [
    "df_twonorm = pd.read_csv(os.path.join(PATH,\"twonorm/twonorm.csv\"))\n",
    "\n",
    "y_twonorm = df_twonorm['Class']\n",
    "df_twonorm = df_twonorm.drop(['Class'],axis=1)\n",
    "y_twonorm = y_twonorm.map({1:0,2:1})\n",
    "\n",
    "X_train_twonorm,X_test_twonorm,y_train_twonorm,y_test_twonorm = train_test_split(df_twonorm,y_twonorm,random_state=42)"
   ]
  },
  {
   "cell_type": "code",
   "execution_count": 180,
   "metadata": {},
   "outputs": [
    {
     "name": "stdout",
     "output_type": "stream",
     "text": [
      "0.8377012568330849\n",
      "0.8376408221948891\n"
     ]
    }
   ],
   "source": [
    "dt_clf_twonorm  = DecisionTreeClassifier(random_state=42)\n",
    "print(np.mean(cross_val_score(dt_clf_twonorm,df_twonorm,y_twonorm,cv=10,scoring='accuracy')))\n",
    "print(np.mean(cross_val_score(dt_clf_twonorm,df_twonorm,y_twonorm,cv=10,scoring='f1')))"
   ]
  },
  {
   "cell_type": "code",
   "execution_count": 182,
   "metadata": {},
   "outputs": [
    {
     "name": "stdout",
     "output_type": "stream",
     "text": [
      "0.9767547220759243\n",
      "0.9766595710608416\n"
     ]
    }
   ],
   "source": [
    "svm_clf_twonorm = SVC(random_state=42,kernel='rbf',gamma='scale')\n",
    "print(np.mean(cross_val_score(svm_clf_twonorm,df_twonorm,y_twonorm,cv=10,scoring='accuracy')))\n",
    "print(np.mean(cross_val_score(svm_clf_twonorm,df_twonorm,y_twonorm,cv=10,scoring='f1')))"
   ]
  },
  {
   "cell_type": "code",
   "execution_count": 183,
   "metadata": {},
   "outputs": [
    {
     "name": "stdout",
     "output_type": "stream",
     "text": [
      "features selected:  7\n"
     ]
    },
    {
     "name": "stderr",
     "output_type": "stream",
     "text": [
      "C:\\Users\\kaumi\\Anaconda3\\lib\\site-packages\\ipykernel_launcher.py:7: SettingWithCopyWarning: \n",
      "A value is trying to be set on a copy of a slice from a DataFrame.\n",
      "Try using .loc[row_indexer,col_indexer] = value instead\n",
      "\n",
      "See the caveats in the documentation: http://pandas.pydata.org/pandas-docs/stable/indexing.html#indexing-view-versus-copy\n",
      "  import sys\n"
     ]
    },
    {
     "name": "stdout",
     "output_type": "stream",
     "text": [
      "0.9636495200201489\n",
      "0.9636400821947365\n"
     ]
    }
   ],
   "source": [
    "dt_clf_twonorm.fit(X_train_twonorm,y_train_twonorm)\n",
    "sel_twonorm = SelectFromModel(dt_clf_twonorm,prefit=True)\n",
    "# sel_twonorm.fit(df_twonorm,y_twonorm)\n",
    "print(\"features selected: \",sum(sel_twonorm.get_support()))\n",
    "selected_feat_df_twonorm = df_twonorm.loc[:,sel_twonorm.get_support()]\n",
    "# dt_clf_twonorm.fit(X_train_twonorm,y_train_twonorm)\n",
    "selected_feat_df_twonorm['dt_output']=dt_clf_twonorm.predict(df_twonorm)\n",
    "print(np.mean(cross_val_score(svm_clf_twonorm,selected_feat_df_twonorm,y_twonorm,cv=10,scoring='accuracy')))\n",
    "print(np.mean(cross_val_score(svm_clf_twonorm,selected_feat_df_twonorm,y_twonorm,cv=10,scoring='f1')))"
   ]
  },
  {
   "cell_type": "markdown",
   "metadata": {},
   "source": [
    "# Nomao"
   ]
  },
  {
   "cell_type": "code",
   "execution_count": 27,
   "metadata": {},
   "outputs": [],
   "source": [
    "ls = [49,50,51,52,53,54,57,58,59,60,61,62,65,66,67,68,69,70,73,74,75,76,77,78,97,98,99,101,102,103,105,106,107,117]\n",
    "dtype_dict = {}\n",
    "for l in ls:\n",
    "    dtype_dict[l]='float64'\n",
    "df_nomao = pd.read_csv(os.path.join(PATH,\"nomao/Nomao.data\"),header=None,low_memory=False)\n",
    "\n",
    "df_nomao = df_nomao.replace('?',np.NAN)\n",
    "df_nomao = df_nomao.dropna(thresh=df_nomao.shape[0]*0.6,how='all',axis=1) #dropping columns with more than 60 percent NaN values\n",
    "df_nomao = df_nomao.dropna(axis=0)#dropping rows with NaN values\n",
    "df_nomao = df_nomao.reset_index(drop=True)\n",
    "\n",
    "y_nomao = df_nomao[119]\n",
    "df_nomao = df_nomao.drop([0,119],axis=1)\n",
    "y_nomao = y_nomao.map({1:0,-1:1})\n",
    "\n",
    "df_nomao = df_nomao.astype(dtype_dict)\n",
    "df_nomao = pd.get_dummies(df_nomao)\n",
    "\n",
    "X_train_nomao,X_test_nomao,y_train_nomao,y_test_nomao = train_test_split(df_nomao,y_nomao,random_state=42)"
   ]
  },
  {
   "cell_type": "code",
   "execution_count": 3,
   "metadata": {},
   "outputs": [
    {
     "name": "stdout",
     "output_type": "stream",
     "text": [
      "0.9454955826607426\n",
      "0.8660396829673994\n",
      "0.9254648376328705\n"
     ]
    }
   ],
   "source": [
    "dt_clf_nomao  = DecisionTreeClassifier(random_state=42)\n",
    "print(np.mean(cross_val_score(dt_clf_nomao,df_nomao,y_nomao,cv=10,scoring='accuracy')))\n",
    "print(np.mean(cross_val_score(dt_clf_nomao,df_nomao,y_nomao,cv=10,scoring='f1')))\n",
    "print(np.mean(cross_val_score(dt_clf_nomao,df_nomao,y_nomao,cv=10,scoring='roc_auc')))"
   ]
  },
  {
   "cell_type": "code",
   "execution_count": 4,
   "metadata": {},
   "outputs": [
    {
     "name": "stdout",
     "output_type": "stream",
     "text": [
      "0.9560566847050787\n",
      "0.8849356377055422\n",
      "0.9916763617642657\n"
     ]
    }
   ],
   "source": [
    "svm_clf_nomao = SVC(random_state=42,kernel='rbf',gamma='scale')\n",
    "print(np.mean(cross_val_score(svm_clf_nomao,df_nomao,y_nomao,cv=10,scoring='accuracy')))\n",
    "print(np.mean(cross_val_score(svm_clf_nomao,df_nomao,y_nomao,cv=10,scoring='f1')))\n",
    "print(np.mean(cross_val_score(svm_clf_nomao,df_nomao,y_nomao,cv=10,scoring='roc_auc')))"
   ]
  },
  {
   "cell_type": "code",
   "execution_count": 5,
   "metadata": {},
   "outputs": [
    {
     "name": "stdout",
     "output_type": "stream",
     "text": [
      "features selected:  12\n"
     ]
    },
    {
     "name": "stderr",
     "output_type": "stream",
     "text": [
      "C:\\Users\\kaumi\\Anaconda3\\lib\\site-packages\\ipykernel_launcher.py:7: SettingWithCopyWarning: \n",
      "A value is trying to be set on a copy of a slice from a DataFrame.\n",
      "Try using .loc[row_indexer,col_indexer] = value instead\n",
      "\n",
      "See the caveats in the documentation: http://pandas.pydata.org/pandas-docs/stable/indexing.html#indexing-view-versus-copy\n",
      "  import sys\n"
     ]
    },
    {
     "name": "stdout",
     "output_type": "stream",
     "text": [
      "0.9912298671101805\n",
      "0.977713207562967\n",
      "0.9946628417905343\n"
     ]
    }
   ],
   "source": [
    "dt_clf_nomao.fit(X_train_nomao,y_train_nomao)\n",
    "sel_nomao = SelectFromModel(dt_clf_nomao,prefit=True)\n",
    "# sel_twonorm.fit(df_twonorm,y_twonorm)\n",
    "print(\"features selected: \",sum(sel_nomao.get_support()))\n",
    "selected_feat_df_nomao = df_nomao.loc[:,sel_nomao.get_support()]\n",
    "# dt_clf_twonorm.fit(X_train_twonorm,y_train_twonorm)\n",
    "selected_feat_df_nomao['dt_output']=dt_clf_nomao.predict(df_nomao)\n",
    "print(np.mean(cross_val_score(svm_clf_nomao,selected_feat_df_nomao,y_nomao,cv=10,scoring='accuracy')))\n",
    "print(np.mean(cross_val_score(svm_clf_nomao,selected_feat_df_nomao,y_nomao,cv=10,scoring='f1')))\n",
    "print(np.mean(cross_val_score(svm_clf_nomao,selected_feat_df_nomao,y_nomao,cv=10,scoring='roc_auc')))"
   ]
  },
  {
   "cell_type": "markdown",
   "metadata": {},
   "source": [
    "# Credit-card"
   ]
  },
  {
   "cell_type": "code",
   "execution_count": 29,
   "metadata": {},
   "outputs": [],
   "source": [
    "df_credit_card = pd.read_excel(os.path.join(PATH,\"credit-card/clients.xls\"))\n",
    "df_credit_card = df_credit_card.drop([0],axis=0)\n",
    "\n",
    "df_credit_card_gender = pd.get_dummies(df_credit_card['X2'],prefix='X2')\n",
    "df_credit_card_education = pd.get_dummies(df_credit_card['X3'],prefix='X3')\n",
    "df_credit_card_marital_status = pd.get_dummies(df_credit_card['X4'],prefix='X4')\n",
    "\n",
    "df_credit_card = pd.concat([df_credit_card,df_credit_card_gender,df_credit_card_education,df_credit_card_marital_status],axis=1)\n",
    "\n",
    "y_credit_card = df_credit_card['Y']\n",
    "y_credit_card = y_credit_card.astype(int)\n",
    "df_credit_card = df_credit_card.drop(['Unnamed: 0','X2','X3','X4','Y'],axis=1)\n",
    "\n",
    "X_train_credit_card,X_test_credit_card,y_train_credit_card,y_test_credit_card = train_test_split(df_credit_card,y_credit_card,random_state=42)"
   ]
  },
  {
   "cell_type": "code",
   "execution_count": 7,
   "metadata": {},
   "outputs": [
    {
     "name": "stdout",
     "output_type": "stream",
     "text": [
      "0.7282680648223775\n",
      "0.40294084361827043\n",
      "0.6160577704853407\n"
     ]
    }
   ],
   "source": [
    "dt_clf_credit_card  = DecisionTreeClassifier(random_state=42)\n",
    "print(np.mean(cross_val_score(dt_clf_credit_card,df_credit_card,y_credit_card,cv=10,scoring='accuracy')))\n",
    "print(np.mean(cross_val_score(dt_clf_credit_card,df_credit_card,y_credit_card,cv=10,scoring='f1')))\n",
    "print(np.mean(cross_val_score(dt_clf_credit_card,df_credit_card,y_credit_card,cv=10,scoring='roc_auc')))"
   ]
  },
  {
   "cell_type": "code",
   "execution_count": 8,
   "metadata": {},
   "outputs": [
    {
     "name": "stdout",
     "output_type": "stream",
     "text": [
      "0.7788000247851878\n",
      "0.778800024785188\n",
      "0.5653757220427703\n"
     ]
    }
   ],
   "source": [
    "svm_clf_credit_card = SVC(random_state=42,kernel='rbf',gamma='scale')\n",
    "print(np.mean(cross_val_score(svm_clf_credit_card,df_credit_card,y_credit_card,cv=10,scoring='accuracy')))\n",
    "print(np.mean(cross_val_score(svm_clf_credit_card,df_credit_card,y_credit_card,cv=10,scoring='f1_micro')))\n",
    "print(np.mean(cross_val_score(svm_clf_credit_card,df_credit_card,y_credit_card,cv=10,scoring='roc_auc')))"
   ]
  },
  {
   "cell_type": "code",
   "execution_count": 9,
   "metadata": {},
   "outputs": [
    {
     "name": "stdout",
     "output_type": "stream",
     "text": [
      "features selected:  16\n"
     ]
    },
    {
     "name": "stderr",
     "output_type": "stream",
     "text": [
      "C:\\Users\\kaumi\\Anaconda3\\lib\\site-packages\\ipykernel_launcher.py:7: SettingWithCopyWarning: \n",
      "A value is trying to be set on a copy of a slice from a DataFrame.\n",
      "Try using .loc[row_indexer,col_indexer] = value instead\n",
      "\n",
      "See the caveats in the documentation: http://pandas.pydata.org/pandas-docs/stable/indexing.html#indexing-view-versus-copy\n",
      "  import sys\n"
     ]
    },
    {
     "name": "stdout",
     "output_type": "stream",
     "text": [
      "0.7788000247851878\n",
      "0.778800024785188\n",
      "0.553004923029219\n"
     ]
    }
   ],
   "source": [
    "dt_clf_credit_card.fit(X_train_credit_card,y_train_credit_card)\n",
    "sel_credit_card = SelectFromModel(dt_clf_credit_card,prefit=True)\n",
    "# sel_twonorm.fit(df_twonorm,y_twonorm)\n",
    "print(\"features selected: \",sum(sel_credit_card.get_support()))\n",
    "selected_feat_df_credit_card = df_credit_card.loc[:,sel_credit_card.get_support()]\n",
    "# dt_clf_twonorm.fit(X_train_twonorm,y_train_twonorm)\n",
    "selected_feat_df_credit_card['dt_output']=dt_clf_credit_card.predict(df_credit_card)\n",
    "print(np.mean(cross_val_score(svm_clf_credit_card,selected_feat_df_credit_card,y_credit_card,cv=10,scoring='accuracy')))\n",
    "print(np.mean(cross_val_score(svm_clf_credit_card,selected_feat_df_credit_card,y_credit_card,cv=10,scoring='f1_micro')))\n",
    "print(np.mean(cross_val_score(svm_clf_credit_card,selected_feat_df_credit_card,y_credit_card,cv=10,scoring='roc_auc')))"
   ]
  },
  {
   "cell_type": "markdown",
   "metadata": {},
   "source": [
    "# Occupancy"
   ]
  },
  {
   "cell_type": "code",
   "execution_count": 31,
   "metadata": {},
   "outputs": [],
   "source": [
    "df_occupancy = pd.read_csv(os.path.join(PATH,\"occupancy/datatraining.txt\"))\n",
    "df_occupancy_test = pd.read_csv(os.path.join(PATH,\"occupancy/datatest.txt\"))\n",
    "df_occupancy_test2 = pd.read_csv(os.path.join(PATH,\"occupancy/datatest2.txt\"))\n",
    "\n",
    "df_occupancy = df_occupancy.append([df_occupancy_test,df_occupancy_test2],ignore_index=True)\n",
    "\n",
    "y_occupancy = df_occupancy['Occupancy']\n",
    "df_occupancy = df_occupancy.drop(['date','Occupancy'],axis=1)\n",
    "\n",
    "X_train_occupancy,X_test_occupancy,y_train_occupancy,y_test_occupancy = train_test_split(df_occupancy,y_occupancy,random_state=42)"
   ]
  },
  {
   "cell_type": "code",
   "execution_count": 11,
   "metadata": {},
   "outputs": [
    {
     "name": "stdout",
     "output_type": "stream",
     "text": [
      "0.9302042801556422\n",
      "0.8714430439318059\n",
      "0.9264141282998768\n"
     ]
    }
   ],
   "source": [
    "dt_clf_occupancy  = DecisionTreeClassifier(random_state=42)\n",
    "print(np.mean(cross_val_score(dt_clf_occupancy,df_occupancy,y_occupancy,cv=10,scoring='accuracy')))\n",
    "print(np.mean(cross_val_score(dt_clf_occupancy,df_occupancy,y_occupancy,cv=10,scoring='f1')))\n",
    "print(np.mean(cross_val_score(dt_clf_occupancy,df_occupancy,y_occupancy,cv=10,scoring='roc_auc')))"
   ]
  },
  {
   "cell_type": "code",
   "execution_count": 12,
   "metadata": {},
   "outputs": [
    {
     "name": "stdout",
     "output_type": "stream",
     "text": [
      "0.9848735408560312\n",
      "0.9689296489990534\n",
      "0.9925464895635674\n"
     ]
    }
   ],
   "source": [
    "svm_clf_occupancy = SVC(random_state=42,kernel='rbf',gamma='scale')\n",
    "print(np.mean(cross_val_score(svm_clf_occupancy,df_occupancy,y_occupancy,cv=10,scoring='accuracy')))\n",
    "print(np.mean(cross_val_score(svm_clf_occupancy,df_occupancy,y_occupancy,cv=10,scoring='f1')))\n",
    "print(np.mean(cross_val_score(svm_clf_occupancy,df_occupancy,y_occupancy,cv=10,scoring='roc_auc')))"
   ]
  },
  {
   "cell_type": "code",
   "execution_count": 13,
   "metadata": {},
   "outputs": [
    {
     "name": "stdout",
     "output_type": "stream",
     "text": [
      "features selected:  1\n"
     ]
    },
    {
     "name": "stderr",
     "output_type": "stream",
     "text": [
      "C:\\Users\\kaumi\\Anaconda3\\lib\\site-packages\\ipykernel_launcher.py:7: SettingWithCopyWarning: \n",
      "A value is trying to be set on a copy of a slice from a DataFrame.\n",
      "Try using .loc[row_indexer,col_indexer] = value instead\n",
      "\n",
      "See the caveats in the documentation: http://pandas.pydata.org/pandas-docs/stable/indexing.html#indexing-view-versus-copy\n",
      "  import sys\n"
     ]
    },
    {
     "name": "stdout",
     "output_type": "stream",
     "text": [
      "0.9871108949416343\n",
      "0.9732160987283581\n",
      "0.9910883185192583\n"
     ]
    }
   ],
   "source": [
    "dt_clf_occupancy.fit(X_train_occupancy,y_train_occupancy)\n",
    "sel_occupancy = SelectFromModel(dt_clf_occupancy,prefit=True)\n",
    "# sel_twonorm.fit(df_twonorm,y_twonorm)\n",
    "print(\"features selected: \",sum(sel_occupancy.get_support()))\n",
    "selected_feat_df_occupancy = df_occupancy.loc[:,sel_occupancy.get_support()]\n",
    "# dt_clf_twonorm.fit(X_train_twonorm,y_train_twonorm)\n",
    "selected_feat_df_occupancy['dt_output']=dt_clf_occupancy.predict(df_occupancy)\n",
    "print(np.mean(cross_val_score(svm_clf_occupancy,selected_feat_df_occupancy,y_occupancy,cv=10,scoring='accuracy')))\n",
    "print(np.mean(cross_val_score(svm_clf_occupancy,selected_feat_df_occupancy,y_occupancy,cv=10,scoring='f1')))\n",
    "print(np.mean(cross_val_score(svm_clf_occupancy,selected_feat_df_occupancy,y_occupancy,cv=10,scoring='roc_auc')))"
   ]
  },
  {
   "cell_type": "markdown",
   "metadata": {},
   "source": [
    "# MAGIC GAMMA"
   ]
  },
  {
   "cell_type": "code",
   "execution_count": 33,
   "metadata": {},
   "outputs": [],
   "source": [
    "df_magic_gamma = pd.read_csv(os.path.join(PATH,\"magic_gamma/magic04.data\"),header=None)\n",
    "y_magic_gamma = df_magic_gamma[10]\n",
    "df_magic_gamma = df_magic_gamma.drop([10],axis=1)\n",
    "y_magic_gamma = y_magic_gamma.map({'g':0,'h':1})\n",
    "\n",
    "X_train_magic_gamma,X_test_magic_gamma,y_train_magic_gamma,y_test_magic_gamma = train_test_split(df_magic_gamma,y_magic_gamma,random_state=42)"
   ]
  },
  {
   "cell_type": "code",
   "execution_count": 15,
   "metadata": {
    "scrolled": true
   },
   "outputs": [
    {
     "name": "stdout",
     "output_type": "stream",
     "text": [
      "0.8127762259144067\n",
      "0.7350038349789894\n",
      "0.7957782661403531\n"
     ]
    }
   ],
   "source": [
    "dt_clf_magic_gamma  = DecisionTreeClassifier(random_state=42)\n",
    "print(np.mean(cross_val_score(dt_clf_magic_gamma,df_magic_gamma,y_magic_gamma,cv=10,scoring='accuracy')))\n",
    "print(np.mean(cross_val_score(dt_clf_magic_gamma,df_magic_gamma,y_magic_gamma,cv=10,scoring='f1')))\n",
    "print(np.mean(cross_val_score(dt_clf_magic_gamma,df_magic_gamma,y_magic_gamma,cv=10,scoring='roc_auc')))"
   ]
  },
  {
   "cell_type": "code",
   "execution_count": 16,
   "metadata": {},
   "outputs": [
    {
     "name": "stdout",
     "output_type": "stream",
     "text": [
      "0.82455427169318\n",
      "0.7011136325207061\n",
      "0.8722524537956021\n"
     ]
    }
   ],
   "source": [
    "svm_clf_magic_gamma = SVC(random_state=42,kernel='rbf',gamma='scale')\n",
    "print(np.mean(cross_val_score(svm_clf_magic_gamma,df_magic_gamma,y_magic_gamma,cv=10,scoring='accuracy')))\n",
    "print(np.mean(cross_val_score(svm_clf_magic_gamma,df_magic_gamma,y_magic_gamma,cv=10,scoring='f1')))\n",
    "print(np.mean(cross_val_score(svm_clf_magic_gamma,df_magic_gamma,y_magic_gamma,cv=10,scoring='roc_auc')))"
   ]
  },
  {
   "cell_type": "code",
   "execution_count": 17,
   "metadata": {},
   "outputs": [
    {
     "name": "stdout",
     "output_type": "stream",
     "text": [
      "features selected:  4\n"
     ]
    },
    {
     "name": "stderr",
     "output_type": "stream",
     "text": [
      "C:\\Users\\kaumi\\Anaconda3\\lib\\site-packages\\ipykernel_launcher.py:7: SettingWithCopyWarning: \n",
      "A value is trying to be set on a copy of a slice from a DataFrame.\n",
      "Try using .loc[row_indexer,col_indexer] = value instead\n",
      "\n",
      "See the caveats in the documentation: http://pandas.pydata.org/pandas-docs/stable/indexing.html#indexing-view-versus-copy\n",
      "  import sys\n"
     ]
    },
    {
     "name": "stdout",
     "output_type": "stream",
     "text": [
      "0.8672457646010768\n",
      "0.7843554602265531\n",
      "0.9574159240154202\n"
     ]
    }
   ],
   "source": [
    "dt_clf_magic_gamma.fit(X_train_magic_gamma,y_train_magic_gamma)\n",
    "sel_magic_gamma = SelectFromModel(dt_clf_magic_gamma,prefit=True)\n",
    "# sel_twonorm.fit(df_twonorm,y_twonorm)\n",
    "print(\"features selected: \",sum(sel_magic_gamma.get_support()))\n",
    "selected_feat_df_magic_gamma = df_magic_gamma.loc[:,sel_magic_gamma.get_support()]\n",
    "# dt_clf_twonorm.fit(X_train_twonorm,y_train_twonorm)\n",
    "selected_feat_df_magic_gamma['dt_output']=dt_clf_magic_gamma.predict(df_magic_gamma)\n",
    "print(np.mean(cross_val_score(svm_clf_magic_gamma,selected_feat_df_magic_gamma,y_magic_gamma,cv=10,scoring='accuracy')))\n",
    "print(np.mean(cross_val_score(svm_clf_magic_gamma,selected_feat_df_magic_gamma,y_magic_gamma,cv=10,scoring='f1')))\n",
    "print(np.mean(cross_val_score(svm_clf_magic_gamma,selected_feat_df_magic_gamma,y_magic_gamma,cv=10,scoring='roc_auc')))"
   ]
  },
  {
   "cell_type": "markdown",
   "metadata": {},
   "source": [
    "# HTRU2"
   ]
  },
  {
   "cell_type": "code",
   "execution_count": 35,
   "metadata": {},
   "outputs": [],
   "source": [
    "df_htru = pd.read_csv(os.path.join(PATH,\"htru2/HTRU_2.csv\"),header=None)\n",
    "y_htru = df_htru[8]\n",
    "df_htru = df_htru.drop([8],axis=1)\n",
    "\n",
    "X_train_htru,X_test_htru,y_train_htru,y_test_htru = train_test_split(df_htru,y_htru,random_state=42)"
   ]
  },
  {
   "cell_type": "code",
   "execution_count": 19,
   "metadata": {},
   "outputs": [
    {
     "name": "stdout",
     "output_type": "stream",
     "text": [
      "0.9680966217989576\n",
      "0.8276122177631409\n",
      "0.9091853245257322\n"
     ]
    }
   ],
   "source": [
    "dt_clf_htru  = DecisionTreeClassifier(random_state=42)\n",
    "print(np.mean(cross_val_score(dt_clf_htru,df_htru,y_htru,cv=10,scoring='accuracy')))\n",
    "print(np.mean(cross_val_score(dt_clf_htru,df_htru,y_htru,cv=10,scoring='f1')))\n",
    "print(np.mean(cross_val_score(dt_clf_htru,df_htru,y_htru,cv=10,scoring='roc_auc')))"
   ]
  },
  {
   "cell_type": "code",
   "execution_count": 20,
   "metadata": {},
   "outputs": [
    {
     "name": "stdout",
     "output_type": "stream",
     "text": [
      "0.9724545386374712\n",
      "0.8317286070969198\n",
      "0.9483304043186728\n"
     ]
    }
   ],
   "source": [
    "svm_clf_htru = SVC(random_state=42,kernel='rbf',gamma='scale')\n",
    "print(np.mean(cross_val_score(svm_clf_htru,df_htru,y_htru,cv=10,scoring='accuracy')))\n",
    "print(np.mean(cross_val_score(svm_clf_htru,df_htru,y_htru,cv=10,scoring='f1')))\n",
    "print(np.mean(cross_val_score(svm_clf_htru,df_htru,y_htru,cv=10,scoring='roc_auc')))"
   ]
  },
  {
   "cell_type": "code",
   "execution_count": 21,
   "metadata": {},
   "outputs": [
    {
     "name": "stdout",
     "output_type": "stream",
     "text": [
      "features selected:  1\n"
     ]
    },
    {
     "name": "stderr",
     "output_type": "stream",
     "text": [
      "C:\\Users\\kaumi\\Anaconda3\\lib\\site-packages\\ipykernel_launcher.py:7: SettingWithCopyWarning: \n",
      "A value is trying to be set on a copy of a slice from a DataFrame.\n",
      "Try using .loc[row_indexer,col_indexer] = value instead\n",
      "\n",
      "See the caveats in the documentation: http://pandas.pydata.org/pandas-docs/stable/indexing.html#indexing-view-versus-copy\n",
      "  import sys\n"
     ]
    },
    {
     "name": "stdout",
     "output_type": "stream",
     "text": [
      "0.9927925462112407\n",
      "0.9607016717923316\n",
      "0.9804348875499137\n"
     ]
    }
   ],
   "source": [
    "dt_clf_htru.fit(X_train_htru,y_train_htru)\n",
    "sel_htru = SelectFromModel(dt_clf_htru,prefit=True)\n",
    "# sel_twonorm.fit(df_twonorm,y_twonorm)\n",
    "print(\"features selected: \",sum(sel_htru.get_support()))\n",
    "selected_feat_df_htru = df_htru.loc[:,sel_htru.get_support()]\n",
    "# dt_clf_twonorm.fit(X_train_twonorm,y_train_twonorm)\n",
    "selected_feat_df_htru['dt_output']=dt_clf_htru.predict(df_htru)\n",
    "print(np.mean(cross_val_score(svm_clf_htru,selected_feat_df_htru,y_htru,cv=10,scoring='accuracy')))\n",
    "print(np.mean(cross_val_score(svm_clf_htru,selected_feat_df_htru,y_htru,cv=10,scoring='f1')))\n",
    "print(np.mean(cross_val_score(svm_clf_htru,selected_feat_df_htru,y_htru,cv=10,scoring='roc_auc')))"
   ]
  },
  {
   "cell_type": "markdown",
   "metadata": {},
   "source": [
    "# EEG"
   ]
  },
  {
   "cell_type": "code",
   "execution_count": 37,
   "metadata": {},
   "outputs": [],
   "source": [
    "df_eeg = pd.DataFrame(loadarff(os.path.join(PATH,\"eeg/EEG Eye State.arff\"))[0])\n",
    "y_eeg = df_eeg['eyeDetection']\n",
    "y_eeg = y_eeg.map({b'0':0,b'1':1})\n",
    "df_eeg = df_eeg.drop(['eyeDetection'],axis=1)\n",
    "X_train_eeg,X_test_eeg,y_train_eeg,y_test_eeg = train_test_split(df_eeg,y_eeg,random_state=42)"
   ]
  },
  {
   "cell_type": "code",
   "execution_count": 23,
   "metadata": {},
   "outputs": [
    {
     "name": "stdout",
     "output_type": "stream",
     "text": [
      "0.54324731461514\n",
      "0.48806834127111676\n",
      "0.540393104497206\n"
     ]
    }
   ],
   "source": [
    "dt_clf_eeg  = DecisionTreeClassifier(random_state=42)\n",
    "print(np.mean(cross_val_score(dt_clf_eeg,df_eeg,y_eeg,cv=10,scoring='accuracy')))\n",
    "print(np.mean(cross_val_score(dt_clf_eeg,df_eeg,y_eeg,cv=10,scoring='f1')))\n",
    "print(np.mean(cross_val_score(dt_clf_eeg,df_eeg,y_eeg,cv=10,scoring='roc_auc')))"
   ]
  },
  {
   "cell_type": "code",
   "execution_count": 24,
   "metadata": {},
   "outputs": [
    {
     "name": "stdout",
     "output_type": "stream",
     "text": [
      "0.5512016157907329\n",
      "0.5512016157907329\n",
      "0.45834126902651223\n"
     ]
    }
   ],
   "source": [
    "svm_clf_eeg = SVC(random_state=42,kernel='rbf',gamma='scale')\n",
    "print(np.mean(cross_val_score(svm_clf_eeg,df_eeg,y_eeg,cv=10,scoring='accuracy')))\n",
    "print(np.mean(cross_val_score(svm_clf_eeg,df_eeg,y_eeg,cv=10,scoring='f1_micro')))\n",
    "print(np.mean(cross_val_score(svm_clf_eeg,df_eeg,y_eeg,cv=10,scoring='roc_auc')))"
   ]
  },
  {
   "cell_type": "code",
   "execution_count": 25,
   "metadata": {},
   "outputs": [
    {
     "name": "stdout",
     "output_type": "stream",
     "text": [
      "features selected:  5\n"
     ]
    },
    {
     "name": "stderr",
     "output_type": "stream",
     "text": [
      "C:\\Users\\kaumi\\Anaconda3\\lib\\site-packages\\ipykernel_launcher.py:7: SettingWithCopyWarning: \n",
      "A value is trying to be set on a copy of a slice from a DataFrame.\n",
      "Try using .loc[row_indexer,col_indexer] = value instead\n",
      "\n",
      "See the caveats in the documentation: http://pandas.pydata.org/pandas-docs/stable/indexing.html#indexing-view-versus-copy\n",
      "  import sys\n"
     ]
    },
    {
     "name": "stdout",
     "output_type": "stream",
     "text": [
      "0.5512016157907329\n",
      "0.5512016157907329\n",
      "0.5142706985920372\n"
     ]
    }
   ],
   "source": [
    "dt_clf_eeg.fit(X_train_eeg,y_train_eeg)\n",
    "sel_eeg = SelectFromModel(dt_clf_eeg,prefit=True)\n",
    "# sel_twonorm.fit(df_twonorm,y_twonorm)\n",
    "print(\"features selected: \",sum(sel_eeg.get_support()))\n",
    "selected_feat_df_eeg = df_eeg.loc[:,sel_eeg.get_support()]\n",
    "# dt_clf_twonorm.fit(X_train_twonorm,y_train_twonorm)\n",
    "selected_feat_df_eeg['dt_output']=dt_clf_eeg.predict(df_eeg)\n",
    "print(np.mean(cross_val_score(svm_clf_eeg,selected_feat_df_eeg,y_eeg,cv=10,scoring='accuracy')))\n",
    "print(np.mean(cross_val_score(svm_clf_eeg,selected_feat_df_eeg,y_eeg,cv=10,scoring='f1_micro')))\n",
    "print(np.mean(cross_val_score(svm_clf_eeg,selected_feat_df_eeg,y_eeg,cv=10,scoring='roc_auc')))"
   ]
  },
  {
   "cell_type": "code",
   "execution_count": null,
   "metadata": {},
   "outputs": [],
   "source": []
  }
 ],
 "metadata": {
  "kernelspec": {
   "display_name": "Python 3",
   "language": "python",
   "name": "python3"
  },
  "language_info": {
   "codemirror_mode": {
    "name": "ipython",
    "version": 3
   },
   "file_extension": ".py",
   "mimetype": "text/x-python",
   "name": "python",
   "nbconvert_exporter": "python",
   "pygments_lexer": "ipython3",
   "version": "3.7.3"
  }
 },
 "nbformat": 4,
 "nbformat_minor": 2
}
