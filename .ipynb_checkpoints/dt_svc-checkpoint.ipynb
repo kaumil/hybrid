{
 "cells": [
  {
   "cell_type": "markdown",
   "metadata": {},
   "source": [
    "# classification"
   ]
  },
  {
   "cell_type": "code",
   "execution_count": 2,
   "metadata": {},
   "outputs": [],
   "source": [
    "import pandas as pd\n",
    "import numpy as np\n",
    "from numpy.random import seed\n",
    "seed(42)\n",
    "from sklearn.preprocessing import LabelEncoder\n",
    "import re,os\n",
    "\n",
    "#feature selection\n",
    "from sklearn.feature_selection import SelectFromModel\n",
    "from imblearn.datasets import fetch_datasets\n",
    "\n",
    "#model selection imports\n",
    "from sklearn.model_selection import train_test_split,cross_val_score,KFold,StratifiedKFold\n",
    "\n",
    "#algorithms\n",
    "from sklearn.tree import DecisionTreeClassifier\n",
    "from sklearn.svm import SVC\n",
    "\n",
    "#metrics\n",
    "from sklearn.metrics import f1_score,roc_auc_score,accuracy_score\n",
    "\n",
    "PATH = \"data/\""
   ]
  },
  {
   "cell_type": "markdown",
   "metadata": {},
   "source": [
    "# pima diabetes"
   ]
  },
  {
   "cell_type": "code",
   "execution_count": 3,
   "metadata": {},
   "outputs": [],
   "source": [
    "df = pd.read_csv(os.path.join(PATH,\"pima/diabetes.csv\"))\n",
    "y = df['Outcome']\n",
    "df = df.drop(['Outcome'],axis=1)\n",
    "X_train,X_test,y_train,y_test = train_test_split(df,y,random_state=42,test_size=0.3)"
   ]
  },
  {
   "cell_type": "code",
   "execution_count": 4,
   "metadata": {},
   "outputs": [
    {
     "data": {
      "text/plain": [
       "0.7018284347231716"
      ]
     },
     "execution_count": 4,
     "metadata": {},
     "output_type": "execute_result"
    }
   ],
   "source": [
    "dt_clf = DecisionTreeClassifier(random_state=42)\n",
    "np.mean(cross_val_score(dt_clf,df,y,cv=10,scoring='accuracy'))"
   ]
  },
  {
   "cell_type": "code",
   "execution_count": 5,
   "metadata": {},
   "outputs": [
    {
     "data": {
      "text/plain": [
       "0.7382775119617225"
      ]
     },
     "execution_count": 5,
     "metadata": {},
     "output_type": "execute_result"
    }
   ],
   "source": [
    "svm_clf = SVC(random_state=42,gamma='scale')\n",
    "np.mean(cross_val_score(svm_clf,df,y,cv=10,scoring='accuracy'))"
   ]
  },
  {
   "cell_type": "code",
   "execution_count": 6,
   "metadata": {},
   "outputs": [
    {
     "name": "stdout",
     "output_type": "stream",
     "text": [
      "features selected:  3\n"
     ]
    },
    {
     "name": "stderr",
     "output_type": "stream",
     "text": [
      "C:\\Users\\kaumi\\Anaconda3\\lib\\site-packages\\ipykernel_launcher.py:7: SettingWithCopyWarning: \n",
      "A value is trying to be set on a copy of a slice from a DataFrame.\n",
      "Try using .loc[row_indexer,col_indexer] = value instead\n",
      "\n",
      "See the caveats in the documentation: http://pandas.pydata.org/pandas-docs/stable/indexing.html#indexing-view-versus-copy\n",
      "  import sys\n"
     ]
    },
    {
     "data": {
      "text/plain": [
       "0.7747095010252905"
      ]
     },
     "execution_count": 6,
     "metadata": {},
     "output_type": "execute_result"
    }
   ],
   "source": [
    "dt_clf.fit(X_train,y_train)\n",
    "sel = SelectFromModel(dt_clf,prefit=True)\n",
    "# sel.fit(df,y)\n",
    "print(\"features selected: \",sum(sel.get_support()))\n",
    "selected_feat_df = df.loc[:,sel.get_support()]\n",
    "# dt_clf.fit(X_train,y_train)\n",
    "selected_feat_df['dt_output']=dt_clf.predict(df)\n",
    "np.mean(cross_val_score(svm_clf,selected_feat_df,y,cv=10,scoring='accuracy'))"
   ]
  },
  {
   "cell_type": "markdown",
   "metadata": {},
   "source": [
    "# SPECT images"
   ]
  },
  {
   "cell_type": "code",
   "execution_count": 8,
   "metadata": {},
   "outputs": [],
   "source": [
    "df_spect = pd.read_csv(os.path.join(PATH,\"spect/SPECT.train\"),header=None)\n",
    "y_train_spect = df_spect[0]\n",
    "X_train_spect = df_spect.drop([0],axis=1)\n",
    "df_spect_test = pd.read_csv(os.path.join(PATH,\"spect/SPECT.test\"),header=None)\n",
    "y_test_spect = df_spect_test[0]\n",
    "X_test_spect = df_spect_test.drop([0],axis=1)\n",
    "df_spect = df_spect.append(df_spect_test,ignore_index=True)\n",
    "df_spect = df_spect.drop([0],axis=1)\n",
    "y_spect = y_train_spect.append(y_test_spect,ignore_index=True)"
   ]
  },
  {
   "cell_type": "code",
   "execution_count": 12,
   "metadata": {},
   "outputs": [
    {
     "data": {
      "text/plain": [
       "0.7598087098087098"
      ]
     },
     "execution_count": 12,
     "metadata": {},
     "output_type": "execute_result"
    }
   ],
   "source": [
    "dt_clf_spect = DecisionTreeClassifier(random_state=42)\n",
    "np.mean(cross_val_score(dt_clf_spect,df_spect,y_spect,cv=10,scoring='accuracy'))"
   ]
  },
  {
   "cell_type": "code",
   "execution_count": 13,
   "metadata": {},
   "outputs": [
    {
     "data": {
      "text/plain": [
       "0.823819698819699"
      ]
     },
     "execution_count": 13,
     "metadata": {},
     "output_type": "execute_result"
    }
   ],
   "source": [
    "svm_clf_spect = SVC(random_state=42,gamma='scale')\n",
    "np.mean(cross_val_score(svm_clf_spect,df_spect,y_spect,cv=10,scoring='accuracy'))"
   ]
  },
  {
   "cell_type": "code",
   "execution_count": 15,
   "metadata": {},
   "outputs": [
    {
     "name": "stdout",
     "output_type": "stream",
     "text": [
      "features selected:  6\n"
     ]
    },
    {
     "name": "stderr",
     "output_type": "stream",
     "text": [
      "C:\\Users\\kaumi\\Anaconda3\\lib\\site-packages\\ipykernel_launcher.py:7: SettingWithCopyWarning: \n",
      "A value is trying to be set on a copy of a slice from a DataFrame.\n",
      "Try using .loc[row_indexer,col_indexer] = value instead\n",
      "\n",
      "See the caveats in the documentation: http://pandas.pydata.org/pandas-docs/stable/indexing.html#indexing-view-versus-copy\n",
      "  import sys\n"
     ]
    },
    {
     "data": {
      "text/plain": [
       "0.8154558404558404"
      ]
     },
     "execution_count": 15,
     "metadata": {},
     "output_type": "execute_result"
    }
   ],
   "source": [
    "dt_clf_spect.fit(X_train_spect,y_train_spect)\n",
    "sel = SelectFromModel(dt_clf_spect,prefit=True)\n",
    "# sel.fit(df_spect,y_spect)\n",
    "print(\"features selected: \",sum(sel.get_support()))\n",
    "selected_feat_df_spect = df_spect.loc[:,sel.get_support()]\n",
    "# dt_clf_spect.fit(X_train_spect,y_train_spect)\n",
    "selected_feat_df_spect['dt_output']=dt_clf_spect.predict(df_spect)\n",
    "np.mean(cross_val_score(svm_clf_spect,selected_feat_df_spect,y_spect,cv=10,scoring='accuracy'))"
   ]
  },
  {
   "cell_type": "markdown",
   "metadata": {},
   "source": [
    "# Breast Cancer"
   ]
  },
  {
   "cell_type": "code",
   "execution_count": 16,
   "metadata": {},
   "outputs": [],
   "source": [
    "df_wcancer = pd.read_csv(os.path.join(PATH,\"breast_cancer/breast_cancer_data.csv\"))\n",
    "df_wcancer = df_wcancer.drop(['id','Unnamed: 32'],axis=1)\n",
    "y_wcancer = df_wcancer['diagnosis']\n",
    "le_wcancer = LabelEncoder()\n",
    "y_wcancer = le_wcancer.fit_transform(y_wcancer)\n",
    "df_wcancer = df_wcancer.drop(['diagnosis'],axis=1)\n",
    "X_train_wcancer,X_test_wcancer,y_train_wcancer,y_test_wcancer = train_test_split(df_wcancer,y_wcancer,random_state=42)"
   ]
  },
  {
   "cell_type": "code",
   "execution_count": 18,
   "metadata": {},
   "outputs": [
    {
     "data": {
      "text/plain": [
       "0.9281220292109584"
      ]
     },
     "execution_count": 18,
     "metadata": {},
     "output_type": "execute_result"
    }
   ],
   "source": [
    "dt_clf_wcancer = DecisionTreeClassifier(random_state=42)\n",
    "np.mean(cross_val_score(dt_clf_wcancer,df_wcancer,y_wcancer,cv=10,scoring='accuracy'))"
   ]
  },
  {
   "cell_type": "code",
   "execution_count": 19,
   "metadata": {},
   "outputs": [
    {
     "data": {
      "text/plain": [
       "0.9367999740731138"
      ]
     },
     "execution_count": 19,
     "metadata": {},
     "output_type": "execute_result"
    }
   ],
   "source": [
    "svm_clf_wcancer = SVC(random_state=42,gamma='scale')\n",
    "np.mean(cross_val_score(svm_clf_wcancer,df_wcancer,y_wcancer,cv=10,scoring='accuracy'))"
   ]
  },
  {
   "cell_type": "code",
   "execution_count": 20,
   "metadata": {},
   "outputs": [
    {
     "name": "stdout",
     "output_type": "stream",
     "text": [
      "features selected:  4\n"
     ]
    },
    {
     "name": "stderr",
     "output_type": "stream",
     "text": [
      "C:\\Users\\kaumi\\Anaconda3\\lib\\site-packages\\ipykernel_launcher.py:7: SettingWithCopyWarning: \n",
      "A value is trying to be set on a copy of a slice from a DataFrame.\n",
      "Try using .loc[row_indexer,col_indexer] = value instead\n",
      "\n",
      "See the caveats in the documentation: http://pandas.pydata.org/pandas-docs/stable/indexing.html#indexing-view-versus-copy\n",
      "  import sys\n"
     ]
    },
    {
     "data": {
      "text/plain": [
       "0.9158996629504796"
      ]
     },
     "execution_count": 20,
     "metadata": {},
     "output_type": "execute_result"
    }
   ],
   "source": [
    "dt_clf_wcancer.fit(X_train_wcancer,y_train_wcancer)\n",
    "sel_wcancer = SelectFromModel(dt_clf_wcancer,prefit=True)\n",
    "# sel_wcancer.fit(X_train_wcancer,y_train_wcancer)\n",
    "print(\"features selected: \",sum(sel_wcancer.get_support()))\n",
    "selected_feat_df_wcancer = df_wcancer.loc[:,sel_wcancer.get_support()]\n",
    "# dt_clf_wcancer.fit(X_train_wcancer,y_train_wcancer)\n",
    "selected_feat_df_wcancer['dt_output']=dt_clf_wcancer.predict(df_wcancer)\n",
    "np.mean(cross_val_score(svm_clf_wcancer,selected_feat_df_wcancer,y_wcancer,cv=10,scoring='accuracy'))"
   ]
  },
  {
   "cell_type": "markdown",
   "metadata": {},
   "source": [
    "# Statlog Heart "
   ]
  },
  {
   "cell_type": "code",
   "execution_count": 23,
   "metadata": {},
   "outputs": [],
   "source": [
    "df_heart = pd.read_csv(os.path.join(PATH,\"statlog_heart/heart.dat\"),header=None,sep=\" \")\n",
    "y_heart = df_heart[13]\n",
    "y_heart = y_heart.map({1:0,2:1})\n",
    "df_heart = df_heart.drop([13],axis=1)\n",
    "X_train_heart,X_test_heart,y_train_heart,y_test_heart = train_test_split(df_heart,y_heart,random_state=42)"
   ]
  },
  {
   "cell_type": "code",
   "execution_count": 25,
   "metadata": {},
   "outputs": [
    {
     "data": {
      "text/plain": [
       "0.7444444444444444"
      ]
     },
     "execution_count": 25,
     "metadata": {},
     "output_type": "execute_result"
    }
   ],
   "source": [
    "dt_clf_heart = DecisionTreeClassifier(random_state=42)\n",
    "np.mean(cross_val_score(dt_clf_heart,df_heart,y_heart,cv=10,scoring='accuracy'))"
   ]
  },
  {
   "cell_type": "code",
   "execution_count": 26,
   "metadata": {},
   "outputs": [
    {
     "data": {
      "text/plain": [
       "0.6814814814814815"
      ]
     },
     "execution_count": 26,
     "metadata": {},
     "output_type": "execute_result"
    }
   ],
   "source": [
    "svm_clf_heart = SVC(random_state=42,kernel='rbf',gamma='scale')\n",
    "np.mean(cross_val_score(svm_clf_heart,df_heart,y_heart,cv=10,scoring='accuracy'))"
   ]
  },
  {
   "cell_type": "code",
   "execution_count": 27,
   "metadata": {},
   "outputs": [
    {
     "name": "stdout",
     "output_type": "stream",
     "text": [
      "features selected:  4\n"
     ]
    },
    {
     "name": "stderr",
     "output_type": "stream",
     "text": [
      "C:\\Users\\kaumi\\Anaconda3\\lib\\site-packages\\ipykernel_launcher.py:7: SettingWithCopyWarning: \n",
      "A value is trying to be set on a copy of a slice from a DataFrame.\n",
      "Try using .loc[row_indexer,col_indexer] = value instead\n",
      "\n",
      "See the caveats in the documentation: http://pandas.pydata.org/pandas-docs/stable/indexing.html#indexing-view-versus-copy\n",
      "  import sys\n"
     ]
    },
    {
     "data": {
      "text/plain": [
       "0.6703703703703704"
      ]
     },
     "execution_count": 27,
     "metadata": {},
     "output_type": "execute_result"
    }
   ],
   "source": [
    "dt_clf_heart.fit(X_train_heart,y_train_heart)\n",
    "sel_heart = SelectFromModel(dt_clf_heart,prefit=True)\n",
    "# sel_heart.fit(df_heart,y_heart)\n",
    "print(\"features selected: \",sum(sel_heart.get_support()))\n",
    "selected_feat_df_heart = df_heart.loc[:,sel_heart.get_support()]\n",
    "# dt_clf_heart.fit(X_train_heart,y_train_heart)\n",
    "selected_feat_df_heart['dt_output']=dt_clf_heart.predict(df_heart)\n",
    "np.mean(cross_val_score(svm_clf_heart,selected_feat_df_heart,y_heart,cv=10,scoring='accuracy'))"
   ]
  },
  {
   "cell_type": "markdown",
   "metadata": {},
   "source": [
    "# Hepatitis"
   ]
  },
  {
   "cell_type": "code",
   "execution_count": 28,
   "metadata": {},
   "outputs": [],
   "source": [
    "df_hepat = pd.read_csv(os.path.join(PATH,\"hepatitis/hepatitis.data\"),header=None,sep=\",\")\n",
    "df_hepat = df_hepat.replace('?',np.NAN)\n",
    "df_hepat = df_hepat.dropna(axis=0)\n",
    "df_hepat = df_hepat.reset_index(drop=True)\n",
    "df_hepat = pd.get_dummies(df_hepat)\n",
    "\n",
    "y_hepat = df_hepat[0]\n",
    "df_hepat = df_hepat.drop([0],axis=1)\n",
    "y_hepat = y_hepat.map({1:0,2:1})\n",
    "X_train_hepat,X_test_hepat,y_train_hepat,y_test_hepat = train_test_split(df_hepat,y_hepat,random_state=42)"
   ]
  },
  {
   "cell_type": "code",
   "execution_count": 29,
   "metadata": {},
   "outputs": [
    {
     "data": {
      "text/plain": [
       "0.7089285714285715"
      ]
     },
     "execution_count": 29,
     "metadata": {},
     "output_type": "execute_result"
    }
   ],
   "source": [
    "dt_clf_hepat = DecisionTreeClassifier(random_state=42)\n",
    "np.mean(cross_val_score(dt_clf_hepat,df_hepat,y_hepat,cv=10,scoring='accuracy'))"
   ]
  },
  {
   "cell_type": "code",
   "execution_count": 30,
   "metadata": {},
   "outputs": [
    {
     "data": {
      "text/plain": [
       "0.8404761904761904"
      ]
     },
     "execution_count": 30,
     "metadata": {},
     "output_type": "execute_result"
    }
   ],
   "source": [
    "svm_clf_hepat = SVC(random_state=42,kernel='rbf',gamma='scale')\n",
    "np.mean(cross_val_score(svm_clf_hepat,df_hepat,y_hepat,cv=10,scoring='accuracy'))"
   ]
  },
  {
   "cell_type": "code",
   "execution_count": 31,
   "metadata": {},
   "outputs": [
    {
     "name": "stdout",
     "output_type": "stream",
     "text": [
      "features selected:  7\n"
     ]
    },
    {
     "name": "stderr",
     "output_type": "stream",
     "text": [
      "C:\\Users\\kaumi\\Anaconda3\\lib\\site-packages\\ipykernel_launcher.py:7: SettingWithCopyWarning: \n",
      "A value is trying to be set on a copy of a slice from a DataFrame.\n",
      "Try using .loc[row_indexer,col_indexer] = value instead\n",
      "\n",
      "See the caveats in the documentation: http://pandas.pydata.org/pandas-docs/stable/indexing.html#indexing-view-versus-copy\n",
      "  import sys\n"
     ]
    },
    {
     "data": {
      "text/plain": [
       "0.8404761904761904"
      ]
     },
     "execution_count": 31,
     "metadata": {},
     "output_type": "execute_result"
    }
   ],
   "source": [
    "dt_clf_hepat.fit(X_train_hepat,y_train_hepat)\n",
    "sel_hepat = SelectFromModel(dt_clf_hepat,prefit=True)\n",
    "# sel_hepat.fit(df_hepat,y_hepat)\n",
    "print(\"features selected: \",sum(sel_hepat.get_support()))\n",
    "selected_feat_df_hepat = df_hepat.loc[:,sel_hepat.get_support()]\n",
    "# dt_clf_hepat.fit(X_train_hepat,y_train_hepat)\n",
    "selected_feat_df_hepat['dt_output']=dt_clf_hepat.predict(df_hepat)\n",
    "np.mean(cross_val_score(svm_clf_hepat,selected_feat_df_hepat,y_hepat,cv=10,scoring='accuracy'))"
   ]
  },
  {
   "cell_type": "markdown",
   "metadata": {},
   "source": [
    "# HypoThyroid"
   ]
  },
  {
   "cell_type": "code",
   "execution_count": 32,
   "metadata": {},
   "outputs": [],
   "source": [
    "df_hypo = pd.read_csv(os.path.join(PATH,\"hypothyroid/hypothyroid.data\"),header=None)\n",
    "\n",
    "df_hypo = df_hypo.replace('?',np.NAN)\n",
    "df_hypo = df_hypo.drop([25],axis=1)\n",
    "df_hypo = df_hypo.dropna(axis=0)\n",
    "df_hypo = df_hypo.reset_index(drop=True)\n",
    "\n",
    "y_hypo = df_hypo[0]\n",
    "y_hypo = y_hypo.map({'hypothyroid':0,'negative':1})\n",
    "df_hypo = df_hypo.drop([0],axis=1)\n",
    "df_hypo = pd.get_dummies(df_hypo)\n",
    "X_train_hypo,X_test_hypo,y_train_hypo,y_test_hypo = train_test_split(df_hypo,y_hypo,random_state=42)"
   ]
  },
  {
   "cell_type": "code",
   "execution_count": 33,
   "metadata": {},
   "outputs": [
    {
     "data": {
      "text/plain": [
       "0.9445020125503139"
      ]
     },
     "execution_count": 33,
     "metadata": {},
     "output_type": "execute_result"
    }
   ],
   "source": [
    "dt_clf_hypo = DecisionTreeClassifier(random_state=42)\n",
    "np.mean(cross_val_score(dt_clf_hypo,df_hypo,y_hypo,cv=10,scoring='accuracy'))"
   ]
  },
  {
   "cell_type": "code",
   "execution_count": 34,
   "metadata": {},
   "outputs": [
    {
     "data": {
      "text/plain": [
       "0.9390043751093776"
      ]
     },
     "execution_count": 34,
     "metadata": {},
     "output_type": "execute_result"
    }
   ],
   "source": [
    "svm_clf_hypo = SVC(random_state=42,kernel='rbf',gamma='scale')\n",
    "np.mean(cross_val_score(svm_clf_hypo,df_hypo,y_hypo,cv=10,scoring='accuracy'))"
   ]
  },
  {
   "cell_type": "code",
   "execution_count": 35,
   "metadata": {},
   "outputs": [
    {
     "name": "stdout",
     "output_type": "stream",
     "text": [
      "features selected:  72\n"
     ]
    },
    {
     "name": "stderr",
     "output_type": "stream",
     "text": [
      "C:\\Users\\kaumi\\Anaconda3\\lib\\site-packages\\ipykernel_launcher.py:7: SettingWithCopyWarning: \n",
      "A value is trying to be set on a copy of a slice from a DataFrame.\n",
      "Try using .loc[row_indexer,col_indexer] = value instead\n",
      "\n",
      "See the caveats in the documentation: http://pandas.pydata.org/pandas-docs/stable/indexing.html#indexing-view-versus-copy\n",
      "  import sys\n"
     ]
    },
    {
     "data": {
      "text/plain": [
       "0.9900074376859422"
      ]
     },
     "execution_count": 35,
     "metadata": {},
     "output_type": "execute_result"
    }
   ],
   "source": [
    "dt_clf_hypo.fit(X_train_hypo,y_train_hypo)\n",
    "sel_hypo = SelectFromModel(dt_clf_hypo,prefit=True)\n",
    "# sel_hypo.fit(df_hypo,y_hypo)\n",
    "print(\"features selected: \",sum(sel_hypo.get_support()))\n",
    "selected_feat_df_hypo = df_hypo.loc[:,sel_hypo.get_support()]\n",
    "# dt_clf_hypo.fit(X_train_hypo,y_train_hypo)\n",
    "selected_feat_df_hypo['dt_output']=dt_clf_hypo.predict(df_hypo)\n",
    "np.mean(cross_val_score(svm_clf_hypo,selected_feat_df_hypo,y_hypo,cv=10,scoring='accuracy'))"
   ]
  },
  {
   "cell_type": "markdown",
   "metadata": {},
   "source": [
    "# Hungarian-14-Heart"
   ]
  },
  {
   "cell_type": "code",
   "execution_count": 36,
   "metadata": {},
   "outputs": [],
   "source": [
    "df_hung = pd.read_csv(os.path.join(PATH,\"hungarian_heart/hungarian.data\"),header=None)\n",
    "\n",
    "df_hung = df_hung.replace('?',np.NAN)\n",
    "df_hung = df_hung.drop([10,11,12],axis=1)\n",
    "df_hung = df_hung.dropna(axis=0)\n",
    "df_hung = df_hung.reset_index(drop=True)\n",
    "\n",
    "y_hung = df_hung[13]\n",
    "df_hung = df_hung.drop([13],axis=1)\n",
    "df_hung = pd.get_dummies(df_hung)\n",
    "X_train_hung,X_test_hung,y_train_hung,y_test_hung = train_test_split(df_hung,y_hung,random_state=42)"
   ]
  },
  {
   "cell_type": "code",
   "execution_count": 37,
   "metadata": {},
   "outputs": [
    {
     "data": {
      "text/plain": [
       "0.699925925925926"
      ]
     },
     "execution_count": 37,
     "metadata": {},
     "output_type": "execute_result"
    }
   ],
   "source": [
    "dt_clf_hung = DecisionTreeClassifier(random_state=42)\n",
    "np.mean(cross_val_score(dt_clf_hung,df_hung,y_hung,cv=10,scoring='accuracy'))"
   ]
  },
  {
   "cell_type": "code",
   "execution_count": 38,
   "metadata": {},
   "outputs": [
    {
     "data": {
      "text/plain": [
       "0.6284273504273503"
      ]
     },
     "execution_count": 38,
     "metadata": {},
     "output_type": "execute_result"
    }
   ],
   "source": [
    "svm_clf_hung = SVC(random_state=42,kernel='rbf',gamma='scale')\n",
    "np.mean(cross_val_score(svm_clf_hung,df_hung,y_hung,cv=10,scoring='accuracy'))"
   ]
  },
  {
   "cell_type": "code",
   "execution_count": 39,
   "metadata": {},
   "outputs": [
    {
     "name": "stdout",
     "output_type": "stream",
     "text": [
      "features selected:  32\n"
     ]
    },
    {
     "name": "stderr",
     "output_type": "stream",
     "text": [
      "C:\\Users\\kaumi\\Anaconda3\\lib\\site-packages\\ipykernel_launcher.py:7: SettingWithCopyWarning: \n",
      "A value is trying to be set on a copy of a slice from a DataFrame.\n",
      "Try using .loc[row_indexer,col_indexer] = value instead\n",
      "\n",
      "See the caveats in the documentation: http://pandas.pydata.org/pandas-docs/stable/indexing.html#indexing-view-versus-copy\n",
      "  import sys\n"
     ]
    },
    {
     "data": {
      "text/plain": [
       "0.9425584045584046"
      ]
     },
     "execution_count": 39,
     "metadata": {},
     "output_type": "execute_result"
    }
   ],
   "source": [
    "dt_clf_hung.fit(X_train_hung,y_train_hung)\n",
    "sel_hung = SelectFromModel(dt_clf_hung,prefit=True)\n",
    "# sel_hung.fit(df_hung,y_hung)\n",
    "print(\"features selected: \",sum(sel_hung.get_support()))\n",
    "selected_feat_df_hung = df_hung.loc[:,sel_hung.get_support()]\n",
    "# dt_clf_hung.fit(X_train_hung,y_train_hung)\n",
    "selected_feat_df_hung['dt_output']=dt_clf_hung.predict(df_hung)\n",
    "np.mean(cross_val_score(svm_clf_hung,selected_feat_df_hung,y_hung,cv=10,scoring='accuracy'))"
   ]
  },
  {
   "cell_type": "markdown",
   "metadata": {},
   "source": [
    "# Ionosphere"
   ]
  },
  {
   "cell_type": "code",
   "execution_count": 40,
   "metadata": {},
   "outputs": [],
   "source": [
    "df_ion = pd.read_csv(os.path.join(PATH,\"ionosphere/ionosphere.data\"),header=None,sep=',')\n",
    "y_ion = df_ion[34]\n",
    "df_ion = df_ion.drop([34],axis=1)\n",
    "y_ion = y_ion.map({'g':0,'b':1})\n",
    "X_train_ion,X_test_ion,y_train_ion,y_test_ion = train_test_split(df_ion,y_ion,random_state=42)"
   ]
  },
  {
   "cell_type": "code",
   "execution_count": 41,
   "metadata": {},
   "outputs": [
    {
     "data": {
      "text/plain": [
       "0.8647152194211017"
      ]
     },
     "execution_count": 41,
     "metadata": {},
     "output_type": "execute_result"
    }
   ],
   "source": [
    "dt_clf_ion = DecisionTreeClassifier(random_state=42)\n",
    "np.mean(cross_val_score(dt_clf_ion,df_ion,y_ion,cv=10,scoring='accuracy'))"
   ]
  },
  {
   "cell_type": "code",
   "execution_count": 42,
   "metadata": {},
   "outputs": [
    {
     "data": {
      "text/plain": [
       "0.9406115779645191"
      ]
     },
     "execution_count": 42,
     "metadata": {},
     "output_type": "execute_result"
    }
   ],
   "source": [
    "svm_clf_ion = SVC(random_state=42,kernel='rbf',gamma='scale')\n",
    "np.mean(cross_val_score(svm_clf_ion,df_ion,y_ion,cv=10,scoring='accuracy'))"
   ]
  },
  {
   "cell_type": "code",
   "execution_count": 43,
   "metadata": {},
   "outputs": [
    {
     "name": "stdout",
     "output_type": "stream",
     "text": [
      "features selected:  6\n"
     ]
    },
    {
     "name": "stderr",
     "output_type": "stream",
     "text": [
      "C:\\Users\\kaumi\\Anaconda3\\lib\\site-packages\\ipykernel_launcher.py:7: SettingWithCopyWarning: \n",
      "A value is trying to be set on a copy of a slice from a DataFrame.\n",
      "Try using .loc[row_indexer,col_indexer] = value instead\n",
      "\n",
      "See the caveats in the documentation: http://pandas.pydata.org/pandas-docs/stable/indexing.html#indexing-view-versus-copy\n",
      "  import sys\n"
     ]
    },
    {
     "data": {
      "text/plain": [
       "0.9776143790849673"
      ]
     },
     "execution_count": 43,
     "metadata": {},
     "output_type": "execute_result"
    }
   ],
   "source": [
    "dt_clf_ion.fit(X_train_ion,y_train_ion)\n",
    "sel_ion = SelectFromModel(dt_clf_ion,prefit=True)\n",
    "# sel_ion.fit(df_ion,y_ion)\n",
    "print(\"features selected: \",sum(sel_ion.get_support()))\n",
    "selected_feat_df_ion = df_ion.loc[:,sel_ion.get_support()]\n",
    "# dt_clf_ion.fit(X_train_ion,y_train_ion)\n",
    "selected_feat_df_ion['dt_output']=dt_clf_ion.predict(df_ion)\n",
    "np.mean(cross_val_score(svm_clf_ion,selected_feat_df_ion,y_ion,cv=10,scoring='accuracy'))"
   ]
  },
  {
   "cell_type": "markdown",
   "metadata": {},
   "source": [
    "# Sonar"
   ]
  },
  {
   "cell_type": "code",
   "execution_count": 44,
   "metadata": {},
   "outputs": [],
   "source": [
    "df_sonar = pd.read_csv(os.path.join(PATH,\"sonar/sonar.all-data\"),header=None)\n",
    "y_sonar = df_sonar[60]\n",
    "df_sonar = df_sonar.drop([60],axis=1)\n",
    "y_sonar = y_sonar.map({'R':0,'M':1})\n",
    "X_train_sonar,X_test_sonar,y_train_sonar,y_test_sonar = train_test_split(df_sonar,y_sonar,random_state=42)"
   ]
  },
  {
   "cell_type": "code",
   "execution_count": 45,
   "metadata": {},
   "outputs": [
    {
     "data": {
      "text/plain": [
       "0.6531313131313131"
      ]
     },
     "execution_count": 45,
     "metadata": {},
     "output_type": "execute_result"
    }
   ],
   "source": [
    "dt_clf_sonar = DecisionTreeClassifier(random_state=42)\n",
    "np.mean(cross_val_score(dt_clf_sonar,df_sonar,y_sonar,cv=20,scoring='accuracy'))"
   ]
  },
  {
   "cell_type": "code",
   "execution_count": 46,
   "metadata": {},
   "outputs": [
    {
     "data": {
      "text/plain": [
       "0.6161255411255411"
      ]
     },
     "execution_count": 46,
     "metadata": {},
     "output_type": "execute_result"
    }
   ],
   "source": [
    "svm_clf_sonar = SVC(random_state=42,kernel='rbf',gamma='scale')\n",
    "np.mean(cross_val_score(svm_clf_sonar,df_sonar,y_sonar,cv=10,scoring='accuracy'))"
   ]
  },
  {
   "cell_type": "code",
   "execution_count": 47,
   "metadata": {},
   "outputs": [
    {
     "name": "stdout",
     "output_type": "stream",
     "text": [
      "features selected:  14\n"
     ]
    },
    {
     "name": "stderr",
     "output_type": "stream",
     "text": [
      "C:\\Users\\kaumi\\Anaconda3\\lib\\site-packages\\ipykernel_launcher.py:7: SettingWithCopyWarning: \n",
      "A value is trying to be set on a copy of a slice from a DataFrame.\n",
      "Try using .loc[row_indexer,col_indexer] = value instead\n",
      "\n",
      "See the caveats in the documentation: http://pandas.pydata.org/pandas-docs/stable/indexing.html#indexing-view-versus-copy\n",
      "  import sys\n"
     ]
    },
    {
     "data": {
      "text/plain": [
       "0.9285281385281385"
      ]
     },
     "execution_count": 47,
     "metadata": {},
     "output_type": "execute_result"
    }
   ],
   "source": [
    "dt_clf_sonar.fit(X_train_sonar,y_train_sonar)\n",
    "sel_sonar = SelectFromModel(dt_clf_sonar,prefit=True)\n",
    "# sel_sonar.fit(df_sonar,y_sonar)\n",
    "print(\"features selected: \",sum(sel_sonar.get_support()))\n",
    "selected_feat_df_sonar = df_sonar.loc[:,sel_sonar.get_support()]\n",
    "# dt_clf_sonar.fit(X_train_sonar,y_train_sonar)\n",
    "selected_feat_df_sonar['dt_output']=dt_clf_sonar.predict(df_sonar)\n",
    "np.mean(cross_val_score(svm_clf_sonar,selected_feat_df_sonar,y_sonar,cv=10,scoring='accuracy'))"
   ]
  },
  {
   "cell_type": "markdown",
   "metadata": {},
   "source": [
    "# Vote"
   ]
  },
  {
   "cell_type": "code",
   "execution_count": 48,
   "metadata": {},
   "outputs": [],
   "source": [
    "df_vote = pd.read_csv(os.path.join(PATH,\"vote/house-votes-84.data\"),header=None)\n",
    "\n",
    "df_vote = df_vote.replace('?',np.NAN)\n",
    "df_vote = df_vote.dropna(axis=0)\n",
    "df_vote = df_vote.reset_index(drop=True)\n",
    "\n",
    "y_vote = df_vote[0]\n",
    "df_vote = df_vote.drop([0],axis=1)\n",
    "y_vote = y_vote.map({'democrat':0,'republican':1})\n",
    "\n",
    "df_vote = pd.get_dummies(df_vote)\n",
    "X_train_vote,X_test_vote,y_train_vote,y_test_vote = train_test_split(df_vote,y_vote,random_state=42)"
   ]
  },
  {
   "cell_type": "code",
   "execution_count": 49,
   "metadata": {},
   "outputs": [
    {
     "data": {
      "text/plain": [
       "0.9347002635046113"
      ]
     },
     "execution_count": 49,
     "metadata": {},
     "output_type": "execute_result"
    }
   ],
   "source": [
    "dt_clf_vote = DecisionTreeClassifier(random_state=42)\n",
    "np.mean(cross_val_score(dt_clf_vote,df_vote,y_vote,cv=10,scoring='accuracy'))"
   ]
  },
  {
   "cell_type": "code",
   "execution_count": 50,
   "metadata": {},
   "outputs": [
    {
     "data": {
      "text/plain": [
       "0.96933465085639"
      ]
     },
     "execution_count": 50,
     "metadata": {},
     "output_type": "execute_result"
    }
   ],
   "source": [
    "svm_clf_vote = SVC(random_state=42,kernel='rbf',gamma='scale')\n",
    "np.mean(cross_val_score(svm_clf_vote,df_vote,y_vote,cv=10,scoring='accuracy'))"
   ]
  },
  {
   "cell_type": "code",
   "execution_count": 51,
   "metadata": {},
   "outputs": [
    {
     "name": "stdout",
     "output_type": "stream",
     "text": [
      "features selected:  2\n"
     ]
    },
    {
     "name": "stderr",
     "output_type": "stream",
     "text": [
      "C:\\Users\\kaumi\\Anaconda3\\lib\\site-packages\\ipykernel_launcher.py:7: SettingWithCopyWarning: \n",
      "A value is trying to be set on a copy of a slice from a DataFrame.\n",
      "Try using .loc[row_indexer,col_indexer] = value instead\n",
      "\n",
      "See the caveats in the documentation: http://pandas.pydata.org/pandas-docs/stable/indexing.html#indexing-view-versus-copy\n",
      "  import sys\n"
     ]
    },
    {
     "data": {
      "text/plain": [
       "0.9827898550724639"
      ]
     },
     "execution_count": 51,
     "metadata": {},
     "output_type": "execute_result"
    }
   ],
   "source": [
    "dt_clf_vote.fit(X_train_vote,y_train_vote)\n",
    "sel_vote = SelectFromModel(dt_clf_vote,prefit=True)\n",
    "# sel_vote.fit(df_vote,y_vote)\n",
    "print(\"features selected: \",sum(sel_vote.get_support()))\n",
    "selected_feat_df_vote = df_vote.loc[:,sel_vote.get_support()]\n",
    "# dt_clf_vote.fit(X_train_vote,y_train_vote)\n",
    "selected_feat_df_vote['dt_output']=dt_clf_vote.predict(df_vote)\n",
    "np.mean(cross_val_score(svm_clf_vote,selected_feat_df_vote,y_vote,cv=10,scoring='accuracy'))"
   ]
  },
  {
   "cell_type": "markdown",
   "metadata": {},
   "source": [
    "# Kr vs Kp"
   ]
  },
  {
   "cell_type": "code",
   "execution_count": 52,
   "metadata": {},
   "outputs": [],
   "source": [
    "df_krkp = pd.read_csv(os.path.join(PATH,\"krvskp/kr-vs-kp.data\"),header=None)\n",
    "\n",
    "y_krkp = df_krkp[36]\n",
    "y_krkp = y_krkp.map({'won':0,'nowin':1})\n",
    "df_krkp = df_krkp.drop([36],axis=1)\n",
    "\n",
    "df_krkp = pd.get_dummies(df_krkp)\n",
    "X_train_krkp,X_test_krkp,y_train_krkp,y_test_krkp = train_test_split(df_krkp,y_krkp,random_state=42)"
   ]
  },
  {
   "cell_type": "code",
   "execution_count": 53,
   "metadata": {},
   "outputs": [
    {
     "data": {
      "text/plain": [
       "0.9783835898838745"
      ]
     },
     "execution_count": 53,
     "metadata": {},
     "output_type": "execute_result"
    }
   ],
   "source": [
    "dt_clf_krkp = DecisionTreeClassifier(random_state=42)\n",
    "np.mean(cross_val_score(dt_clf_krkp,df_krkp,y_krkp,cv=10,scoring='accuracy'))"
   ]
  },
  {
   "cell_type": "code",
   "execution_count": 54,
   "metadata": {},
   "outputs": [
    {
     "data": {
      "text/plain": [
       "0.9258444295755209"
      ]
     },
     "execution_count": 54,
     "metadata": {},
     "output_type": "execute_result"
    }
   ],
   "source": [
    "svm_clf_krkp = SVC(random_state=42,kernel='rbf',gamma='scale')\n",
    "np.mean(cross_val_score(svm_clf_krkp,df_krkp,y_krkp,cv=10,scoring='accuracy'))"
   ]
  },
  {
   "cell_type": "code",
   "execution_count": 55,
   "metadata": {},
   "outputs": [
    {
     "name": "stdout",
     "output_type": "stream",
     "text": [
      "features selected:  8\n"
     ]
    },
    {
     "name": "stderr",
     "output_type": "stream",
     "text": [
      "C:\\Users\\kaumi\\Anaconda3\\lib\\site-packages\\ipykernel_launcher.py:7: SettingWithCopyWarning: \n",
      "A value is trying to be set on a copy of a slice from a DataFrame.\n",
      "Try using .loc[row_indexer,col_indexer] = value instead\n",
      "\n",
      "See the caveats in the documentation: http://pandas.pydata.org/pandas-docs/stable/indexing.html#indexing-view-versus-copy\n",
      "  import sys\n"
     ]
    },
    {
     "data": {
      "text/plain": [
       "0.9971796506870921"
      ]
     },
     "execution_count": 55,
     "metadata": {},
     "output_type": "execute_result"
    }
   ],
   "source": [
    "dt_clf_krkp.fit(X_train_krkp,y_train_krkp)\n",
    "sel_krkp = SelectFromModel(dt_clf_krkp,prefit=True)\n",
    "# sel_krkp.fit(df_krkp,y_krkp)\n",
    "print(\"features selected: \",sum(sel_krkp.get_support()))\n",
    "selected_feat_df_krkp = df_krkp.loc[:,sel_krkp.get_support()]\n",
    "# dt_clf_krkp.fit(X_train_krkp,y_train_krkp)\n",
    "selected_feat_df_krkp['dt_output']=dt_clf_krkp.predict(df_krkp)\n",
    "np.mean(cross_val_score(svm_clf_krkp,selected_feat_df_krkp,y_krkp,cv=10,scoring='accuracy'))"
   ]
  },
  {
   "cell_type": "markdown",
   "metadata": {},
   "source": [
    "# Thyroid-Sick"
   ]
  },
  {
   "cell_type": "code",
   "execution_count": 56,
   "metadata": {},
   "outputs": [],
   "source": [
    "sick = fetch_datasets()['thyroid_sick']\n",
    "df_sick = pd.DataFrame(sick.data)\n",
    "y_sick = sick.target\n",
    "y_sick = pd.Series(y_sick).map({-1:0,1:1})\n",
    "X_train_sick,X_test_sick,y_train_sick,y_test_sick = train_test_split(df_sick,y_sick,random_state=42)"
   ]
  },
  {
   "cell_type": "code",
   "execution_count": 57,
   "metadata": {},
   "outputs": [
    {
     "data": {
      "text/plain": [
       "0.9870054520131856"
      ]
     },
     "execution_count": 57,
     "metadata": {},
     "output_type": "execute_result"
    }
   ],
   "source": [
    "dt_clf_sick = DecisionTreeClassifier(random_state=42)\n",
    "np.mean(cross_val_score(dt_clf_sick,df_sick,y_sick,cv=10,scoring='accuracy'))"
   ]
  },
  {
   "cell_type": "code",
   "execution_count": 58,
   "metadata": {},
   "outputs": [
    {
     "data": {
      "text/plain": [
       "0.9387603843704291"
      ]
     },
     "execution_count": 58,
     "metadata": {},
     "output_type": "execute_result"
    }
   ],
   "source": [
    "svm_clf_sick = SVC(random_state=42,kernel='rbf',gamma='scale')\n",
    "np.mean(cross_val_score(svm_clf_sick,df_sick,y_sick,cv=10,scoring='accuracy'))"
   ]
  },
  {
   "cell_type": "code",
   "execution_count": 59,
   "metadata": {},
   "outputs": [
    {
     "name": "stdout",
     "output_type": "stream",
     "text": [
      "features selected:  8\n"
     ]
    },
    {
     "name": "stderr",
     "output_type": "stream",
     "text": [
      "C:\\Users\\kaumi\\Anaconda3\\lib\\site-packages\\ipykernel_launcher.py:7: SettingWithCopyWarning: \n",
      "A value is trying to be set on a copy of a slice from a DataFrame.\n",
      "Try using .loc[row_indexer,col_indexer] = value instead\n",
      "\n",
      "See the caveats in the documentation: http://pandas.pydata.org/pandas-docs/stable/indexing.html#indexing-view-versus-copy\n",
      "  import sys\n"
     ]
    },
    {
     "data": {
      "text/plain": [
       "0.9411448527816466"
      ]
     },
     "execution_count": 59,
     "metadata": {},
     "output_type": "execute_result"
    }
   ],
   "source": [
    "dt_clf_sick.fit(X_train_sick,y_train_sick)\n",
    "sel_sick = SelectFromModel(dt_clf_sick,prefit=True)\n",
    "# sel_sick.fit(df_sick,y_sick)\n",
    "print(\"features selected: \",sum(sel_sick.get_support()))\n",
    "selected_feat_df_sick = df_sick.loc[:,sel_sick.get_support()]\n",
    "# dt_clf_sick.fit(X_train_sick,y_train_sick)\n",
    "selected_feat_df_sick['dt_output']=dt_clf_sick.predict(df_sick)\n",
    "np.mean(cross_val_score(svm_clf_sick,selected_feat_df_sick,y_sick,cv=10,scoring='accuracy'))"
   ]
  },
  {
   "cell_type": "markdown",
   "metadata": {},
   "source": [
    "# Monks1"
   ]
  },
  {
   "cell_type": "code",
   "execution_count": 60,
   "metadata": {},
   "outputs": [],
   "source": [
    "df_monks1 = pd.DataFrame()\n",
    "df_monks1_train = pd.read_csv(os.path.join(PATH,\"monks/monks-1.train\"),header=None,sep=\" \")\n",
    "df_monks1_test = pd.read_csv(os.path.join(PATH,\"monks/monks-1.test\"),header=None,sep=\" \")\n",
    "\n",
    "df_monks1 = df_monks1.append(df_monks1_train,ignore_index=True)\n",
    "df_monks1 = df_monks1.append(df_monks1_test,ignore_index=True)\n",
    "\n",
    "y_monks1 = df_monks1[1]\n",
    "df_monks1 = df_monks1.drop([0,1,8],axis=1)\n",
    "\n",
    "X_train_monks1,X_test_monks1,y_train_monks1,y_test_monks1 = train_test_split(df_monks1,y_monks1,random_state=42)"
   ]
  },
  {
   "cell_type": "code",
   "execution_count": 61,
   "metadata": {},
   "outputs": [
    {
     "data": {
      "text/plain": [
       "1.0"
      ]
     },
     "execution_count": 61,
     "metadata": {},
     "output_type": "execute_result"
    }
   ],
   "source": [
    "dt_clf_monks1 = DecisionTreeClassifier(random_state=42)\n",
    "np.mean(cross_val_score(dt_clf_monks1,df_monks1,y_monks1,cv=10,scoring='accuracy'))"
   ]
  },
  {
   "cell_type": "code",
   "execution_count": 62,
   "metadata": {},
   "outputs": [
    {
     "data": {
      "text/plain": [
       "0.8850529100529101"
      ]
     },
     "execution_count": 62,
     "metadata": {},
     "output_type": "execute_result"
    }
   ],
   "source": [
    "svm_clf_monks1 = SVC(random_state=42,kernel='rbf',gamma='scale')\n",
    "np.mean(cross_val_score(svm_clf_monks1,df_monks1,y_monks1,cv=10,scoring='accuracy'))"
   ]
  },
  {
   "cell_type": "code",
   "execution_count": 63,
   "metadata": {},
   "outputs": [
    {
     "name": "stdout",
     "output_type": "stream",
     "text": [
      "features selected:  3\n"
     ]
    },
    {
     "name": "stderr",
     "output_type": "stream",
     "text": [
      "C:\\Users\\kaumi\\Anaconda3\\lib\\site-packages\\ipykernel_launcher.py:7: SettingWithCopyWarning: \n",
      "A value is trying to be set on a copy of a slice from a DataFrame.\n",
      "Try using .loc[row_indexer,col_indexer] = value instead\n",
      "\n",
      "See the caveats in the documentation: http://pandas.pydata.org/pandas-docs/stable/indexing.html#indexing-view-versus-copy\n",
      "  import sys\n"
     ]
    },
    {
     "data": {
      "text/plain": [
       "0.9871693121693121"
      ]
     },
     "execution_count": 63,
     "metadata": {},
     "output_type": "execute_result"
    }
   ],
   "source": [
    "dt_clf_monks1.fit(X_train_monks1,y_train_monks1)\n",
    "sel_monks1 = SelectFromModel(dt_clf_monks1,prefit=True)\n",
    "# sel_monks1.fit(df_monks1,y_monks1)\n",
    "print(\"features selected: \",sum(sel_monks1.get_support()))\n",
    "selected_feat_df_monks1 = df_monks1.loc[:,sel_monks1.get_support()]\n",
    "# dt_clf_monks1.fit(X_train_monks1,y_train_monks1)\n",
    "selected_feat_df_monks1['dt_output']=dt_clf_monks1.predict(df_monks1)\n",
    "np.mean(cross_val_score(svm_clf_monks1,selected_feat_df_monks1,y_monks1,cv=10,scoring='accuracy'))"
   ]
  },
  {
   "cell_type": "markdown",
   "metadata": {},
   "source": [
    "# Monks2"
   ]
  },
  {
   "cell_type": "code",
   "execution_count": 64,
   "metadata": {},
   "outputs": [],
   "source": [
    "df_monks2 = pd.DataFrame()\n",
    "df_monks2_train = pd.read_csv(os.path.join(PATH,\"monks/monks-2.train\"),header=None,sep=\" \")\n",
    "df_monks2_test = pd.read_csv(os.path.join(PATH,\"monks/monks-2.test\"),header=None,sep=\" \")\n",
    "\n",
    "df_monks2 = df_monks2.append(df_monks2_train,ignore_index=True)\n",
    "df_monks2 = df_monks2.append(df_monks2_test,ignore_index=True)\n",
    "\n",
    "y_monks2 = df_monks2[1]\n",
    "df_monks2 = df_monks2.drop([0,1,8],axis=1)\n",
    "\n",
    "X_train_monks2,X_test_monks2,y_train_monks2,y_test_monks2 = train_test_split(df_monks2,y_monks2,random_state=42)"
   ]
  },
  {
   "cell_type": "code",
   "execution_count": 65,
   "metadata": {},
   "outputs": [
    {
     "data": {
      "text/plain": [
       "0.9664925442252477"
      ]
     },
     "execution_count": 65,
     "metadata": {},
     "output_type": "execute_result"
    }
   ],
   "source": [
    "dt_clf_monks2 = DecisionTreeClassifier(random_state=42)\n",
    "np.mean(cross_val_score(dt_clf_monks2,df_monks2,y_monks2,cv=10,scoring='accuracy'))"
   ]
  },
  {
   "cell_type": "code",
   "execution_count": 66,
   "metadata": {},
   "outputs": [
    {
     "data": {
      "text/plain": [
       "0.6506362878577383"
      ]
     },
     "execution_count": 66,
     "metadata": {},
     "output_type": "execute_result"
    }
   ],
   "source": [
    "svm_clf_monks2 = SVC(random_state=42,kernel='rbf',gamma='scale')\n",
    "np.mean(cross_val_score(svm_clf_monks2,df_monks2,y_monks2,cv=10,scoring='accuracy'))"
   ]
  },
  {
   "cell_type": "code",
   "execution_count": 67,
   "metadata": {},
   "outputs": [
    {
     "name": "stdout",
     "output_type": "stream",
     "text": [
      "features selected:  3\n"
     ]
    },
    {
     "name": "stderr",
     "output_type": "stream",
     "text": [
      "C:\\Users\\kaumi\\Anaconda3\\lib\\site-packages\\ipykernel_launcher.py:7: SettingWithCopyWarning: \n",
      "A value is trying to be set on a copy of a slice from a DataFrame.\n",
      "Try using .loc[row_indexer,col_indexer] = value instead\n",
      "\n",
      "See the caveats in the documentation: http://pandas.pydata.org/pandas-docs/stable/indexing.html#indexing-view-versus-copy\n",
      "  import sys\n"
     ]
    },
    {
     "data": {
      "text/plain": [
       "0.9916092433083264"
      ]
     },
     "execution_count": 67,
     "metadata": {},
     "output_type": "execute_result"
    }
   ],
   "source": [
    "dt_clf_monks2.fit(X_train_monks2,y_train_monks2)\n",
    "sel_monks2 = SelectFromModel(dt_clf_monks2,prefit=True)\n",
    "# sel_monks2.fit(df_monks2,y_monks2)\n",
    "print(\"features selected: \",sum(sel_monks2.get_support()))\n",
    "selected_feat_df_monks2 = df_monks2.loc[:,sel_monks2.get_support()]\n",
    "# dt_clf_monks2.fit(X_train_monks2,y_train_monks2)\n",
    "selected_feat_df_monks2['dt_output']=dt_clf_monks2.predict(df_monks2)\n",
    "np.mean(cross_val_score(svm_clf_monks2,selected_feat_df_monks2,y_monks2,cv=10,scoring='accuracy'))"
   ]
  },
  {
   "cell_type": "markdown",
   "metadata": {},
   "source": [
    "# Monks3"
   ]
  },
  {
   "cell_type": "code",
   "execution_count": 68,
   "metadata": {},
   "outputs": [],
   "source": [
    "df_monks3 = pd.DataFrame()\n",
    "df_monks3_train = pd.read_csv(os.path.join(PATH,\"monks/monks-3.train\"),header=None,sep=\" \")\n",
    "df_monks3_test = pd.read_csv(os.path.join(PATH,\"monks/monks-3.test\"),header=None,sep=\" \")\n",
    "\n",
    "df_monks3 = df_monks3.append(df_monks3_train,ignore_index=True)\n",
    "df_monks3 = df_monks3.append(df_monks3_test,ignore_index=True)\n",
    "\n",
    "y_monks3 = df_monks3[1]\n",
    "df_monks3 = df_monks3.drop([0,1,8],axis=1)\n",
    "\n",
    "X_train_monks3,X_test_monks3,y_train_monks3,y_test_monks3 = train_test_split(df_monks3,y_monks3,random_state=42)"
   ]
  },
  {
   "cell_type": "code",
   "execution_count": 69,
   "metadata": {},
   "outputs": [
    {
     "data": {
      "text/plain": [
       "0.9638924963924964"
      ]
     },
     "execution_count": 69,
     "metadata": {},
     "output_type": "execute_result"
    }
   ],
   "source": [
    "dt_clf_monks3 = DecisionTreeClassifier(random_state=42)\n",
    "np.mean(cross_val_score(dt_clf_monks3,df_monks3,y_monks3,cv=10,scoring='accuracy'))"
   ]
  },
  {
   "cell_type": "code",
   "execution_count": 70,
   "metadata": {},
   "outputs": [
    {
     "data": {
      "text/plain": [
       "0.9638912938912938"
      ]
     },
     "execution_count": 70,
     "metadata": {},
     "output_type": "execute_result"
    }
   ],
   "source": [
    "svm_clf_monks3 = SVC(random_state=42,kernel='rbf',gamma='scale')\n",
    "np.mean(cross_val_score(svm_clf_monks3,df_monks3,y_monks3,cv=10,scoring='accuracy'))"
   ]
  },
  {
   "cell_type": "code",
   "execution_count": 71,
   "metadata": {},
   "outputs": [
    {
     "name": "stdout",
     "output_type": "stream",
     "text": [
      "features selected:  2\n"
     ]
    },
    {
     "name": "stderr",
     "output_type": "stream",
     "text": [
      "C:\\Users\\kaumi\\Anaconda3\\lib\\site-packages\\ipykernel_launcher.py:7: SettingWithCopyWarning: \n",
      "A value is trying to be set on a copy of a slice from a DataFrame.\n",
      "Try using .loc[row_indexer,col_indexer] = value instead\n",
      "\n",
      "See the caveats in the documentation: http://pandas.pydata.org/pandas-docs/stable/indexing.html#indexing-view-versus-copy\n",
      "  import sys\n"
     ]
    },
    {
     "data": {
      "text/plain": [
       "0.9874350649350649"
      ]
     },
     "execution_count": 71,
     "metadata": {},
     "output_type": "execute_result"
    }
   ],
   "source": [
    "dt_clf_monks3.fit(X_train_monks3,y_train_monks3)\n",
    "sel_monks3 = SelectFromModel(dt_clf_monks3,prefit=True)\n",
    "# sel_monks2.fit(df_monks2,y_monks2)\n",
    "print(\"features selected: \",sum(sel_monks3.get_support()))\n",
    "selected_feat_df_monks3 = df_monks3.loc[:,sel_monks3.get_support()]\n",
    "# dt_clf_monks2.fit(X_train_monks2,y_train_monks2)\n",
    "selected_feat_df_monks3['dt_output']=dt_clf_monks3.predict(df_monks3)\n",
    "np.mean(cross_val_score(svm_clf_monks3,selected_feat_df_monks3,y_monks3,cv=10,scoring='accuracy'))"
   ]
  },
  {
   "cell_type": "markdown",
   "metadata": {},
   "source": [
    "# Mushroom"
   ]
  },
  {
   "cell_type": "code",
   "execution_count": 72,
   "metadata": {},
   "outputs": [],
   "source": [
    "df_mushroom = pd.read_csv(os.path.join(PATH,\"mushroom/mushrooms.csv\"))\n",
    "y_mushroom = df_mushroom['class']\n",
    "df_mushroom = df_mushroom.drop(['class'],axis=1)\n",
    "df_mushroom = pd.get_dummies(df_mushroom)\n",
    "y_mushroom = y_mushroom.map({'p':0,'e':1})\n",
    "X_train_mushroom,X_test_mushroom,y_train_mushroom,y_test_mushroom = train_test_split(df_mushroom,y_mushroom,random_state=42)"
   ]
  },
  {
   "cell_type": "code",
   "execution_count": 73,
   "metadata": {},
   "outputs": [
    {
     "data": {
      "text/plain": [
       "0.9564284446790214"
      ]
     },
     "execution_count": 73,
     "metadata": {},
     "output_type": "execute_result"
    }
   ],
   "source": [
    "dt_clf_mushroom = DecisionTreeClassifier(random_state=42)\n",
    "np.mean(cross_val_score(dt_clf_mushroom,df_mushroom,y_mushroom,cv=10,scoring='accuracy'))"
   ]
  },
  {
   "cell_type": "code",
   "execution_count": 74,
   "metadata": {},
   "outputs": [
    {
     "data": {
      "text/plain": [
       "0.9438531993211423"
      ]
     },
     "execution_count": 74,
     "metadata": {},
     "output_type": "execute_result"
    }
   ],
   "source": [
    "svm_clf_mushroom = SVC(random_state=42,kernel='rbf',gamma='scale')\n",
    "np.mean(cross_val_score(svm_clf_mushroom,df_mushroom,y_mushroom,cv=10,scoring='accuracy'))"
   ]
  },
  {
   "cell_type": "code",
   "execution_count": 75,
   "metadata": {},
   "outputs": [
    {
     "name": "stdout",
     "output_type": "stream",
     "text": [
      "features selected:  7\n"
     ]
    },
    {
     "name": "stderr",
     "output_type": "stream",
     "text": [
      "C:\\Users\\kaumi\\Anaconda3\\lib\\site-packages\\ipykernel_launcher.py:7: SettingWithCopyWarning: \n",
      "A value is trying to be set on a copy of a slice from a DataFrame.\n",
      "Try using .loc[row_indexer,col_indexer] = value instead\n",
      "\n",
      "See the caveats in the documentation: http://pandas.pydata.org/pandas-docs/stable/indexing.html#indexing-view-versus-copy\n",
      "  import sys\n"
     ]
    },
    {
     "data": {
      "text/plain": [
       "1.0"
      ]
     },
     "execution_count": 75,
     "metadata": {},
     "output_type": "execute_result"
    }
   ],
   "source": [
    "dt_clf_mushroom.fit(X_train_mushroom,y_train_mushroom)\n",
    "sel_mushroom = SelectFromModel(dt_clf_mushroom,prefit=True)\n",
    "# sel_mushroom.fit(df_mushroom,y_mushroom)\n",
    "print(\"features selected: \",sum(sel_mushroom.get_support()))\n",
    "selected_feat_df_mushroom = df_mushroom.loc[:,sel_mushroom.get_support()]\n",
    "# dt_clf_mushroom.fit(X_train_mushroom,y_train_mushroom)\n",
    "selected_feat_df_mushroom['dt_output']=dt_clf_mushroom.predict(df_mushroom)\n",
    "np.mean(cross_val_score(svm_clf_mushroom,selected_feat_df_mushroom,y_mushroom,cv=10,scoring='accuracy'))"
   ]
  },
  {
   "cell_type": "markdown",
   "metadata": {},
   "source": [
    "# Musk1"
   ]
  },
  {
   "cell_type": "code",
   "execution_count": 77,
   "metadata": {},
   "outputs": [],
   "source": [
    "df_musk1 = pd.read_csv(os.path.join(PATH,\"musk1/clean1.data\"),header=None)\n",
    "y_musk1 = df_musk1[168]\n",
    "df_musk1 = df_musk1.drop([0,1,168],axis=1)\n",
    "X_train_musk1,X_test_musk1,y_train_musk1,y_test_musk1 = train_test_split(df_musk1,y_musk1,random_state=42)"
   ]
  },
  {
   "cell_type": "code",
   "execution_count": 78,
   "metadata": {},
   "outputs": [
    {
     "data": {
      "text/plain": [
       "0.7131109312365094"
      ]
     },
     "execution_count": 78,
     "metadata": {},
     "output_type": "execute_result"
    }
   ],
   "source": [
    "dt_clf_musk1 = DecisionTreeClassifier(random_state=42)\n",
    "np.mean(cross_val_score(dt_clf_musk1,df_musk1,y_musk1,cv=10,scoring='accuracy'))"
   ]
  },
  {
   "cell_type": "code",
   "execution_count": 79,
   "metadata": {},
   "outputs": [
    {
     "data": {
      "text/plain": [
       "0.569332022818378"
      ]
     },
     "execution_count": 79,
     "metadata": {},
     "output_type": "execute_result"
    }
   ],
   "source": [
    "svm_clf_musk1 = SVC(random_state=42,kernel='rbf',gamma='scale')\n",
    "np.mean(cross_val_score(svm_clf_musk1,df_musk1,y_musk1,cv=10,scoring='accuracy'))"
   ]
  },
  {
   "cell_type": "code",
   "execution_count": 80,
   "metadata": {},
   "outputs": [
    {
     "name": "stdout",
     "output_type": "stream",
     "text": [
      "features selected:  29\n"
     ]
    },
    {
     "name": "stderr",
     "output_type": "stream",
     "text": [
      "C:\\Users\\kaumi\\Anaconda3\\lib\\site-packages\\ipykernel_launcher.py:7: SettingWithCopyWarning: \n",
      "A value is trying to be set on a copy of a slice from a DataFrame.\n",
      "Try using .loc[row_indexer,col_indexer] = value instead\n",
      "\n",
      "See the caveats in the documentation: http://pandas.pydata.org/pandas-docs/stable/indexing.html#indexing-view-versus-copy\n",
      "  import sys\n"
     ]
    },
    {
     "data": {
      "text/plain": [
       "0.5946904872032068"
      ]
     },
     "execution_count": 80,
     "metadata": {},
     "output_type": "execute_result"
    }
   ],
   "source": [
    "dt_clf_musk1.fit(X_train_musk1,y_train_musk1)\n",
    "sel_musk1= SelectFromModel(dt_clf_musk1,prefit=True)\n",
    "# sel_musk1.fit(df_musk1,y_musk1)\n",
    "print(\"features selected: \",sum(sel_musk1.get_support()))\n",
    "selected_feat_df_musk1 = df_musk1.loc[:,sel_musk1.get_support()]\n",
    "# dt_clf_musk1.fit(X_train_musk1,y_train_musk1)\n",
    "selected_feat_df_musk1['dt_output']=dt_clf_musk1.predict(df_musk1)\n",
    "np.mean(cross_val_score(svm_clf_musk1,selected_feat_df_musk1,y_musk1,cv=10,scoring='accuracy'))"
   ]
  },
  {
   "cell_type": "markdown",
   "metadata": {},
   "source": [
    "# Musk2"
   ]
  },
  {
   "cell_type": "code",
   "execution_count": 81,
   "metadata": {},
   "outputs": [],
   "source": [
    "df_musk2 = pd.read_csv(os.path.join(PATH,\"musk2/clean2.data\"),header=None)\n",
    "y_musk2 = df_musk2[168]\n",
    "df_musk2 = df_musk2.drop([0,1,168],axis=1)\n",
    "X_train_musk2,X_test_musk2,y_train_musk2,y_test_musk2 = train_test_split(df_musk2,y_musk2,random_state=42)"
   ]
  },
  {
   "cell_type": "code",
   "execution_count": 82,
   "metadata": {},
   "outputs": [
    {
     "data": {
      "text/plain": [
       "0.7806383091287671"
      ]
     },
     "execution_count": 82,
     "metadata": {},
     "output_type": "execute_result"
    }
   ],
   "source": [
    "dt_clf_musk2 = DecisionTreeClassifier(random_state=42)\n",
    "np.mean(cross_val_score(dt_clf_musk2,df_musk2,y_musk2,cv=10,scoring='accuracy'))"
   ]
  },
  {
   "cell_type": "code",
   "execution_count": 83,
   "metadata": {},
   "outputs": [
    {
     "data": {
      "text/plain": [
       "0.8508616605750896"
      ]
     },
     "execution_count": 83,
     "metadata": {},
     "output_type": "execute_result"
    }
   ],
   "source": [
    "svm_clf_musk2 = SVC(random_state=42,kernel='rbf',gamma='scale')\n",
    "np.mean(cross_val_score(svm_clf_musk2,df_musk2,y_musk2,cv=10,scoring='accuracy'))"
   ]
  },
  {
   "cell_type": "code",
   "execution_count": 84,
   "metadata": {},
   "outputs": [
    {
     "name": "stdout",
     "output_type": "stream",
     "text": [
      "features selected:  37\n"
     ]
    },
    {
     "name": "stderr",
     "output_type": "stream",
     "text": [
      "C:\\Users\\kaumi\\Anaconda3\\lib\\site-packages\\ipykernel_launcher.py:7: SettingWithCopyWarning: \n",
      "A value is trying to be set on a copy of a slice from a DataFrame.\n",
      "Try using .loc[row_indexer,col_indexer] = value instead\n",
      "\n",
      "See the caveats in the documentation: http://pandas.pydata.org/pandas-docs/stable/indexing.html#indexing-view-versus-copy\n",
      "  import sys\n"
     ]
    },
    {
     "data": {
      "text/plain": [
       "0.8537402261894055"
      ]
     },
     "execution_count": 84,
     "metadata": {},
     "output_type": "execute_result"
    }
   ],
   "source": [
    "dt_clf_musk2.fit(X_train_musk2,y_train_musk2)\n",
    "sel_musk2= SelectFromModel(dt_clf_musk2,prefit=True)\n",
    "# sel_musk2.fit(df_musk2,y_musk2)\n",
    "print(\"features selected: \",sum(sel_musk2.get_support()))\n",
    "selected_feat_df_musk2 = df_musk2.loc[:,sel_musk2.get_support()]\n",
    "# dt_clf_musk2.fit(X_train_musk2,y_train_musk2)\n",
    "selected_feat_df_musk2['dt_output']=dt_clf_musk2.predict(df_musk2)\n",
    "np.mean(cross_val_score(svm_clf_musk2,selected_feat_df_musk2,y_musk2,cv=10,scoring='accuracy'))"
   ]
  },
  {
   "cell_type": "markdown",
   "metadata": {},
   "source": [
    "# Ozone"
   ]
  },
  {
   "cell_type": "code",
   "execution_count": 85,
   "metadata": {},
   "outputs": [],
   "source": [
    "df_ozone = pd.read_csv(os.path.join(PATH,\"ozone/ozone.data\"),header=None)\n",
    "\n",
    "df_ozone = df_ozone.replace('?',np.NAN)\n",
    "df_ozone = df_ozone.dropna()\n",
    "\n",
    "y_ozone = df_ozone[73]\n",
    "df_ozone = df_ozone.drop([0,73],axis=1)\n",
    "\n",
    "X_train_ozone,X_test_ozone,y_train_ozone,y_test_ozone = train_test_split(df_ozone,y_ozone,random_state=42)"
   ]
  },
  {
   "cell_type": "code",
   "execution_count": 86,
   "metadata": {},
   "outputs": [
    {
     "data": {
      "text/plain": [
       "0.892270215689674"
      ]
     },
     "execution_count": 86,
     "metadata": {},
     "output_type": "execute_result"
    }
   ],
   "source": [
    "dt_clf_ozone = DecisionTreeClassifier(random_state=42)\n",
    "np.mean(cross_val_score(dt_clf_ozone,df_ozone,y_ozone,cv=10,scoring='accuracy'))"
   ]
  },
  {
   "cell_type": "code",
   "execution_count": 87,
   "metadata": {},
   "outputs": [
    {
     "data": {
      "text/plain": [
       "0.9307046676041688"
      ]
     },
     "execution_count": 87,
     "metadata": {},
     "output_type": "execute_result"
    }
   ],
   "source": [
    "svm_clf_ozone = SVC(random_state=42,kernel='rbf',gamma='scale')\n",
    "np.mean(cross_val_score(svm_clf_ozone,df_ozone,y_ozone,cv=10,scoring='accuracy'))"
   ]
  },
  {
   "cell_type": "code",
   "execution_count": 88,
   "metadata": {},
   "outputs": [
    {
     "name": "stdout",
     "output_type": "stream",
     "text": [
      "features selected:  24\n"
     ]
    },
    {
     "name": "stderr",
     "output_type": "stream",
     "text": [
      "C:\\Users\\kaumi\\Anaconda3\\lib\\site-packages\\ipykernel_launcher.py:7: SettingWithCopyWarning: \n",
      "A value is trying to be set on a copy of a slice from a DataFrame.\n",
      "Try using .loc[row_indexer,col_indexer] = value instead\n",
      "\n",
      "See the caveats in the documentation: http://pandas.pydata.org/pandas-docs/stable/indexing.html#indexing-view-versus-copy\n",
      "  import sys\n"
     ]
    },
    {
     "data": {
      "text/plain": [
       "0.9307046676041688"
      ]
     },
     "execution_count": 88,
     "metadata": {},
     "output_type": "execute_result"
    }
   ],
   "source": [
    "dt_clf_ozone.fit(X_train_ozone,y_train_ozone)\n",
    "sel_ozone= SelectFromModel(dt_clf_ozone,prefit=True)\n",
    "# sel_ozone.fit(df_ozone,y_ozone)\n",
    "print(\"features selected: \",sum(sel_ozone.get_support()))\n",
    "selected_feat_df_ozone = df_ozone.loc[:,sel_ozone.get_support()]\n",
    "# dt_clf_ozone.fit(X_train_ozone,y_train_ozone)\n",
    "selected_feat_df_ozone['dt_output']=dt_clf_ozone.predict(df_ozone)\n",
    "np.mean(cross_val_score(svm_clf_ozone,selected_feat_df_ozone,y_ozone,cv=10,scoring='accuracy'))"
   ]
  },
  {
   "cell_type": "markdown",
   "metadata": {},
   "source": [
    "# Parkinsons"
   ]
  },
  {
   "cell_type": "code",
   "execution_count": 89,
   "metadata": {},
   "outputs": [],
   "source": [
    "df_parkinsons = pd.read_csv(os.path.join(PATH,\"parkinsons/parkinsons.data\"))\n",
    "\n",
    "y_parkinsons = df_parkinsons['status']\n",
    "df_parkinsons = df_parkinsons.drop(['name','status'],axis=1)\n",
    "\n",
    "X_train_parkinsons,X_test_parkinsons,y_train_parkinsons,y_test_parkinsons = train_test_split(df_parkinsons,y_parkinsons,random_state=42)"
   ]
  },
  {
   "cell_type": "code",
   "execution_count": 90,
   "metadata": {},
   "outputs": [
    {
     "data": {
      "text/plain": [
       "0.8040058479532164"
      ]
     },
     "execution_count": 90,
     "metadata": {},
     "output_type": "execute_result"
    }
   ],
   "source": [
    "dt_clf_parkinsons = DecisionTreeClassifier(random_state=42)\n",
    "np.mean(cross_val_score(dt_clf_parkinsons,df_parkinsons,y_parkinsons,cv=10,scoring='accuracy'))"
   ]
  },
  {
   "cell_type": "code",
   "execution_count": 91,
   "metadata": {},
   "outputs": [
    {
     "data": {
      "text/plain": [
       "0.7637134502923976"
      ]
     },
     "execution_count": 91,
     "metadata": {},
     "output_type": "execute_result"
    }
   ],
   "source": [
    "svm_clf_parkinsons = SVC(random_state=42,kernel='rbf',gamma='scale')\n",
    "np.mean(cross_val_score(svm_clf_parkinsons,df_parkinsons,y_parkinsons,cv=10,scoring='accuracy'))"
   ]
  },
  {
   "cell_type": "code",
   "execution_count": 182,
   "metadata": {
    "scrolled": true
   },
   "outputs": [
    {
     "name": "stdout",
     "output_type": "stream",
     "text": [
      "features selected:  6\n"
     ]
    },
    {
     "name": "stderr",
     "output_type": "stream",
     "text": [
      "C:\\Users\\kaumi\\Anaconda3\\lib\\site-packages\\ipykernel_launcher.py:7: SettingWithCopyWarning: \n",
      "A value is trying to be set on a copy of a slice from a DataFrame.\n",
      "Try using .loc[row_indexer,col_indexer] = value instead\n",
      "\n",
      "See the caveats in the documentation: http://pandas.pydata.org/pandas-docs/stable/indexing.html#indexing-view-versus-copy\n",
      "  import sys\n"
     ]
    },
    {
     "data": {
      "text/plain": [
       "0.8957600337131515"
      ]
     },
     "execution_count": 182,
     "metadata": {},
     "output_type": "execute_result"
    }
   ],
   "source": [
    "dt_clf_parkinsons.fit(X_train_parkinsons,y_train_parkinsons)\n",
    "sel_parkinsons= SelectFromModel(dt_clf_parkinsons,prefit=True)\n",
    "# sel_parkinsons.fit(df_parkinsons,y_parkinsons)\n",
    "print(\"features selected: \",sum(sel_parkinsons.get_support()))\n",
    "selected_feat_df_parkinsons = df_parkinsons.loc[:,sel_parkinsons.get_support()]\n",
    "# dt_clf_parkinsons.fit(X_train_parkinsons,y_train_parkinsons)\n",
    "selected_feat_df_parkinsons['dt_output']=dt_clf_parkinsons.predict(df_parkinsons)\n",
    "np.mean(cross_val_score(svm_clf_parkinsons,selected_feat_df_parkinsons,y_parkinsons,cv=10,scoring='f1'))"
   ]
  },
  {
   "cell_type": "markdown",
   "metadata": {},
   "source": [
    "# Planning"
   ]
  },
  {
   "cell_type": "code",
   "execution_count": 92,
   "metadata": {},
   "outputs": [],
   "source": [
    "df_planning = pd.read_csv(os.path.join(PATH,\"planning/plrx.txt\"),sep='\\t',header=None)\n",
    "\n",
    "y_planning = df_planning[12]\n",
    "df_planning = df_planning.drop([12,13],axis=1)\n",
    "y_planning = y_planning.map({1.0:0,2.0:1})\n",
    "\n",
    "X_train_planning,X_test_planning,y_train_planning,y_test_planning = train_test_split(df_planning,y_planning,random_state=42)"
   ]
  },
  {
   "cell_type": "code",
   "execution_count": 93,
   "metadata": {},
   "outputs": [
    {
     "data": {
      "text/plain": [
       "0.5336257309941521"
      ]
     },
     "execution_count": 93,
     "metadata": {},
     "output_type": "execute_result"
    }
   ],
   "source": [
    "dt_clf_planning = DecisionTreeClassifier(random_state=42)\n",
    "np.mean(cross_val_score(dt_clf_planning,df_planning,y_planning,cv=10,scoring='accuracy'))"
   ]
  },
  {
   "cell_type": "code",
   "execution_count": 94,
   "metadata": {},
   "outputs": [
    {
     "data": {
      "text/plain": [
       "0.7146198830409357"
      ]
     },
     "execution_count": 94,
     "metadata": {},
     "output_type": "execute_result"
    }
   ],
   "source": [
    "svm_clf_planning = SVC(random_state=42,kernel='rbf',gamma='scale')\n",
    "np.mean(cross_val_score(svm_clf_planning,df_planning,y_planning,cv=10,scoring='accuracy'))"
   ]
  },
  {
   "cell_type": "code",
   "execution_count": 95,
   "metadata": {},
   "outputs": [
    {
     "name": "stdout",
     "output_type": "stream",
     "text": [
      "features selected:  4\n"
     ]
    },
    {
     "name": "stderr",
     "output_type": "stream",
     "text": [
      "C:\\Users\\kaumi\\Anaconda3\\lib\\site-packages\\ipykernel_launcher.py:7: SettingWithCopyWarning: \n",
      "A value is trying to be set on a copy of a slice from a DataFrame.\n",
      "Try using .loc[row_indexer,col_indexer] = value instead\n",
      "\n",
      "See the caveats in the documentation: http://pandas.pydata.org/pandas-docs/stable/indexing.html#indexing-view-versus-copy\n",
      "  import sys\n"
     ]
    },
    {
     "data": {
      "text/plain": [
       "0.87953216374269"
      ]
     },
     "execution_count": 95,
     "metadata": {},
     "output_type": "execute_result"
    }
   ],
   "source": [
    "dt_clf_planning.fit(X_train_planning,y_train_planning)\n",
    "sel_planning= SelectFromModel(dt_clf_planning,prefit=True)\n",
    "# sel_planning.fit(df_planning,y_planning)\n",
    "print(\"features selected: \",sum(sel_planning.get_support()))\n",
    "selected_feat_df_planning = df_planning.loc[:,sel_planning.get_support()]\n",
    "# dt_clf_planning.fit(X_train_planning,y_train_planning)\n",
    "selected_feat_df_planning['dt_output']=dt_clf_planning.predict(df_planning)\n",
    "np.mean(cross_val_score(svm_clf_planning,selected_feat_df_planning,y_planning,cv=10,scoring='accuracy'))"
   ]
  },
  {
   "cell_type": "markdown",
   "metadata": {},
   "source": [
    "# Ringnorm"
   ]
  },
  {
   "cell_type": "code",
   "execution_count": 96,
   "metadata": {},
   "outputs": [],
   "source": [
    "df_ringnorm = pd.read_csv(os.path.join(PATH,\"ringnorm/ringnorm.csv\"))\n",
    "\n",
    "y_ringnorm = df_ringnorm['Class']\n",
    "df_ringnorm = df_ringnorm.drop(['Class'],axis=1)\n",
    "y_ringnorm = y_ringnorm.map({1:0,2:1})\n",
    "\n",
    "X_train_ringnorm,X_test_ringnorm,y_train_ringnorm,y_test_ringnorm = train_test_split(df_ringnorm,y_ringnorm,random_state=42)"
   ]
  },
  {
   "cell_type": "code",
   "execution_count": 97,
   "metadata": {},
   "outputs": [
    {
     "data": {
      "text/plain": [
       "0.8759433910580553"
      ]
     },
     "execution_count": 97,
     "metadata": {},
     "output_type": "execute_result"
    }
   ],
   "source": [
    "dt_clf_ringnorm = DecisionTreeClassifier(random_state=42)\n",
    "np.mean(cross_val_score(dt_clf_ringnorm,df_ringnorm,y_ringnorm,cv=10,scoring='accuracy'))"
   ]
  },
  {
   "cell_type": "code",
   "execution_count": 98,
   "metadata": {},
   "outputs": [
    {
     "data": {
      "text/plain": [
       "0.504864871774636"
      ]
     },
     "execution_count": 98,
     "metadata": {},
     "output_type": "execute_result"
    }
   ],
   "source": [
    "svm_clf_ringnorm = SVC(random_state=42,kernel='rbf',gamma='scale')\n",
    "np.mean(cross_val_score(svm_clf_ringnorm,df_ringnorm,y_ringnorm,cv=10,scoring='accuracy'))"
   ]
  },
  {
   "cell_type": "code",
   "execution_count": 99,
   "metadata": {},
   "outputs": [
    {
     "name": "stdout",
     "output_type": "stream",
     "text": [
      "features selected:  8\n"
     ]
    },
    {
     "name": "stderr",
     "output_type": "stream",
     "text": [
      "C:\\Users\\kaumi\\Anaconda3\\lib\\site-packages\\ipykernel_launcher.py:7: SettingWithCopyWarning: \n",
      "A value is trying to be set on a copy of a slice from a DataFrame.\n",
      "Try using .loc[row_indexer,col_indexer] = value instead\n",
      "\n",
      "See the caveats in the documentation: http://pandas.pydata.org/pandas-docs/stable/indexing.html#indexing-view-versus-copy\n",
      "  import sys\n"
     ]
    },
    {
     "data": {
      "text/plain": [
       "0.504864871774636"
      ]
     },
     "execution_count": 99,
     "metadata": {},
     "output_type": "execute_result"
    }
   ],
   "source": [
    "dt_clf_ringnorm.fit(X_train_ringnorm,y_train_ringnorm)\n",
    "sel_ringnorm= SelectFromModel(dt_clf_ringnorm,prefit=True)\n",
    "# sel_ringnorm.fit(df_ringnorm,y_ringnorm)\n",
    "print(\"features selected: \",sum(sel_ringnorm.get_support()))\n",
    "selected_feat_df_ringnorm = df_ringnorm.loc[:,sel_ringnorm.get_support()]\n",
    "# dt_clf_ringnorm.fit(X_train_ringnorm,y_train_ringnorm)\n",
    "selected_feat_df_ringnorm['dt_output']=dt_clf_ringnorm.predict(df_ringnorm)\n",
    "np.mean(cross_val_score(svm_clf_ringnorm,selected_feat_df_ringnorm,y_ringnorm,cv=10,scoring='accuracy'))"
   ]
  },
  {
   "cell_type": "markdown",
   "metadata": {},
   "source": [
    "# Spambase"
   ]
  },
  {
   "cell_type": "code",
   "execution_count": 100,
   "metadata": {},
   "outputs": [],
   "source": [
    "df_spam = pd.read_csv(os.path.join(PATH,\"spambase/spambase.data\"),header=None)\n",
    "\n",
    "y_spam = df_spam[57]\n",
    "df_spam = df_spam.drop([57],axis=1)\n",
    "\n",
    "X_train_spam,X_test_spam,y_train_spam,y_test_spam = train_test_split(df_spam,y_spam,random_state=42)"
   ]
  },
  {
   "cell_type": "code",
   "execution_count": 101,
   "metadata": {},
   "outputs": [
    {
     "data": {
      "text/plain": [
       "0.8993253255696738"
      ]
     },
     "execution_count": 101,
     "metadata": {},
     "output_type": "execute_result"
    }
   ],
   "source": [
    "dt_clf_spam = DecisionTreeClassifier(random_state=42)\n",
    "np.mean(cross_val_score(dt_clf_spam,df_spam,y_spam,cv=10,scoring='accuracy'))"
   ]
  },
  {
   "cell_type": "code",
   "execution_count": 102,
   "metadata": {},
   "outputs": [
    {
     "data": {
      "text/plain": [
       "0.7717937980310172"
      ]
     },
     "execution_count": 102,
     "metadata": {},
     "output_type": "execute_result"
    }
   ],
   "source": [
    "svm_clf_spam = SVC(random_state=42,kernel='rbf',gamma='scale')\n",
    "np.mean(cross_val_score(svm_clf_spam,df_spam,y_spam,cv=10,scoring='accuracy'))"
   ]
  },
  {
   "cell_type": "code",
   "execution_count": 103,
   "metadata": {},
   "outputs": [
    {
     "name": "stdout",
     "output_type": "stream",
     "text": [
      "features selected:  11\n"
     ]
    },
    {
     "name": "stderr",
     "output_type": "stream",
     "text": [
      "C:\\Users\\kaumi\\Anaconda3\\lib\\site-packages\\ipykernel_launcher.py:7: SettingWithCopyWarning: \n",
      "A value is trying to be set on a copy of a slice from a DataFrame.\n",
      "Try using .loc[row_indexer,col_indexer] = value instead\n",
      "\n",
      "See the caveats in the documentation: http://pandas.pydata.org/pandas-docs/stable/indexing.html#indexing-view-versus-copy\n",
      "  import sys\n"
     ]
    },
    {
     "data": {
      "text/plain": [
       "0.7876648272563136"
      ]
     },
     "execution_count": 103,
     "metadata": {},
     "output_type": "execute_result"
    }
   ],
   "source": [
    "dt_clf_spam.fit(X_train_spam,y_train_spam)\n",
    "sel_spam = SelectFromModel(dt_clf_spam,prefit=True)\n",
    "# sel_spam.fit(df_spam,y_spam)\n",
    "print(\"features selected: \",sum(sel_spam.get_support()))\n",
    "selected_feat_df_spam = df_spam.loc[:,sel_spam.get_support()]\n",
    "# dt_clf_spam.fit(X_train_spam,y_train_spam)\n",
    "selected_feat_df_spam['dt_output']=dt_clf_spam.predict(df_spam)\n",
    "np.mean(cross_val_score(svm_clf_spam,selected_feat_df_spam,y_spam,cv=10,scoring='accuracy'))"
   ]
  },
  {
   "cell_type": "markdown",
   "metadata": {},
   "source": [
    "# Australian Credit"
   ]
  },
  {
   "cell_type": "code",
   "execution_count": 104,
   "metadata": {},
   "outputs": [],
   "source": [
    "df_auscred = pd.read_csv(os.path.join(PATH,\"australian-credit/australian.dat\"),header=None,sep=\" \")\n",
    "\n",
    "y_auscred = df_auscred[14]\n",
    "df_auscred = df_auscred.drop([14],axis=1)\n",
    "\n",
    "X_train_auscred,X_test_auscred,y_train_auscred,y_test_auscred = train_test_split(df_auscred,y_auscred,random_state=42)"
   ]
  },
  {
   "cell_type": "code",
   "execution_count": 105,
   "metadata": {},
   "outputs": [
    {
     "data": {
      "text/plain": [
       "0.8070539520155888"
      ]
     },
     "execution_count": 105,
     "metadata": {},
     "output_type": "execute_result"
    }
   ],
   "source": [
    "dt_clf_auscred = DecisionTreeClassifier(random_state=42)\n",
    "np.mean(cross_val_score(dt_clf_auscred,df_auscred,y_auscred,cv=10,scoring='accuracy'))"
   ]
  },
  {
   "cell_type": "code",
   "execution_count": 106,
   "metadata": {},
   "outputs": [
    {
     "data": {
      "text/plain": [
       "0.6796078431372549"
      ]
     },
     "execution_count": 106,
     "metadata": {},
     "output_type": "execute_result"
    }
   ],
   "source": [
    "svm_clf_auscred = SVC(random_state=42,kernel='rbf',gamma='scale')\n",
    "np.mean(cross_val_score(svm_clf_auscred,df_auscred,y_auscred,cv=10,scoring='accuracy'))"
   ]
  },
  {
   "cell_type": "code",
   "execution_count": 107,
   "metadata": {},
   "outputs": [
    {
     "name": "stdout",
     "output_type": "stream",
     "text": [
      "features selected:  2\n"
     ]
    },
    {
     "name": "stderr",
     "output_type": "stream",
     "text": [
      "C:\\Users\\kaumi\\Anaconda3\\lib\\site-packages\\ipykernel_launcher.py:8: SettingWithCopyWarning: \n",
      "A value is trying to be set on a copy of a slice from a DataFrame.\n",
      "Try using .loc[row_indexer,col_indexer] = value instead\n",
      "\n",
      "See the caveats in the documentation: http://pandas.pydata.org/pandas-docs/stable/indexing.html#indexing-view-versus-copy\n",
      "  \n"
     ]
    },
    {
     "data": {
      "text/plain": [
       "0.9463080014614542"
      ]
     },
     "execution_count": 107,
     "metadata": {},
     "output_type": "execute_result"
    }
   ],
   "source": [
    "dt_clf_auscred.fit(X_train_auscred,y_train_auscred)\n",
    "sel_auscred = SelectFromModel(dt_clf_auscred,prefit=True)\n",
    "# sel_auscred.fit(df_auscred,y_auscred)\n",
    "print(\"features selected: \",sum(sel_auscred.get_support()))\n",
    "selected_feat_df_auscred = df_auscred.loc[:,sel_auscred.get_support()]\n",
    "# selected_feat_df_auscred = df_auscred\n",
    "# dt_clf_auscred.fit(X_train_auscred,y_train_auscred)\n",
    "selected_feat_df_auscred['dt_output']=dt_clf_auscred.predict(df_auscred)\n",
    "np.mean(cross_val_score(svm_clf_auscred,selected_feat_df_auscred,y_auscred,cv=10,scoring='accuracy'))"
   ]
  },
  {
   "cell_type": "markdown",
   "metadata": {},
   "source": [
    "# German credit"
   ]
  },
  {
   "cell_type": "code",
   "execution_count": 108,
   "metadata": {},
   "outputs": [],
   "source": [
    "df_german = pd.read_csv(os.path.join(PATH,'german-credit/german_credit_data.csv'))\n",
    "\n",
    "df_german = df_german.dropna()\n",
    "y_german = df_german['Risk']\n",
    "df_german = df_german.drop(['Unnamed: 0','Risk'],axis=1)\n",
    "df_german = pd.get_dummies(df_german)\n",
    "y_german = y_german.map({'bad':1,'good':0})\n",
    "X_train_german,X_test_german,y_train_german,y_test_german = train_test_split(df_german,y_german,random_state=42)"
   ]
  },
  {
   "cell_type": "code",
   "execution_count": 109,
   "metadata": {},
   "outputs": [
    {
     "data": {
      "text/plain": [
       "0.5816239316239317"
      ]
     },
     "execution_count": 109,
     "metadata": {},
     "output_type": "execute_result"
    }
   ],
   "source": [
    "dt_clf_german = DecisionTreeClassifier(random_state=42)\n",
    "np.mean(cross_val_score(dt_clf_german,df_german,y_german,cv=10,scoring='accuracy'))"
   ]
  },
  {
   "cell_type": "code",
   "execution_count": 110,
   "metadata": {},
   "outputs": [
    {
     "data": {
      "text/plain": [
       "0.5898148148148148"
      ]
     },
     "execution_count": 110,
     "metadata": {},
     "output_type": "execute_result"
    }
   ],
   "source": [
    "svm_clf_german = SVC(random_state=42,kernel='rbf',gamma='scale')\n",
    "np.mean(cross_val_score(svm_clf_german,df_german,y_german,cv=10,scoring='accuracy'))"
   ]
  },
  {
   "cell_type": "code",
   "execution_count": 111,
   "metadata": {},
   "outputs": [
    {
     "name": "stdout",
     "output_type": "stream",
     "text": [
      "features selected:  5\n"
     ]
    },
    {
     "name": "stderr",
     "output_type": "stream",
     "text": [
      "C:\\Users\\kaumi\\Anaconda3\\lib\\site-packages\\ipykernel_launcher.py:8: SettingWithCopyWarning: \n",
      "A value is trying to be set on a copy of a slice from a DataFrame.\n",
      "Try using .loc[row_indexer,col_indexer] = value instead\n",
      "\n",
      "See the caveats in the documentation: http://pandas.pydata.org/pandas-docs/stable/indexing.html#indexing-view-versus-copy\n",
      "  \n"
     ]
    },
    {
     "data": {
      "text/plain": [
       "0.5841168091168092"
      ]
     },
     "execution_count": 111,
     "metadata": {},
     "output_type": "execute_result"
    }
   ],
   "source": [
    "dt_clf_german.fit(X_train_german,y_train_german)\n",
    "sel_german = SelectFromModel(dt_clf_german,prefit=True)\n",
    "# sel_german.fit(df_german,y_german)\n",
    "print(\"features selected: \",sum(sel_german.get_support()))\n",
    "selected_feat_df_german = df_german.loc[:,sel_german.get_support()]\n",
    "# selected_feat_df_german = df_german\n",
    "# dt_clf_german.fit(X_train_german,y_train_german)\n",
    "selected_feat_df_german['dt_output']=dt_clf_german.predict(df_german)\n",
    "np.mean(cross_val_score(svm_clf_german,selected_feat_df_german,y_german,cv=10,scoring='accuracy'))"
   ]
  },
  {
   "cell_type": "markdown",
   "metadata": {},
   "source": [
    "# Tic-Tac-Toe"
   ]
  },
  {
   "cell_type": "code",
   "execution_count": 112,
   "metadata": {},
   "outputs": [],
   "source": [
    "df_tictac = pd.read_csv(os.path.join(PATH,\"tictactoe/tic-tac-toe.data\"),header=None)\n",
    "\n",
    "y_tictac = df_tictac[9]\n",
    "y_tictac = y_tictac.map({'positive':0,'negative':1})\n",
    "df_tictac = df_tictac.drop([9],axis=1)\n",
    "\n",
    "df_tictac = pd.get_dummies(df_tictac)\n",
    "X_train_tictac,X_test_tictac,y_train_tictac,y_test_tictac = train_test_split(df_tictac,y_tictac,random_state=42)"
   ]
  },
  {
   "cell_type": "code",
   "execution_count": 113,
   "metadata": {},
   "outputs": [
    {
     "data": {
      "text/plain": [
       "0.811394239464641"
      ]
     },
     "execution_count": 113,
     "metadata": {},
     "output_type": "execute_result"
    }
   ],
   "source": [
    "dt_clf_tictac  = DecisionTreeClassifier(random_state=42)\n",
    "np.mean(cross_val_score(dt_clf_tictac,df_tictac,y_tictac,cv=10,scoring='accuracy'))"
   ]
  },
  {
   "cell_type": "code",
   "execution_count": 114,
   "metadata": {},
   "outputs": [
    {
     "data": {
      "text/plain": [
       "0.8875460074154458"
      ]
     },
     "execution_count": 114,
     "metadata": {},
     "output_type": "execute_result"
    }
   ],
   "source": [
    "svm_clf_tictac = SVC(random_state=42,kernel='rbf',gamma='scale')\n",
    "np.mean(cross_val_score(svm_clf_tictac,df_tictac,y_tictac,cv=10,scoring='accuracy'))"
   ]
  },
  {
   "cell_type": "code",
   "execution_count": 115,
   "metadata": {},
   "outputs": [
    {
     "name": "stdout",
     "output_type": "stream",
     "text": [
      "features selected:  13\n"
     ]
    },
    {
     "name": "stderr",
     "output_type": "stream",
     "text": [
      "C:\\Users\\kaumi\\Anaconda3\\lib\\site-packages\\ipykernel_launcher.py:7: SettingWithCopyWarning: \n",
      "A value is trying to be set on a copy of a slice from a DataFrame.\n",
      "Try using .loc[row_indexer,col_indexer] = value instead\n",
      "\n",
      "See the caveats in the documentation: http://pandas.pydata.org/pandas-docs/stable/indexing.html#indexing-view-versus-copy\n",
      "  import sys\n"
     ]
    },
    {
     "data": {
      "text/plain": [
       "0.9823229788388497"
      ]
     },
     "execution_count": 115,
     "metadata": {},
     "output_type": "execute_result"
    }
   ],
   "source": [
    "dt_clf_tictac.fit(X_train_tictac,y_train_tictac)\n",
    "sel_tictac = SelectFromModel(dt_clf_tictac,prefit=True)\n",
    "# sel_tictac.fit(df_tictac,y_tictac)\n",
    "print(\"features selected: \",sum(sel_tictac.get_support()))\n",
    "selected_feat_df_tictac = df_tictac.loc[:,sel_tictac.get_support()]\n",
    "# dt_clf_tictac.fit(X_train_tictac,y_train_tictac)\n",
    "selected_feat_df_tictac['dt_output']=dt_clf_tictac.predict(df_tictac)\n",
    "np.mean(cross_val_score(svm_clf_tictac,selected_feat_df_tictac,y_tictac,cv=10,scoring='accuracy'))"
   ]
  },
  {
   "cell_type": "markdown",
   "metadata": {},
   "source": [
    "# Twonorm"
   ]
  },
  {
   "cell_type": "code",
   "execution_count": 116,
   "metadata": {},
   "outputs": [],
   "source": [
    "df_twonorm = pd.read_csv(os.path.join(PATH,\"twonorm/twonorm.csv\"))\n",
    "\n",
    "y_twonorm = df_twonorm['Class']\n",
    "df_twonorm = df_twonorm.drop(['Class'],axis=1)\n",
    "y_twonorm = y_twonorm.map({1:0,2:1})\n",
    "\n",
    "X_train_twonorm,X_test_twonorm,y_train_twonorm,y_test_twonorm = train_test_split(df_twonorm,y_twonorm,random_state=42)"
   ]
  },
  {
   "cell_type": "code",
   "execution_count": 117,
   "metadata": {},
   "outputs": [
    {
     "data": {
      "text/plain": [
       "0.8377012568330849"
      ]
     },
     "execution_count": 117,
     "metadata": {},
     "output_type": "execute_result"
    }
   ],
   "source": [
    "dt_clf_twonorm  = DecisionTreeClassifier(random_state=42)\n",
    "np.mean(cross_val_score(dt_clf_twonorm,df_twonorm,y_twonorm,cv=10,scoring='accuracy'))"
   ]
  },
  {
   "cell_type": "code",
   "execution_count": 118,
   "metadata": {},
   "outputs": [
    {
     "data": {
      "text/plain": [
       "0.9767547220759243"
      ]
     },
     "execution_count": 118,
     "metadata": {},
     "output_type": "execute_result"
    }
   ],
   "source": [
    "svm_clf_twonorm = SVC(random_state=42,kernel='rbf',gamma='scale')\n",
    "np.mean(cross_val_score(svm_clf_twonorm,df_twonorm,y_twonorm,cv=10,scoring='accuracy'))"
   ]
  },
  {
   "cell_type": "code",
   "execution_count": 119,
   "metadata": {},
   "outputs": [
    {
     "name": "stdout",
     "output_type": "stream",
     "text": [
      "features selected:  7\n"
     ]
    },
    {
     "name": "stderr",
     "output_type": "stream",
     "text": [
      "C:\\Users\\kaumi\\Anaconda3\\lib\\site-packages\\ipykernel_launcher.py:7: SettingWithCopyWarning: \n",
      "A value is trying to be set on a copy of a slice from a DataFrame.\n",
      "Try using .loc[row_indexer,col_indexer] = value instead\n",
      "\n",
      "See the caveats in the documentation: http://pandas.pydata.org/pandas-docs/stable/indexing.html#indexing-view-versus-copy\n",
      "  import sys\n"
     ]
    },
    {
     "data": {
      "text/plain": [
       "0.9636495200201489"
      ]
     },
     "execution_count": 119,
     "metadata": {},
     "output_type": "execute_result"
    }
   ],
   "source": [
    "dt_clf_twonorm.fit(X_train_twonorm,y_train_twonorm)\n",
    "sel_twonorm = SelectFromModel(dt_clf_twonorm,prefit=True)\n",
    "# sel_twonorm.fit(df_twonorm,y_twonorm)\n",
    "print(\"features selected: \",sum(sel_twonorm.get_support()))\n",
    "selected_feat_df_twonorm = df_twonorm.loc[:,sel_twonorm.get_support()]\n",
    "# dt_clf_twonorm.fit(X_train_twonorm,y_train_twonorm)\n",
    "selected_feat_df_twonorm['dt_output']=dt_clf_twonorm.predict(df_twonorm)\n",
    "np.mean(cross_val_score(svm_clf_twonorm,selected_feat_df_twonorm,y_twonorm,cv=10,scoring='accuracy'))"
   ]
  },
  {
   "cell_type": "code",
   "execution_count": null,
   "metadata": {},
   "outputs": [],
   "source": []
  }
 ],
 "metadata": {
  "kernelspec": {
   "display_name": "Python 3",
   "language": "python",
   "name": "python3"
  },
  "language_info": {
   "codemirror_mode": {
    "name": "ipython",
    "version": 3
   },
   "file_extension": ".py",
   "mimetype": "text/x-python",
   "name": "python",
   "nbconvert_exporter": "python",
   "pygments_lexer": "ipython3",
   "version": "3.6.5"
  }
 },
 "nbformat": 4,
 "nbformat_minor": 2
}
